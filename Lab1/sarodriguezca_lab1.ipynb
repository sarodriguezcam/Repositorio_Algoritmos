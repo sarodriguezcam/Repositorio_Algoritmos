{
  "nbformat": 4,
  "nbformat_minor": 0,
  "metadata": {
    "colab": {
      "name": "sarodriguezca_lab1.ipynb",
      "provenance": [],
      "collapsed_sections": []
    },
    "kernelspec": {
      "display_name": "Python 3",
      "language": "python",
      "name": "python3"
    },
    "language_info": {
      "codemirror_mode": {
        "name": "ipython",
        "version": 3
      },
      "file_extension": ".py",
      "mimetype": "text/x-python",
      "name": "python",
      "nbconvert_exporter": "python",
      "pygments_lexer": "ipython3",
      "version": "3.6.4"
    }
  },
  "cells": [
    {
      "cell_type": "markdown",
      "metadata": {
        "id": "eQzBbvyKQymx"
      },
      "source": [
        "<div align=\"center\">\n",
        "<img style=\"display: block; margin: auto;\" alt=\"photo\" src=\"https://cdn.quantconnect.com/web/i/icon.png\">\n",
        "\n",
        "Quantconnect\n",
        "\n",
        "Introduction to Financial Python\n",
        "</div>\n",
        "\n",
        "# 01 Data Types and Data Structures\n",
        "\n",
        "# Introduction\n",
        "\n",
        "This tutorial provides a basic introduction to the Python programming language. If you are new to Python, you should run the code snippets while reading this tutorial. If you are an advanced Python user, please feel free to skip this chapter.\n",
        "\n",
        "# Basic Variable Types\n",
        "The basic types of variables in Python are: strings, integers, floating point numbers and booleans.\n",
        "\n",
        "Strings in python are identified as a contiguous set of characters represented in either single quotes (' ') or double quotes (\" \").\n"
      ]
    },
    {
      "cell_type": "code",
      "metadata": {
        "colab": {
          "base_uri": "https://localhost:8080/"
        },
        "id": "N5t-UrcfOqid",
        "outputId": "a482d01e-ade3-4bc8-dc1a-c766df3a91c9"
      },
      "source": [
        "my_string1 = 'Welcome to' #creation of strings\n",
        "my_string2 = \"QuantConnect\"\n",
        "print(my_string1 + ' ' + my_string2) #use of the function print to show the user the two strings created, separated by a space\n",
        "my_string3 = 'Time to'\n",
        "my_string4 = \"learn Python\"\n",
        "print(my_string3 + ' ' + my_string4)"
      ],
      "execution_count": null,
      "outputs": [
        {
          "output_type": "stream",
          "name": "stdout",
          "text": [
            "Welcome to QuantConnect\n",
            "Time to learn Python\n"
          ]
        }
      ]
    },
    {
      "cell_type": "markdown",
      "metadata": {
        "id": "bXHnxZyHSd1M"
      },
      "source": [
        "An integer is a round number with no values after the decimal point."
      ]
    },
    {
      "cell_type": "code",
      "metadata": {
        "colab": {
          "base_uri": "https://localhost:8080/"
        },
        "id": "pNjuz3toOqif",
        "outputId": "005bcbfb-7e57-461f-c1fb-b0bbc6618c74"
      },
      "source": [
        "my_int = 10 #creation of an int of value 10 \n",
        "print(my_int) #prints the value of the variable\n",
        "print(type(my_int)) #prints the data type of the variable\n",
        "\n",
        "my_int2=5\n",
        "my_string ='hola'\n",
        "print(my_int2)\n",
        "print(type(my_int2))\n",
        "print(type(my_string))"
      ],
      "execution_count": null,
      "outputs": [
        {
          "output_type": "stream",
          "name": "stdout",
          "text": [
            "10\n",
            "<class 'int'>\n",
            "5\n",
            "<class 'int'>\n",
            "<class 'str'>\n"
          ]
        }
      ]
    },
    {
      "cell_type": "markdown",
      "metadata": {
        "id": "_1ZanWrYSnzF"
      },
      "source": [
        "The built-in function int() can convert a string into an integer."
      ]
    },
    {
      "cell_type": "code",
      "metadata": {
        "colab": {
          "base_uri": "https://localhost:8080/"
        },
        "id": "zPwGb20FOqif",
        "outputId": "20eb8f3d-2fd0-47c8-ccd2-2d92c31b6e22"
      },
      "source": [
        "my_string = \"100\"\n",
        "print(type(my_string))\n",
        "my_int = int(my_string)#formats string of value \"100\" to int of value 100\n",
        "print(type(my_int))\n",
        "\n",
        "my_string2 = \"-11\"\n",
        "print(type(my_string2))\n",
        "my_int2 = int(my_string2)\n",
        "print(type(my_int2))"
      ],
      "execution_count": null,
      "outputs": [
        {
          "output_type": "stream",
          "name": "stdout",
          "text": [
            "<class 'str'>\n",
            "<class 'int'>\n",
            "<class 'str'>\n",
            "<class 'int'>\n"
          ]
        }
      ]
    },
    {
      "cell_type": "markdown",
      "metadata": {
        "id": "WqMDPDTHSrE9"
      },
      "source": [
        "A floating point number, or a float, is a real number in mathematics. In Python we need to include a value after a decimal point to define it as a float"
      ]
    },
    {
      "cell_type": "code",
      "metadata": {
        "colab": {
          "base_uri": "https://localhost:8080/"
        },
        "id": "otCzKKW9Oqig",
        "outputId": "ff913f35-9d9e-46d6-c103-38dfc517419a"
      },
      "source": [
        "my_string = \"100\"\n",
        "my_float = float(my_string)#formats string of value \"100\" to float of value 100\n",
        "print(type(my_float))\n",
        "\n",
        "my_string2 = \"100.5\"\n",
        "my_float2 = float(my_string2)\n",
        "print(type(my_float2))"
      ],
      "execution_count": null,
      "outputs": [
        {
          "output_type": "stream",
          "name": "stdout",
          "text": [
            "<class 'float'>\n",
            "<class 'float'>\n"
          ]
        }
      ]
    },
    {
      "cell_type": "markdown",
      "metadata": {
        "id": "2iuyv8Q7StTJ"
      },
      "source": [
        "As you can see above, if we don't include a decimal value, the variable would be defined as an integer. The built-in function float() can convert a string or an integer into a float."
      ]
    },
    {
      "cell_type": "code",
      "metadata": {
        "colab": {
          "base_uri": "https://localhost:8080/"
        },
        "id": "wwLw5VthOqig",
        "outputId": "a2fb9414-4a8b-4456-ecfe-d655dfe970f6"
      },
      "source": [
        "my_bool = False #creation of boolean variable\n",
        "print(my_bool)\n",
        "print(type(my_bool)) #prints the data type of the variable\n",
        "\n",
        "my_new_bool = True \n",
        "print(my_new_bool)\n",
        "print(type(my_new_bool)) "
      ],
      "execution_count": null,
      "outputs": [
        {
          "output_type": "stream",
          "name": "stdout",
          "text": [
            "False\n",
            "<class 'bool'>\n",
            "True\n",
            "<class 'bool'>\n"
          ]
        }
      ]
    },
    {
      "cell_type": "markdown",
      "metadata": {
        "id": "bnGMwH21Szr_"
      },
      "source": [
        "A boolean, or bool, is a binary variable. Its value can only be True or False. It is useful when we do some logic operations, which would be covered in our next chapter."
      ]
    },
    {
      "cell_type": "code",
      "metadata": {
        "colab": {
          "base_uri": "https://localhost:8080/"
        },
        "id": "DMa6pDl5Oqig",
        "outputId": "7cb8a6da-1591-4668-eca9-cc859ff6814d"
      },
      "source": [
        "print(\"Addition \", 1+1)\n",
        "print(\"Subtraction \", 5-2)\n",
        "print(\"Multiplication \", 2*3)\n",
        "print(\"Division \", 10/2)\n",
        "print('exponent', 2**3)#the operator ^ is not supported\n",
        "\n",
        "#using math operators and setting the results in variables to print below\n",
        "add=1.9+2\n",
        "sub=1.3 - 2\n",
        "mult=3*0\n",
        "div=5/5\n",
        "exp=5.83**0\n",
        "\n",
        "print(\"\\n\")\n",
        "print(\"New Addition \", add)\n",
        "print(\"New Subtraction \",sub)\n",
        "print(\"New Multiplication \",mult)\n",
        "print(\"New Division \",div)\n",
        "print('New exponent',exp)"
      ],
      "execution_count": null,
      "outputs": [
        {
          "output_type": "stream",
          "name": "stdout",
          "text": [
            "Addition  2\n",
            "Subtraction  3\n",
            "Multiplication  6\n",
            "Division  5.0\n",
            "exponent 8\n",
            "\n",
            "\n",
            "New Addition  3.9\n",
            "New Subtraction  -0.7\n",
            "New Multiplication  0\n",
            "New Division  1.0\n",
            "New exponent 1.0\n"
          ]
        }
      ]
    },
    {
      "cell_type": "markdown",
      "metadata": {
        "id": "1Xc9G9_sS2ju"
      },
      "source": [
        "# Basic Math Operations\n",
        "\n",
        "The basic math operators in python are demonstrated below:"
      ]
    },
    {
      "cell_type": "code",
      "metadata": {
        "colab": {
          "base_uri": "https://localhost:8080/"
        },
        "id": "KE9gUryAOqig",
        "outputId": "bf71ed49-29a4-4b31-829a-78156a9049a0"
      },
      "source": [
        "print(1/3)\n",
        "print(1.0/3)#it is posible to operate integers with floats\n",
        "\n",
        "print(3*2*2)\n",
        "print(6.0+4*1.5)"
      ],
      "execution_count": null,
      "outputs": [
        {
          "output_type": "stream",
          "name": "stdout",
          "text": [
            "0.3333333333333333\n",
            "0.3333333333333333\n",
            "12\n",
            "12.0\n"
          ]
        }
      ]
    },
    {
      "cell_type": "markdown",
      "metadata": {
        "id": "AN5Oa3DoS_Nf"
      },
      "source": [
        "# Data Collections\n",
        "\n",
        "## List\n",
        "A list is an ordered collection of values. A list is mutable, which means you can change a list's value without changing the list itself. Creating a list is simply putting different comma-separated values between square brackets."
      ]
    },
    {
      "cell_type": "code",
      "metadata": {
        "colab": {
          "base_uri": "https://localhost:8080/"
        },
        "id": "-tQdNqCvOqig",
        "outputId": "4a1881d3-dbbc-4e73-cfe3-cf8778b8dd1f"
      },
      "source": [
        "my_list = ['Quant', 'Connect'] #Creation of list with two strings\n",
        "print(my_list)\n",
        "\n",
        "new_list= [\"string\", 2.30,-2, True] #list can hold different data types\n",
        "print(new_list)"
      ],
      "execution_count": null,
      "outputs": [
        {
          "output_type": "stream",
          "name": "stdout",
          "text": [
            "['Quant', 'Connect']\n",
            "['string', 2.3, -2, True]\n"
          ]
        }
      ]
    },
    {
      "cell_type": "markdown",
      "metadata": {
        "id": "1O0TsgZCTHrM"
      },
      "source": [
        "The values in a list are called \"elements\". We can access list elements by indexing. Python index starts from 0. So if you have a list of length n, the index of the first element will be 0, and that of the last element will be n − 1. By the way, the length of a list can be obtained by the built-in function len()."
      ]
    },
    {
      "cell_type": "code",
      "metadata": {
        "colab": {
          "base_uri": "https://localhost:8080/"
        },
        "id": "QhuVhRR5Oqih",
        "outputId": "715f50e9-2db5-4562-81df-a55016c994bf"
      },
      "source": [
        "my_list = ['Quant', 'Connect', 1,2,3]\n",
        "print(len(my_list)) #len \"counts the number of elements in the list\"\n",
        "print(my_list[0]) #prints the element in the position 0 of the list\n",
        "print(my_list[len(my_list) -1]) #prints the element inthe position length of the list minus 1 (n-1), or the last element\n",
        "\n",
        "print(my_list[2])\n",
        "print(my_list[2+2])\n",
        "print(my_list[4])\n"
      ],
      "execution_count": null,
      "outputs": [
        {
          "output_type": "stream",
          "name": "stdout",
          "text": [
            "5\n",
            "Quant\n",
            "3\n",
            "1\n",
            "3\n",
            "3\n"
          ]
        }
      ]
    },
    {
      "cell_type": "markdown",
      "metadata": {
        "id": "jgSZy1VGTKSc"
      },
      "source": [
        "You can also change the elements in the list by accessing an index and assigning a new value."
      ]
    },
    {
      "cell_type": "code",
      "metadata": {
        "colab": {
          "base_uri": "https://localhost:8080/"
        },
        "id": "NQBNLjAvOqih",
        "outputId": "966ba21a-ffb0-424a-e525-4732ff49d8ca"
      },
      "source": [
        "my_list = ['Quant','Connect',1,2,3]\n",
        "my_list[2] = 'go'#asigns to the position 2 of the list the string 'go' \n",
        "print(my_list)\n",
        "\n",
        "my_list[len(my_list) -1]=5.0 #makes the element in the position n-1 (4), 5.0\n",
        "my_list[3]=my_list[0] #makes the element in the position 3 equal to the element inthe position 0\n",
        "print(my_list)"
      ],
      "execution_count": null,
      "outputs": [
        {
          "output_type": "stream",
          "name": "stdout",
          "text": [
            "['Quant', 'Connect', 'go', 2, 3]\n",
            "['Quant', 'Connect', 'go', 'Quant', 5.0]\n"
          ]
        }
      ]
    },
    {
      "cell_type": "markdown",
      "metadata": {
        "id": "EQPs5ojoTVrk"
      },
      "source": [
        "A list can also be sliced with a colon:"
      ]
    },
    {
      "cell_type": "code",
      "metadata": {
        "colab": {
          "base_uri": "https://localhost:8080/"
        },
        "id": "keNX2RbtOqii",
        "outputId": "3bee0233-6cd4-4a7f-ec71-ecf96c46c302"
      },
      "source": [
        "my_list = ['Quant','Connect',1,2,3]\n",
        "print(my_list[1:3])#selects the elements of the list from the position 1 (included) to the position 3 (not included) and prints them\n",
        "\n",
        "print(my_list[1:4])"
      ],
      "execution_count": null,
      "outputs": [
        {
          "output_type": "stream",
          "name": "stdout",
          "text": [
            "['Connect', 1]\n",
            "['Connect', 1, 2]\n"
          ]
        }
      ]
    },
    {
      "cell_type": "markdown",
      "metadata": {
        "id": "AZqQd0K8TYul"
      },
      "source": [
        "The slice starts from the first element indicated, but excludes the last element indicated. Here we select all elements starting from index 1, which refers to the second element:"
      ]
    },
    {
      "cell_type": "code",
      "metadata": {
        "colab": {
          "base_uri": "https://localhost:8080/"
        },
        "id": "0-76sLfkOqii",
        "outputId": "3a20d780-448c-4d28-cbcb-252318398001"
      },
      "source": [
        "print(my_list[1:])#selects the elements of the list from the position 1 (included) to the end of the list and prints them\n",
        "\n",
        "print(my_list[2:])"
      ],
      "execution_count": null,
      "outputs": [
        {
          "output_type": "stream",
          "name": "stdout",
          "text": [
            "['Connect', 1, 2, 3]\n",
            "[1, 2, 3]\n"
          ]
        }
      ]
    },
    {
      "cell_type": "markdown",
      "metadata": {
        "id": "XBqvhUdZVKWs"
      },
      "source": [
        "And all elements up to but excluding index 3:"
      ]
    },
    {
      "cell_type": "code",
      "metadata": {
        "colab": {
          "base_uri": "https://localhost:8080/"
        },
        "id": "5NWr75L9Oqii",
        "outputId": "28f6a961-8f5e-4ca8-9532-5523a63618fc"
      },
      "source": [
        "print(my_list[:3]) #selects the elements of the list from biggining of the list to the position 3 (not included) and prints them\n",
        "\n",
        "print(my_list[:2])"
      ],
      "execution_count": null,
      "outputs": [
        {
          "output_type": "stream",
          "name": "stdout",
          "text": [
            "['Quant', 'Connect', 1]\n",
            "['Quant', 'Connect']\n"
          ]
        }
      ]
    },
    {
      "cell_type": "markdown",
      "metadata": {
        "id": "eAFmM6bkTZz9"
      },
      "source": [
        "If you wish to add or remove an element from a list, you can use the append() and remove() methods for lists as follows:"
      ]
    },
    {
      "cell_type": "code",
      "metadata": {
        "colab": {
          "base_uri": "https://localhost:8080/"
        },
        "id": "pHmgTPElTo19",
        "outputId": "241c9c39-ed3a-4c16-a6f6-7f634143b6e1"
      },
      "source": [
        "my_list = ['Hello', 'Quant']\n",
        "my_list.append('Hello')#adds the element to the end of the list\n",
        "print(my_list)\n",
        "\n",
        "my_list.append('69')\n",
        "print(my_list)"
      ],
      "execution_count": null,
      "outputs": [
        {
          "output_type": "stream",
          "name": "stdout",
          "text": [
            "['Hello', 'Quant', 'Hello']\n",
            "['Hello', 'Quant', 'Hello', '69']\n"
          ]
        }
      ]
    },
    {
      "cell_type": "code",
      "metadata": {
        "colab": {
          "base_uri": "https://localhost:8080/"
        },
        "id": "4C4U1Yf0Tr8l",
        "outputId": "277d532d-9d9d-4757-ca57-496d0489485e"
      },
      "source": [
        "my_list.remove('Hello')#Removes the first appearance of the element passed to the function 'remove', from the list\n",
        "print(my_list)\n",
        "\n",
        "my_list.remove('Hello')\n",
        "print(my_list)\n",
        "\n",
        "my_list.remove('69')\n",
        "print(my_list)"
      ],
      "execution_count": null,
      "outputs": [
        {
          "output_type": "stream",
          "name": "stdout",
          "text": [
            "['Quant', 'Hello', '69']\n",
            "['Quant', '69']\n",
            "['Quant']\n"
          ]
        }
      ]
    },
    {
      "cell_type": "markdown",
      "metadata": {
        "id": "11W1gG-cVmOU"
      },
      "source": [
        "When there are repeated instances of \"Hello\", the first one is removed.\n",
        "\n",
        "## Tuple\n",
        "A tuple is a data structure type similar to a list. The difference is that a tuple is immutable, which means you can't change the elements in it once it's defined. We create a tuple by putting comma-separated values between parentheses."
      ]
    },
    {
      "cell_type": "code",
      "metadata": {
        "collapsed": true,
        "id": "vPmn6BAaOqii"
      },
      "source": [
        "my_tuple = ('Welcome','to','QuantConnect')#creation of a tuple of strings\n",
        "my_new_tuple =(\"string\", 7, 5.2, False)#tuples can have different data types as well"
      ],
      "execution_count": null,
      "outputs": []
    },
    {
      "cell_type": "markdown",
      "metadata": {
        "id": "zMIme4dDV0Wz"
      },
      "source": [
        "Just like a list, a tuple can be sliced by using index."
      ]
    },
    {
      "cell_type": "code",
      "metadata": {
        "colab": {
          "base_uri": "https://localhost:8080/"
        },
        "id": "8P-ddO0sOqii",
        "outputId": "36e59e71-30cd-454b-ef4a-010f0a17c447"
      },
      "source": [
        "my_tuple = ('Welcome','to','QuantConnect')\n",
        "print(my_tuple[1:])#selects elements from the tuple form de position 1 to the end and prints it\n",
        "\n",
        "my_new_tuple =(\"string\", 7, 5.2, False)\n",
        "print(my_new_tuple[2:])\n",
        "print(my_new_tuple[1:3])"
      ],
      "execution_count": null,
      "outputs": [
        {
          "output_type": "stream",
          "name": "stdout",
          "text": [
            "('to', 'QuantConnect')\n",
            "(5.2, False)\n",
            "(7, 5.2)\n"
          ]
        }
      ]
    },
    {
      "cell_type": "markdown",
      "metadata": {
        "id": "l2JqbusAV1Y2"
      },
      "source": [
        "## Set\n",
        "A set is an **unordered**  collection with **no duplicate** elements. The built-in function **set()** can be used to create sets."
      ]
    },
    {
      "cell_type": "code",
      "metadata": {
        "colab": {
          "base_uri": "https://localhost:8080/"
        },
        "id": "Plau8r-UOqij",
        "outputId": "cb38581b-6e5e-4a5d-8c77-10dad8ba7035"
      },
      "source": [
        "stock_list = ['AAPL','GOOG','IBM','AAPL','IBM','FB','F','GOOG']#creation of a list of strings\n",
        "stock_set = set(stock_list)#makes aset with the elements of the list, eliminating duplicates\n",
        "print(stock_set)\n",
        "\n",
        "new_list=['string', 43, 1.2, True, 43.0, True, 1.2, False]\n",
        "new_set= set(new_list)#the sets can also have different data types\n",
        "print(new_set)"
      ],
      "execution_count": null,
      "outputs": [
        {
          "output_type": "stream",
          "name": "stdout",
          "text": [
            "{'AAPL', 'IBM', 'FB', 'GOOG', 'F'}\n",
            "{False, 1.2, True, 'string', 43}\n"
          ]
        }
      ]
    },
    {
      "cell_type": "markdown",
      "metadata": {
        "id": "Jyb4GGIoWIHk"
      },
      "source": [
        "Set is an easy way to remove duplicate elements from a list.\n",
        "\n",
        "##Dictionary\n",
        "A dictionary is one of the most important data structures in Python. Unlike sequences which are indexed by integers, dictionaries are indexed by keys which can be either strings or floats.\n",
        "\n",
        "A dictionary is an **unordered** collection of key : value pairs, with the requirement that the keys are unique. We create a dictionary by placing a comma-separated list of key : value pairs within the braces."
      ]
    },
    {
      "cell_type": "code",
      "metadata": {
        "collapsed": true,
        "id": "36mTe5BaOqij"
      },
      "source": [
        "my_dic = {'AAPL':'AAPLE', 'FB':'FaceBook', 'GOOG':'Alphabet'}#creation of dictionary with string keys and values\n",
        "my_dic_2={3.14:'pi', 'zero':0.0, 3:True} #keys and values in a dictionary can be of different data types"
      ],
      "execution_count": null,
      "outputs": []
    },
    {
      "cell_type": "code",
      "metadata": {
        "colab": {
          "base_uri": "https://localhost:8080/"
        },
        "id": "KUfdVf43Oqij",
        "outputId": "99e9457d-780d-49f3-81ef-ddc349f48cc5"
      },
      "source": [
        "print(my_dic['GOOG'])\n",
        "print(my_dic_2)\n",
        "print(my_dic_2[3])"
      ],
      "execution_count": null,
      "outputs": [
        {
          "output_type": "stream",
          "name": "stdout",
          "text": [
            "Alphabet\n",
            "{3.14: 'pi', 'zero': 0.0, 3: True}\n",
            "True\n"
          ]
        }
      ]
    },
    {
      "cell_type": "markdown",
      "metadata": {
        "id": "gSicoNqDWP4c"
      },
      "source": [
        "After defining a dictionary, we can access any value by indicating its key in brackets."
      ]
    },
    {
      "cell_type": "code",
      "metadata": {
        "colab": {
          "base_uri": "https://localhost:8080/"
        },
        "id": "IrTZdq9FOqij",
        "outputId": "c7ccf3ca-9356-4660-d34d-6964f92267bd"
      },
      "source": [
        "my_dic['GOOG'] = 'Alphabet Company' #asigns a new value to the key in []\n",
        "print(my_dic['GOOG'])\n",
        "\n",
        "my_dic['GOOG'] = 69 #asigns a new value to the key in []\n",
        "print(my_dic['GOOG'])"
      ],
      "execution_count": null,
      "outputs": [
        {
          "output_type": "stream",
          "name": "stdout",
          "text": [
            "Alphabet Company\n",
            "69\n"
          ]
        }
      ]
    },
    {
      "cell_type": "markdown",
      "metadata": {
        "id": "M9sDsTEMWQvc"
      },
      "source": [
        "We can also change the value associated with a specified key:"
      ]
    },
    {
      "cell_type": "code",
      "metadata": {
        "colab": {
          "base_uri": "https://localhost:8080/"
        },
        "id": "lupRHf1_Oqij",
        "outputId": "1b9ce2fc-d4d0-487c-e966-8977db366357"
      },
      "source": [
        "print(my_dic.keys())#prints the keys in the dictionary\n",
        "print(my_dic_2.keys())"
      ],
      "execution_count": null,
      "outputs": [
        {
          "output_type": "stream",
          "name": "stdout",
          "text": [
            "dict_keys(['AAPL', 'FB', 'GOOG'])\n",
            "dict_keys([3.14, 'zero', 3])\n"
          ]
        }
      ]
    },
    {
      "cell_type": "markdown",
      "metadata": {
        "id": "VPuDinlwWS9D"
      },
      "source": [
        "The built-in method of the dictionary object dict.keys() returns a list of all the keys used in the dictionary."
      ]
    },
    {
      "cell_type": "markdown",
      "metadata": {
        "id": "kSGzgNb2Womz"
      },
      "source": [
        "# Common String Operations\n",
        "A string is an immutable sequence of characters. It can be sliced by index just like a tuple:"
      ]
    },
    {
      "cell_type": "code",
      "metadata": {
        "colab": {
          "base_uri": "https://localhost:8080/"
        },
        "id": "xPojDnm9Oqik",
        "outputId": "f45d48a8-e2b2-401a-f39e-f147bf7598f5"
      },
      "source": [
        "my_str = 'Welcome to QuantConnect'\n",
        "print(my_str[8:])#selects and prints a selection of the characters in the string from the postion 8 to the end of the string\n",
        "print(my_str[3:12])"
      ],
      "execution_count": null,
      "outputs": [
        {
          "output_type": "stream",
          "name": "stdout",
          "text": [
            "to QuantConnect\n",
            "come to Q\n"
          ]
        }
      ]
    },
    {
      "cell_type": "markdown",
      "metadata": {
        "id": "wuJYy7tvWtM7"
      },
      "source": [
        "There are many methods associated with strings. We can use string.count() to count the occurrences of a character in a string, use string.find() to return the index of a specific character, and use string.replace() to replace characters"
      ]
    },
    {
      "cell_type": "code",
      "metadata": {
        "colab": {
          "base_uri": "https://localhost:8080/"
        },
        "id": "u9deZq1SOqik",
        "outputId": "239f5720-512b-4080-a16e-71095b7e837c"
      },
      "source": [
        "print('Counting the number of e appears in this sentence'.count('e'))#counts the times \"e\" is in the string \n",
        "print('The first time e appears in this sentence'.find('e'))#finds the index of the first appearence of the character\n",
        "print('all the a in this sentence now becomes e'.replace('a','e'))#replaces every appeareance of the first character with the second character\n",
        "\n",
        "beat='And in the end, the love you take is equal to the love you make'\n",
        "print(beat.count('t'))\n",
        "print(beat.find(','))\n",
        "print(beat.replace('s','z'))"
      ],
      "execution_count": null,
      "outputs": [
        {
          "output_type": "stream",
          "name": "stdout",
          "text": [
            "7\n",
            "2\n",
            "ell the e in this sentence now becomes e\n",
            "5\n",
            "14\n",
            "And in the end, the love you take iz equal to the love you make\n"
          ]
        }
      ]
    },
    {
      "cell_type": "markdown",
      "metadata": {
        "id": "sJPn3rkvWwHN"
      },
      "source": [
        "The most commonly used method for strings is string.split(). This method will split the string by the indicated character and return a list:"
      ]
    },
    {
      "cell_type": "code",
      "metadata": {
        "colab": {
          "base_uri": "https://localhost:8080/"
        },
        "id": "hbIaFLFHOqik",
        "outputId": "3cfe293c-238f-4330-d6d5-675726e1429e"
      },
      "source": [
        "Time = '2016-04-01 09:43:00'\n",
        "splited_list = Time.split(' ')#uses space as the separator to split the string each time it finds it\n",
        "date = splited_list[0]\n",
        "time = splited_list[1]\n",
        "print(date, time)\n",
        "hour = time.split(':')[0]\n",
        "print(hour)\n",
        "\n",
        "month=date.split('-')[1]\n",
        "print(month)"
      ],
      "execution_count": null,
      "outputs": [
        {
          "output_type": "stream",
          "name": "stdout",
          "text": [
            "2016-04-01 09:43:00\n",
            "09\n",
            "04\n"
          ]
        }
      ]
    },
    {
      "cell_type": "markdown",
      "metadata": {
        "id": "9cJQGk96WyVc"
      },
      "source": [
        "We can replace parts of a string by our variable. This is called string formatting."
      ]
    },
    {
      "cell_type": "code",
      "metadata": {
        "colab": {
          "base_uri": "https://localhost:8080/"
        },
        "id": "-E_rIvv6Oqik",
        "outputId": "9a04da83-26ca-4b9f-a209-a97ab930457a"
      },
      "source": [
        "my_time = 'Hour: {}, Minute:{}'.format('09','43')#replaces in order the '{}' with the data in the format method \n",
        "print(my_time)\n",
        "\n",
        "my_data='Hi, my name is {} and I am {} years old'.format('Santiago', 24)#you don't have to replace only with strings\n",
        "print(my_data)"
      ],
      "execution_count": null,
      "outputs": [
        {
          "output_type": "stream",
          "name": "stdout",
          "text": [
            "Hour: 09, Minute:43\n",
            "Hi, my name is Santiago and I am 24 years old\n"
          ]
        }
      ]
    },
    {
      "cell_type": "markdown",
      "metadata": {
        "id": "1_NbVldpWzAs"
      },
      "source": [
        "Another way to format a string is to use the % symbol."
      ]
    },
    {
      "cell_type": "code",
      "metadata": {
        "colab": {
          "base_uri": "https://localhost:8080/"
        },
        "id": "4rZ4rkD2Oqik",
        "outputId": "28135714-7fd4-40f0-b3c9-981564783fb5"
      },
      "source": [
        "print('the pi number is %f'%3.14)#replaces the data signaled by the '%', you have to specify the data type with %f, %d, %s\n",
        "print('%s to %s'%('Welcome','Quantconnect'))\n",
        "\n",
        "print('this %s is a string, this %d is an int and this %f is a float'%('leters',40, 1.1))"
      ],
      "execution_count": null,
      "outputs": [
        {
          "output_type": "stream",
          "name": "stdout",
          "text": [
            "the pi number is 3.140000\n",
            "Welcome to Quantconnect\n",
            "this leters is a string, this 40 is an int and this 1.100000 is a float\n"
          ]
        }
      ]
    },
    {
      "cell_type": "markdown",
      "metadata": {
        "id": "v_5cocrDW3MN"
      },
      "source": [
        "# Summary\n",
        "\n",
        "Weave seen the basic data types and data structures in Python. It's important to keep practicing to become familiar with these data structures. In the next tutorial, we will cover for and while loops and logical operations in Python."
      ]
    },
    {
      "cell_type": "markdown",
      "metadata": {
        "id": "QL6dNxwCXNEt"
      },
      "source": [
        "<div align=\"center\">\n",
        "<img style=\"display: block; margin: auto;\" alt=\"photo\" src=\"https://cdn.quantconnect.com/web/i/icon.png\">\n",
        "\n",
        "Quantconnect\n",
        "\n",
        "Introduction to Financial Python\n",
        "</div>\n",
        "\n",
        "# 02 Logical Operations and Loops\n",
        "\n",
        "# Introduction\n",
        "We discussed the basic data types and data structures in Python in the last tutorial. This chapter covers logical operations and loops in Python, which are very common in programming.\n",
        "\n",
        "# Logical Operations\n",
        "Like most programming languages, Python has comparison operators:"
      ]
    },
    {
      "cell_type": "code",
      "metadata": {
        "colab": {
          "base_uri": "https://localhost:8080/"
        },
        "id": "70Guys_rOv7a",
        "outputId": "2302d165-f233-4408-ec50-6c088d0b0a53"
      },
      "source": [
        "print(1 == 0)#returns true if the 2 numbers are equal\n",
        "print(1 == 1)\n",
        "print(1 != 0)#returns true if the 2 numbers are different\n",
        "print(5 >= 5)#returns true if the first numer es equal or bigger than the second number\n",
        "print(5 >= 6)\n",
        "\n",
        "print(3<29)#returns true if the first number is smaller tha the second one\n",
        "print(45<= 44)#returns true if the first numer es equal or smaller than the second number"
      ],
      "execution_count": null,
      "outputs": [
        {
          "output_type": "stream",
          "name": "stdout",
          "text": [
            "False\n",
            "True\n",
            "True\n",
            "True\n",
            "False\n",
            "True\n",
            "False\n"
          ]
        }
      ]
    },
    {
      "cell_type": "markdown",
      "metadata": {
        "id": "8aFHYDj-YTXt"
      },
      "source": [
        "Each statement above has a boolean value, which must be either True or False, but not both.\n",
        "\n",
        "We can combine simple statements P and Q to form complex statements using logical operators:\n",
        "\n",
        "- The statement \"P and Q\" is true if both P and Q are true, otherwise it is false.\n",
        "- The statement \"P or Q\" is false if both P and Q are false, otherwise it is true.\n",
        "- The statement \"not P\" is true if P is false, and vice versa."
      ]
    },
    {
      "cell_type": "code",
      "metadata": {
        "colab": {
          "base_uri": "https://localhost:8080/"
        },
        "id": "O5YEEcUbOv7d",
        "outputId": "6b36eaf9-9d9f-4969-b868-7d712f0c4eda"
      },
      "source": [
        "print(2 > 1 and 3 > 2)#true if both conditions are true\n",
        "print(2 > 1 and 3 < 2) #true if both conditions are true\n",
        "print(2 > 1 or 3 < 2)#true if any of the conditions are true\n",
        "print(2 < 1 and 3 < 2)\n",
        "\n",
        "print(3==4 or 12<=12)\n",
        "print(3==4 and 12<=12)"
      ],
      "execution_count": null,
      "outputs": [
        {
          "output_type": "stream",
          "name": "stdout",
          "text": [
            "True\n",
            "False\n",
            "True\n",
            "False\n",
            "True\n",
            "False\n"
          ]
        }
      ]
    },
    {
      "cell_type": "markdown",
      "metadata": {
        "id": "Dy7yzoSXYXmL"
      },
      "source": [
        "When dealing with a very complex logical statement that involves in several statements, we can use brackets to separate and combine them."
      ]
    },
    {
      "cell_type": "code",
      "metadata": {
        "colab": {
          "base_uri": "https://localhost:8080/"
        },
        "id": "QZ-W2xJZOv7d",
        "outputId": "af6a4366-af61-4a15-8942-ac9d59fab0f1"
      },
      "source": [
        "print((3 > 2 or 1 < 3) and (1!=3 and 4>3) and not ( 3 < 2 or 1 < 3 and (1!=3 and 4>3)))#not makes True false and viceversa\n",
        "print(3 > 2 or 1 < 3 and (1!=3 and 4>3) and not ( 3 < 2 or 1 < 3 and (1!=3 and 4>3)))\n",
        "\n",
        "print(4<5 and (3==3 or (4>5 and(3!=4 and 3==4))))"
      ],
      "execution_count": null,
      "outputs": [
        {
          "output_type": "stream",
          "name": "stdout",
          "text": [
            "False\n",
            "True\n",
            "True\n"
          ]
        }
      ]
    },
    {
      "cell_type": "markdown",
      "metadata": {
        "id": "s95xoRYMYaPD"
      },
      "source": [
        "Comparing the above two statements, we can see that it's wise to use brackets when we make a complex logical statement.\n",
        "\n",
        "# If Statement\n",
        "An if statement executes a segment of code only if its condition is true. A standard if statement consists of 3 segments: if, elif and else."
      ]
    },
    {
      "cell_type": "markdown",
      "metadata": {
        "id": "aRzMMitAaBOL"
      },
      "source": [
        "```python\n",
        "if statement1:\n",
        "    # if the statement1 is true, execute the code here.\n",
        "    # code.....\n",
        "    # code.....\n",
        "elif statement2:\n",
        "    # if the statement 1 is false, skip the codes above to this part.\n",
        "    # code......\n",
        "    # code......\n",
        "else:\n",
        "    # if none of the above statements is True, skip to this part\n",
        "    # code......\n",
        "```"
      ]
    },
    {
      "cell_type": "markdown",
      "metadata": {
        "id": "l59R2AS8aH2K"
      },
      "source": [
        "An if statement doesn't necessarily has elif and else part. If it's not specified, the indented block of code will be executed when the condition is true, otherwise the whole if statement will be skipped."
      ]
    },
    {
      "cell_type": "code",
      "metadata": {
        "colab": {
          "base_uri": "https://localhost:8080/"
        },
        "id": "FZ5GoTXfOv7e",
        "outputId": "c6a97dd3-d5e7-4777-82c0-16b5ed327a77"
      },
      "source": [
        "i = 0\n",
        "if i == 0:\n",
        "    print('i==0 is True') #if the condition is true, print this\n",
        "\n",
        "if i<0:\n",
        "  print('{} is less than 0'.format(i))\n",
        "else:\n",
        "  print('{} is not less than 0'.format(i))\n"
      ],
      "execution_count": null,
      "outputs": [
        {
          "output_type": "stream",
          "name": "stdout",
          "text": [
            "i==0 is True\n",
            "0 is not less than 0\n"
          ]
        }
      ]
    },
    {
      "cell_type": "markdown",
      "metadata": {
        "id": "nPNW-l5eaJn8"
      },
      "source": [
        "As we mentioned above, we can write some complex statements here:"
      ]
    },
    {
      "cell_type": "code",
      "metadata": {
        "colab": {
          "base_uri": "https://localhost:8080/"
        },
        "id": "gh-U6nMzOv7e",
        "outputId": "ac46eed9-9f1b-4c28-a592-05e0da2f3c5a"
      },
      "source": [
        "p = 1 > 0\n",
        "q = 2 > 3\n",
        "if p and q:#complex statements to determine if p and q are true or false\n",
        "    print('p and q is true')\n",
        "elif p and not q:\n",
        "    print('q is false')\n",
        "elif q and not p:\n",
        "    print('p is false')\n",
        "else:\n",
        "    print('None of p and q is true')\n",
        "\n",
        "r=3<4 and (5!=5 or 5==5)\n",
        "\n",
        "if r:\n",
        "  print(' r is true')\n",
        "else:\n",
        "  print(\"r is false\")"
      ],
      "execution_count": null,
      "outputs": [
        {
          "output_type": "stream",
          "name": "stdout",
          "text": [
            "q is false\n",
            " r is true\n"
          ]
        }
      ]
    },
    {
      "cell_type": "markdown",
      "metadata": {
        "id": "tgRDwiAsaMOL"
      },
      "source": [
        "# Loop Structure\n",
        "Loops are an essential part of programming. The \"for\" and \"while\" loops run a block of code repeatedly.\n",
        "\n",
        "## While Loop\n",
        "A \"while\" loop will run repeatedly until a certain condition has been met."
      ]
    },
    {
      "cell_type": "code",
      "metadata": {
        "colab": {
          "base_uri": "https://localhost:8080/"
        },
        "id": "uQLau8d5Ov7f",
        "outputId": "ca4b6a7f-6bd1-438f-f807-64fde100cfd7"
      },
      "source": [
        "i = 0\n",
        "while i < 5:#loop only stops if the condition is false\n",
        "    print(i)\n",
        "    i += 1 \n",
        "\n",
        "while i>1:\n",
        "  print(i)\n",
        "  i -= 1"
      ],
      "execution_count": null,
      "outputs": [
        {
          "output_type": "stream",
          "name": "stdout",
          "text": [
            "0\n",
            "1\n",
            "2\n",
            "3\n",
            "4\n",
            "5\n",
            "4\n",
            "3\n",
            "2\n"
          ]
        }
      ]
    },
    {
      "cell_type": "markdown",
      "metadata": {
        "id": "ydLddFAPaTOE"
      },
      "source": [
        "When making a while loop, we need to ensure that something changes from iteration to iteration so that the while loop will terminate, otherwise, it will run forever. Here we used i += 1 (short for i = i + 1) to make i larger after each iteration. This is the most commonly used method to control a while loop.\n",
        "\n",
        "## For Loop\n",
        "A \"for\" loop will iterate over a sequence of value and terminate when the sequence has ended."
      ]
    },
    {
      "cell_type": "code",
      "metadata": {
        "colab": {
          "base_uri": "https://localhost:8080/"
        },
        "id": "kt8Ie8u1Ov7f",
        "outputId": "75d7f22f-78c0-4628-f173-b64b3d44c932"
      },
      "source": [
        "for i in [1,2,3,4,5]:#the code will run for each element in the list\n",
        "    print(i)\n",
        "print('\\n')\n",
        "for j in[0,1,2,3,4,5]:\n",
        "  print (j**2)"
      ],
      "execution_count": null,
      "outputs": [
        {
          "output_type": "stream",
          "name": "stdout",
          "text": [
            "1\n",
            "2\n",
            "3\n",
            "4\n",
            "5\n",
            "\n",
            "\n",
            "0\n",
            "1\n",
            "4\n",
            "9\n",
            "16\n",
            "25\n"
          ]
        }
      ]
    },
    {
      "cell_type": "markdown",
      "metadata": {
        "id": "yWStqpreaX-T"
      },
      "source": [
        "We can also add if statements in a for loop. Here is a real example from our pairs trading algorithm:"
      ]
    },
    {
      "cell_type": "code",
      "metadata": {
        "colab": {
          "base_uri": "https://localhost:8080/"
        },
        "id": "kElmffvFOv7f",
        "outputId": "a55323ed-ce16-4185-b0d5-4ac30f0e5e93"
      },
      "source": [
        "stocks = ['AAPL','GOOG','IBM','FB','F','V', 'G', 'GE']\n",
        "selected = ['AAPL','IBM']\n",
        "new_list = []\n",
        "for i in stocks:#iterates over each element in the list 'stocks'\n",
        "    if i not in selected:#if the element is not in the list 'selected'...\n",
        "        new_list.append(i)#...add the element to the list 'newlist'\n",
        "print(stocks)\n",
        "print(new_list)\n",
        "\n",
        "for element in stocks:#iterates over each element in the list 'stocks'\n",
        "  if len(element)>2:#if the size of that element is bigger than 2, print it\n",
        "    print(element)"
      ],
      "execution_count": null,
      "outputs": [
        {
          "output_type": "stream",
          "name": "stdout",
          "text": [
            "['AAPL', 'GOOG', 'IBM', 'FB', 'F', 'V', 'G', 'GE']\n",
            "['GOOG', 'FB', 'F', 'V', 'G', 'GE']\n",
            "AAPL\n",
            "GOOG\n",
            "IBM\n"
          ]
        }
      ]
    },
    {
      "cell_type": "markdown",
      "metadata": {
        "id": "wb2hry9dahE0"
      },
      "source": [
        "Here we iterated all the elements in the list 'stocks'. Later in this chapter, we will introduce a smarter way to do this, which is just a one-line code.\n",
        "\n",
        "## Break and continue\n",
        "These are two commonly used commands in a for loop. If \"break\" is triggered while a loop is executing, the loop will terminate immediately:"
      ]
    },
    {
      "cell_type": "code",
      "metadata": {
        "colab": {
          "base_uri": "https://localhost:8080/"
        },
        "id": "yF5wMVItOv7g",
        "outputId": "366d59ea-b8af-400e-f475-4b0f8d704d2a"
      },
      "source": [
        "stocks = ['AAPL','GOOG','IBM','FB','F','V', 'G', 'GE']\n",
        "for i in stocks:\n",
        "    print(i)\n",
        "    if i == 'FB':#if the condition is met\n",
        "        break#stop the iteration\n",
        "\n",
        "\n",
        "print('\\n')\n",
        "for element in stocks:\n",
        "  print(element)\n",
        "  if len(element)<2: #stops when reaching an element of size<2\n",
        "    break\n"
      ],
      "execution_count": null,
      "outputs": [
        {
          "output_type": "stream",
          "name": "stdout",
          "text": [
            "AAPL\n",
            "GOOG\n",
            "IBM\n",
            "FB\n",
            "\n",
            "\n",
            "AAPL\n",
            "GOOG\n",
            "IBM\n",
            "FB\n",
            "F\n"
          ]
        }
      ]
    },
    {
      "cell_type": "markdown",
      "metadata": {
        "id": "R0toxyp3ao0T"
      },
      "source": [
        "The \"continue\" command tells the loop to end this iteration and skip to the next iteration:"
      ]
    },
    {
      "cell_type": "code",
      "metadata": {
        "colab": {
          "base_uri": "https://localhost:8080/"
        },
        "id": "Stg-CH6IOv7g",
        "outputId": "5d6697a6-102d-463e-e4d8-466542dd24c3"
      },
      "source": [
        "stocks = ['AAPL','GOOG','IBM','FB','F','V', 'G', 'GE']\n",
        "for i in stocks:\n",
        "    if i == 'FB':#if the condition is met\n",
        "        continue#move to the next iteration now\n",
        "    print(i)\n",
        "\n",
        "print('\\n')\n",
        "for element in stocks:\n",
        "  if len(element)==2:#skips to the next iteration if the string has 2 characters\n",
        "    continue\n",
        "  print(element)"
      ],
      "execution_count": null,
      "outputs": [
        {
          "output_type": "stream",
          "name": "stdout",
          "text": [
            "AAPL\n",
            "GOOG\n",
            "IBM\n",
            "F\n",
            "V\n",
            "G\n",
            "GE\n",
            "\n",
            "\n",
            "AAPL\n",
            "GOOG\n",
            "IBM\n",
            "F\n",
            "V\n",
            "G\n"
          ]
        }
      ]
    },
    {
      "cell_type": "markdown",
      "metadata": {
        "id": "4NusvdhBaxpZ"
      },
      "source": [
        "# List Comprehension\n",
        "List comprehension is a Pythonic way to create lists. Common applications are to make new lists where each element is the result of some operations applied to each member of another sequence. For example, if we want to create a list of squares using for loop:"
      ]
    },
    {
      "cell_type": "code",
      "metadata": {
        "colab": {
          "base_uri": "https://localhost:8080/"
        },
        "id": "bdxxeOABOv7h",
        "outputId": "05eba717-ac81-400a-d7ec-b64a671934d0"
      },
      "source": [
        "squares = []\n",
        "for i in [1,2,3,4,5]:\n",
        "    squares.append(i**2)#takes each element from the original list and makes the operations to add it to the new list\n",
        "print(squares)\n",
        "\n",
        "modulo=[]\n",
        "for j in [1,2,3,4,5,6]:\n",
        "  modulo.append(j%3)#includes the module of 3 of each of the elements in the original list \n",
        "print(modulo)\n"
      ],
      "execution_count": null,
      "outputs": [
        {
          "output_type": "stream",
          "name": "stdout",
          "text": [
            "[1, 4, 9, 16, 25]\n",
            "[1, 2, 0, 1, 2, 0]\n"
          ]
        }
      ]
    },
    {
      "cell_type": "markdown",
      "metadata": {
        "id": "--KliJBOa1CC"
      },
      "source": [
        "Using list comprehension:"
      ]
    },
    {
      "cell_type": "code",
      "metadata": {
        "colab": {
          "base_uri": "https://localhost:8080/"
        },
        "id": "440-yjG8Ov7h",
        "outputId": "a4ab7d30-806d-4b1a-b0a0-ecfd8480a3fd"
      },
      "source": [
        "list = [1,2,3,4,5]\n",
        "squares = [x**2 for x in list]\n",
        "print(squares)\n",
        "\n",
        "modulo=[element % 3 for element in list]#the creation and operation of elements can be done in a single line\n",
        "print(modulo)"
      ],
      "execution_count": null,
      "outputs": [
        {
          "output_type": "stream",
          "name": "stdout",
          "text": [
            "[1, 4, 9, 16, 25]\n",
            "[1, 2, 0, 1, 2]\n"
          ]
        }
      ]
    },
    {
      "cell_type": "markdown",
      "metadata": {
        "id": "uMuCfR3ya3zT"
      },
      "source": [
        "Recall the example above where we used a for loop to select stocks. Here we use list comprehension:"
      ]
    },
    {
      "cell_type": "code",
      "metadata": {
        "colab": {
          "base_uri": "https://localhost:8080/"
        },
        "id": "ZGtCtog2Ov7h",
        "outputId": "8a9563de-3045-4e2c-d1e0-48f8ce08a3c3"
      },
      "source": [
        "stocks = ['AAPL','GOOG','IBM','FB','F','V', 'G', 'GE']\n",
        "selected = ['AAPL','IBM']\n",
        "new_list = [x for x in stocks if x in selected]\n",
        "print(new_list)\n",
        "\n",
        "new_list2=[elem for elem in stocks if len(elem)<3]#creation of list with conditions and loops can also be made in one line\n",
        "print(new_list2)"
      ],
      "execution_count": null,
      "outputs": [
        {
          "output_type": "stream",
          "name": "stdout",
          "text": [
            "['AAPL', 'IBM']\n",
            "['FB', 'F', 'V', 'G', 'GE']\n"
          ]
        }
      ]
    },
    {
      "cell_type": "markdown",
      "metadata": {
        "id": "EPeUv6Lia5oD"
      },
      "source": [
        "A list comprehension consists of square brackets containing an expression followed by a \"for\" clause, and possibly \"for\" or \"if\" clauses. For example:"
      ]
    },
    {
      "cell_type": "code",
      "metadata": {
        "colab": {
          "base_uri": "https://localhost:8080/"
        },
        "id": "O1AMB5d7Ov7i",
        "outputId": "d8dbf77b-25af-4a4f-a828-b570b9d92220"
      },
      "source": [
        "print([(x, y) for x in [1,2,3] for y in [3,1,4] if x != y])#creates a list of tuples with pairs of elements of the small lists if they are different\n",
        "print([str(x)+' vs '+str(y) for x in ['AAPL','GOOG','IBM','FB'] for y in ['F','V','G','GE'] if x!=y])\n",
        "\n",
        "print([(a,b) for a in ['a','ab','abc'] for b in ['d','e','de','der']if len(a)==len(b)])"
      ],
      "execution_count": null,
      "outputs": [
        {
          "output_type": "stream",
          "name": "stdout",
          "text": [
            "[(1, 3), (1, 4), (2, 3), (2, 1), (2, 4), (3, 1), (3, 4)]\n",
            "['AAPL vs F', 'AAPL vs V', 'AAPL vs G', 'AAPL vs GE', 'GOOG vs F', 'GOOG vs V', 'GOOG vs G', 'GOOG vs GE', 'IBM vs F', 'IBM vs V', 'IBM vs G', 'IBM vs GE', 'FB vs F', 'FB vs V', 'FB vs G', 'FB vs GE']\n",
            "[('a', 'd'), ('a', 'e'), ('ab', 'de'), ('abc', 'der')]\n"
          ]
        }
      ]
    },
    {
      "cell_type": "markdown",
      "metadata": {
        "id": "jJpvq-o4a8P7"
      },
      "source": [
        "List comprehension is an elegant way to organize one or more for loops when creating a list.\n",
        "\n",
        "# Summary\n",
        "This chapter has introduced logical operations, loops, and list comprehension. In the next chapter, we will introduce functions and object-oriented programming, which will enable us to make our codes clean and versatile."
      ]
    },
    {
      "cell_type": "markdown",
      "metadata": {
        "id": "Tef_X2wJbdhn"
      },
      "source": [
        "<div align=\"center\">\n",
        "<img style=\"display: block; margin: auto;\" alt=\"photo\" src=\"https://cdn.quantconnect.com/web/i/icon.png\">\n",
        "\n",
        "Quantconnect\n",
        "\n",
        "Introduction to Financial Python\n",
        "</div>\n",
        "\n",
        "# 03 Functions and Objective-Oriented Programming\n",
        "\n",
        "# Introduction\n",
        "\n",
        "In the last tutorial we introduced logical operations, loops and list comprehension. We will introduce functions and object-oriented programming in this chapter, which will enable us to build complex algorithms in more flexible ways.\n",
        "\n",
        "# Functions\n",
        "A function is a reusable block of code. We can use a function to output a value, or do anything else we want. We can easily define our own function by using the keyword \"def\"."
      ]
    },
    {
      "cell_type": "code",
      "metadata": {
        "colab": {
          "base_uri": "https://localhost:8080/"
        },
        "id": "eE_NkTiSO2PO",
        "outputId": "0f71532e-f998-402c-df5a-f819dd8bdb96"
      },
      "source": [
        "def product(x,y): #the function takes two parameters\n",
        "    return x*y    #returns the result of the multiplication of both parameters\n",
        "print(product(2,3))\n",
        "print(product(5,10))\n",
        "\n",
        "def poten (x,y):\n",
        "  return x**y\n",
        "print(poten(2,3))\n",
        "print(poten(5,10))"
      ],
      "execution_count": null,
      "outputs": [
        {
          "output_type": "stream",
          "name": "stdout",
          "text": [
            "6\n",
            "50\n",
            "8\n",
            "9765625\n"
          ]
        }
      ]
    },
    {
      "cell_type": "markdown",
      "metadata": {
        "id": "4oRU_dVJbsdD"
      },
      "source": [
        "The keyword \"def\" is followed by the function name and the parenthesized list of formal parameters. The statements that form the body of the function start at the next line, and must be indented. The product() function above has \"x\" and \"y\" as its parameters. A function doesn't necessarily have parameters:"
      ]
    },
    {
      "cell_type": "code",
      "metadata": {
        "colab": {
          "base_uri": "https://localhost:8080/"
        },
        "id": "JhdWVLbUO2PQ",
        "outputId": "85c7a797-5634-4a40-8a74-880c567cc064"
      },
      "source": [
        "def say_hi():#a function can take no parameters\n",
        "    print('Welcome to QuantConnect')#but still execute a code\n",
        "say_hi()\n",
        "\n",
        "def suma():\n",
        "  tot=0\n",
        "  for i in range (10):\n",
        "    tot=tot+i\n",
        "  print(tot)\n",
        "suma()"
      ],
      "execution_count": null,
      "outputs": [
        {
          "output_type": "stream",
          "name": "stdout",
          "text": [
            "Welcome to QuantConnect\n",
            "45\n"
          ]
        }
      ]
    },
    {
      "cell_type": "markdown",
      "metadata": {
        "id": "lHwqVpWVb1Jr"
      },
      "source": [
        "# Built-in Function\n",
        "**range()** is a function that creates a list containing an arithmetic sequence. It's often used in for loops. The arguments must be integers. If the \"step\" argument is omitted, it defaults to 1."
      ]
    },
    {
      "cell_type": "code",
      "metadata": {
        "colab": {
          "base_uri": "https://localhost:8080/"
        },
        "id": "VVOTELcIO2PQ",
        "outputId": "46d57ee5-819e-4cc6-9842-9f0a023703de"
      },
      "source": [
        "print(range(10))#creates a list of ints from 0 to 10\n",
        "print(range(1,11))#creates a list of ints from 1 to 11\n",
        "print(range(1,11,2))#creates a list of ints from 1 to 11, with increments of two\n",
        "\n",
        "print(range(10,1,-1))#creates a list of ints from 10 to 1, downwards"
      ],
      "execution_count": null,
      "outputs": [
        {
          "output_type": "stream",
          "name": "stdout",
          "text": [
            "range(0, 10)\n",
            "range(1, 11)\n",
            "range(1, 11, 2)\n",
            "range(10, 1, -1)\n"
          ]
        }
      ]
    },
    {
      "cell_type": "markdown",
      "metadata": {
        "id": "PD0cSgiwcQ4L"
      },
      "source": [
        "**len()** is another function used together with range() to create a for loop. This function returns the length of an object. The argument must be a sequence or a collection."
      ]
    },
    {
      "cell_type": "code",
      "metadata": {
        "colab": {
          "base_uri": "https://localhost:8080/"
        },
        "id": "Hg18c7v-O2PR",
        "outputId": "d6e6a5c6-72df-41c3-dbd3-9a67cf5c004f"
      },
      "source": [
        "tickers = ['AAPL','GOOG','IBM','FB','F','V', 'G', 'GE']\n",
        "print('The length of tickers is {}'.format(len(tickers)))#counts and prints the number of elements in the list\n",
        "for i in range(len(tickers)):#iterates form i=0 to i= the number of elements in the list (the length of the list)\n",
        "    print(tickers[i])\n",
        "    for j in range(len(tickers[i])):#iterates as much as the number of characters in the string is\n",
        "      print(tickers[i][j])\n",
        "\n"
      ],
      "execution_count": null,
      "outputs": [
        {
          "output_type": "stream",
          "name": "stdout",
          "text": [
            "The length of tickers is 8\n",
            "AAPL\n",
            "A\n",
            "A\n",
            "P\n",
            "L\n",
            "GOOG\n",
            "G\n",
            "O\n",
            "O\n",
            "G\n",
            "IBM\n",
            "I\n",
            "B\n",
            "M\n",
            "FB\n",
            "F\n",
            "B\n",
            "F\n",
            "F\n",
            "V\n",
            "V\n",
            "G\n",
            "G\n",
            "GE\n",
            "G\n",
            "E\n"
          ]
        }
      ]
    },
    {
      "cell_type": "markdown",
      "metadata": {
        "id": "OIQSuub1cWgi"
      },
      "source": [
        "Note: If you want to print only the tickers without those numbers, then simply write \"for ticker in tickers: print ticker\"\n",
        "\n",
        "**map(**) is a function that applies a specific function to every item of a sequence or collection, and returns a list of the results."
      ]
    },
    {
      "cell_type": "markdown",
      "metadata": {
        "id": "pqPuspeG5HAi"
      },
      "source": [
        "Because list at the moment is [1,2,3,4,5] and overwriting list() from builtins we del list"
      ]
    },
    {
      "cell_type": "code",
      "metadata": {
        "colab": {
          "base_uri": "https://localhost:8080/"
        },
        "id": "caV9c-qk4_eZ",
        "outputId": "2d9cb757-2fd5-44e0-f801-e0f6c001e6ee"
      },
      "source": [
        "print(list)\n",
        "del list\n",
        "list"
      ],
      "execution_count": null,
      "outputs": [
        {
          "output_type": "stream",
          "name": "stdout",
          "text": [
            "[1, 2, 3, 4, 5]\n"
          ]
        },
        {
          "output_type": "execute_result",
          "data": {
            "text/plain": [
              "list"
            ]
          },
          "metadata": {},
          "execution_count": 46
        }
      ]
    },
    {
      "cell_type": "code",
      "metadata": {
        "colab": {
          "base_uri": "https://localhost:8080/"
        },
        "id": "lJBs5ECT4mSq",
        "outputId": "a0387253-be6f-4a25-f8b6-87636db2fa9e"
      },
      "source": [
        "tickers = ['AAPL','GOOG','IBM','FB','F','V', 'G', 'GE']\n",
        "list(map(len,tickers))#in the new list append the length of each element in the original list (aplies len to each element)\n",
        "\n",
        "length=map(len,tickers)\n",
        "\n",
        "list(map(float,length))\n"
      ],
      "execution_count": null,
      "outputs": [
        {
          "output_type": "execute_result",
          "data": {
            "text/plain": [
              "[4.0, 4.0, 3.0, 2.0, 1.0, 1.0, 1.0, 2.0]"
            ]
          },
          "metadata": {},
          "execution_count": 16
        }
      ]
    },
    {
      "cell_type": "code",
      "metadata": {
        "colab": {
          "base_uri": "https://localhost:8080/"
        },
        "id": "78DyKVOyO2PR",
        "outputId": "218987fd-310f-46fd-efe4-6a9715939475"
      },
      "source": [
        "tickers = ['AAPL','GOOG','IBM','FB','F','V', 'G', 'GE']\n",
        "print(list(map(len,tickers)))"
      ],
      "execution_count": null,
      "outputs": [
        {
          "output_type": "stream",
          "name": "stdout",
          "text": [
            "[4, 4, 3, 2, 1, 1, 1, 2]\n"
          ]
        }
      ]
    },
    {
      "cell_type": "markdown",
      "metadata": {
        "id": "mvr06UM7ca7b"
      },
      "source": [
        "The **lambda operator** is a way to create small anonymous functions. These functions are just needed where they have been created. For example:"
      ]
    },
    {
      "cell_type": "code",
      "metadata": {
        "colab": {
          "base_uri": "https://localhost:8080/"
        },
        "id": "pAEHADYXO2PR",
        "outputId": "945610e9-76a7-4671-f760-4013ac4aa143"
      },
      "source": [
        "list(map(lambda x: x**2, range(10)))# the lambda function recieves a parameter x and aplies to it a power of 2, labda will recieve the list created by the range as parameters"
      ],
      "execution_count": null,
      "outputs": [
        {
          "output_type": "execute_result",
          "data": {
            "text/plain": [
              "[0, 1, 4, 9, 16, 25, 36, 49, 64, 81]"
            ]
          },
          "metadata": {},
          "execution_count": 49
        }
      ]
    },
    {
      "cell_type": "code",
      "source": [
        "list(map(lambda x: x % 2, range (10)))#calculates the module 2 of each number in the list created by the range"
      ],
      "metadata": {
        "colab": {
          "base_uri": "https://localhost:8080/"
        },
        "id": "bSOCUjLLmlb-",
        "outputId": "78d666ad-4484-47eb-acf9-94edd4ad8105"
      },
      "execution_count": null,
      "outputs": [
        {
          "output_type": "execute_result",
          "data": {
            "text/plain": [
              "[0, 1, 0, 1, 0, 1, 0, 1, 0, 1]"
            ]
          },
          "metadata": {},
          "execution_count": 17
        }
      ]
    },
    {
      "cell_type": "markdown",
      "metadata": {
        "id": "Mgixpxomcj3T"
      },
      "source": [
        "map() can be applied to more than one list. The lists have to have the same length."
      ]
    },
    {
      "cell_type": "code",
      "metadata": {
        "colab": {
          "base_uri": "https://localhost:8080/"
        },
        "id": "HtckhAaJO2PS",
        "outputId": "8b24472e-2eef-4a71-c36c-b872f8e128db"
      },
      "source": [
        "list(map(lambda x, y: x+y, [1,2,3,4,5],[5,4,3,2,1]))#lambda takes one by one the numbers from the two list and adds them"
      ],
      "execution_count": null,
      "outputs": [
        {
          "output_type": "execute_result",
          "data": {
            "text/plain": [
              "[6, 6, 6, 6, 6]"
            ]
          },
          "metadata": {},
          "execution_count": 50
        }
      ]
    },
    {
      "cell_type": "code",
      "source": [
        "list(map(lambda x,y:y/x,[1,3,5,7], range(4)))#divides one by one the elements of the second list by the elements of the first one"
      ],
      "metadata": {
        "colab": {
          "base_uri": "https://localhost:8080/"
        },
        "id": "Xa5F46wpohg4",
        "outputId": "7d6e663f-0edb-4357-fba8-175c58276f2d"
      },
      "execution_count": null,
      "outputs": [
        {
          "output_type": "execute_result",
          "data": {
            "text/plain": [
              "[0.0, 0.3333333333333333, 0.4, 0.42857142857142855]"
            ]
          },
          "metadata": {},
          "execution_count": 19
        }
      ]
    },
    {
      "cell_type": "markdown",
      "metadata": {
        "id": "ZDnMTH-KcklT"
      },
      "source": [
        "**sorted()** takes a list or set and returns a new sorted list"
      ]
    },
    {
      "cell_type": "code",
      "metadata": {
        "colab": {
          "base_uri": "https://localhost:8080/"
        },
        "id": "P0sHUMFWO2PS",
        "outputId": "ff293907-8b01-47e8-b872-f362d3a63832"
      },
      "source": [
        "sorted([5,2,3,4,1])#sorts the elements of the list"
      ],
      "execution_count": null,
      "outputs": [
        {
          "output_type": "execute_result",
          "data": {
            "text/plain": [
              "[1, 2, 3, 4, 5]"
            ]
          },
          "metadata": {},
          "execution_count": 51
        }
      ]
    },
    {
      "cell_type": "code",
      "source": [
        "sorted(['cas','bvd','xfaw','gb'])#sorts the strings alfabeticly"
      ],
      "metadata": {
        "colab": {
          "base_uri": "https://localhost:8080/"
        },
        "id": "hYDZAol3rNzu",
        "outputId": "1afca69d-c7f8-4a20-bce7-1fafe0ed3629"
      },
      "execution_count": null,
      "outputs": [
        {
          "output_type": "execute_result",
          "data": {
            "text/plain": [
              "['bvd', 'cas', 'gb', 'xfaw']"
            ]
          },
          "metadata": {},
          "execution_count": 21
        }
      ]
    },
    {
      "cell_type": "markdown",
      "metadata": {
        "id": "-N5_EDOFcnsc"
      },
      "source": [
        "We can add a \"key\" parameter to specify a function to be called on each list element prior to making comparisons. For example:"
      ]
    },
    {
      "cell_type": "code",
      "metadata": {
        "colab": {
          "base_uri": "https://localhost:8080/"
        },
        "id": "0i3peZ0bO2PS",
        "outputId": "abb2ae1e-0b2d-4623-8d4f-c66d62985249"
      },
      "source": [
        "price_list = [('AAPL',144.09),('GOOG',911.71),('MSFT',69),('FB',150),('WMT',75.32)]\n",
        "sorted(price_list, key = lambda x: x[1])#tells the function to sort by the second element in each tuple"
      ],
      "execution_count": null,
      "outputs": [
        {
          "output_type": "execute_result",
          "data": {
            "text/plain": [
              "[('MSFT', 69), ('WMT', 75.32), ('AAPL', 144.09), ('FB', 150), ('GOOG', 911.71)]"
            ]
          },
          "metadata": {},
          "execution_count": 52
        }
      ]
    },
    {
      "cell_type": "code",
      "source": [
        "nums=['AAPL','SDFG','ASFA','BSE','IUY']\n",
        "sorted(nums, key = lambda x: x[2])#sorts by the 3rd letter"
      ],
      "metadata": {
        "colab": {
          "base_uri": "https://localhost:8080/"
        },
        "id": "hU88lid2wBXE",
        "outputId": "a3800a06-4fa8-4d12-f7b4-75ad7a96fc5a"
      },
      "execution_count": null,
      "outputs": [
        {
          "output_type": "execute_result",
          "data": {
            "text/plain": [
              "['BSE', 'SDFG', 'ASFA', 'AAPL', 'IUY']"
            ]
          },
          "metadata": {},
          "execution_count": 29
        }
      ]
    },
    {
      "cell_type": "markdown",
      "metadata": {
        "id": "yun2zptKcxe_"
      },
      "source": [
        "By default the values are sorted by ascending order. We can change it to descending by adding an optional parameter \"reverse'."
      ]
    },
    {
      "cell_type": "code",
      "metadata": {
        "colab": {
          "base_uri": "https://localhost:8080/"
        },
        "id": "dEZqdl94O2PT",
        "outputId": "7a707211-8b7e-49ea-cf7e-8d7c87e53778"
      },
      "source": [
        "price_list = [('AAPL',144.09),('GOOG',911.71),('MSFT',69),('FB',150),('WMT',75.32)]\n",
        "sorted(price_list, key = lambda x: x[1],reverse = True)#inverts the list (sorts it in reverse)"
      ],
      "execution_count": null,
      "outputs": [
        {
          "output_type": "execute_result",
          "data": {
            "text/plain": [
              "[('GOOG', 911.71), ('FB', 150), ('AAPL', 144.09), ('WMT', 75.32), ('MSFT', 69)]"
            ]
          },
          "metadata": {},
          "execution_count": 53
        }
      ]
    },
    {
      "cell_type": "code",
      "source": [
        "nums=['AAPL','SDFG','ASFA','BSE','IUY']\n",
        "sorted(nums, key = lambda x: x[2], reverse=True)#sorts by the 3rd letter and in reverse"
      ],
      "metadata": {
        "colab": {
          "base_uri": "https://localhost:8080/"
        },
        "id": "P48iI7g8zo3t",
        "outputId": "84f94835-c509-42a6-de0d-92882da612c4"
      },
      "execution_count": null,
      "outputs": [
        {
          "output_type": "execute_result",
          "data": {
            "text/plain": [
              "['IUY', 'AAPL', 'SDFG', 'ASFA', 'BSE']"
            ]
          },
          "metadata": {},
          "execution_count": 30
        }
      ]
    },
    {
      "cell_type": "markdown",
      "metadata": {
        "id": "OA2wYAa0c6Dn"
      },
      "source": [
        "Lists also have a function list.sort(). This function takes the same \"key\" and \"reverse\" arguments as sorted(), but it doesn't return a new list."
      ]
    },
    {
      "cell_type": "code",
      "metadata": {
        "colab": {
          "base_uri": "https://localhost:8080/"
        },
        "id": "pG9VQCLnO2PT",
        "outputId": "d7fae8af-b6ef-4014-f713-15a286fa0b81"
      },
      "source": [
        "price_list = [('AAPL',144.09),('GOOG',911.71),('MSFT',69),('FB',150),('WMT',75.32)]\n",
        "price_list.sort(key = lambda x: x[1])#sorts the list by the second item in each tuple\n",
        "print(price_list)\n",
        "\n",
        "nums=['AAPL','SDFG','ASFA','BSE','IUY']\n",
        "nums.sort(key = lambda x: x[2], reverse=True)#sorts by the 3rd letter and in reverse\n",
        "print(nums)"
      ],
      "execution_count": null,
      "outputs": [
        {
          "output_type": "stream",
          "name": "stdout",
          "text": [
            "[('MSFT', 69), ('WMT', 75.32), ('AAPL', 144.09), ('FB', 150), ('GOOG', 911.71)]\n",
            "['IUY', 'AAPL', 'SDFG', 'ASFA', 'BSE']\n"
          ]
        }
      ]
    },
    {
      "cell_type": "markdown",
      "metadata": {
        "id": "mxljL1W1c_c5"
      },
      "source": [
        "# Object-Oriented Programming\n",
        "Python is an object-oriented programming language. It's important to understand the concept of \"objects\" because almost every kind of data from QuantConnect API is an object.\n",
        "\n",
        "## Class\n",
        "A class is a type of data, just like a string, float, or list. When we create an object of that data type, we call it an instance of a class.\n",
        "\n",
        "In Python, everything is an object - everything is an instance of some class. The data stored inside an object are called attributes, and the functions which are associated with the object are called methods.\n",
        "\n",
        "For example, as mentioned above, a list is an object of the \"list\" class, and it has a method list.sort().\n",
        "\n",
        "We can create our own objects by defining a class. We would do this when it's helpful to group certain functions together. For example, we define a class named \"Stock\" here:"
      ]
    },
    {
      "cell_type": "code",
      "metadata": {
        "id": "zC4Y4PgDO2PT"
      },
      "source": [
        "class stock:#declares the class\n",
        "    def __init__(self, ticker, open, close, volume):#constructor of the class\n",
        "        #attributes of the object\n",
        "        self.ticker = ticker\n",
        "        self.open = open\n",
        "        self.close = close\n",
        "        self.volume = volume\n",
        "        self.rate_return = float(close)/open - 1\n",
        " \n",
        " #methods of the class\n",
        "    def update(self, open, close):\n",
        "        self.open = open\n",
        "        self.close = close\n",
        "        self.rate_return = float(self.close)/self.open - 1\n",
        " \n",
        "    def print_return(self):\n",
        "        print(self.rate_return)"
      ],
      "execution_count": null,
      "outputs": []
    },
    {
      "cell_type": "code",
      "source": [
        "class person:#declares the class\n",
        "    def __init__(self, age, name, lastname, birthday):#constructor of the class\n",
        "        #attributes of the object\n",
        "        self.age = age\n",
        "        self.name = name\n",
        "        self.lastname = lastname\n",
        "        self.birthday = birthday\n",
        "        \n",
        " #methods of the class\n",
        "    def update(self, age, name):\n",
        "        self.age = age\n",
        "        self.name = name\n",
        "        \n",
        " \n",
        "    def salut(self):\n",
        "        print('Hi! {}'.format(self.name))"
      ],
      "metadata": {
        "id": "zauLTpRg1-8W"
      },
      "execution_count": null,
      "outputs": []
    },
    {
      "cell_type": "markdown",
      "metadata": {
        "id": "rV06INT5dETi"
      },
      "source": [
        "The \"Stock\" class has attributes \"ticker\", \"open\", \"close\", \"volume\" and \"rate_return\". Inside the class body, the first method is called __init__, which is a special method. When we create a new instance of the class, the __init__ method is immediately executed with all the parameters that we pass to the \"Stock\" object. The purpose of this method is to set up a new \"Stock\" object using data we have provided.\n",
        "\n",
        "Here we create two Stock objects named \"apple\" and \"google\"."
      ]
    },
    {
      "cell_type": "code",
      "metadata": {
        "id": "8tIpNk93O2PU"
      },
      "source": [
        "#Creation of objects using the cinstructir and the specified parameters\n",
        "apple = stock('AAPL', 143.69, 144.09, 20109375)\n",
        "google = stock('GOOG', 898.7, 911.7, 1561616)\n",
        "\n",
        "person1=person(23,'Sandra', 'Torres','may 8')\n",
        "person2=person(54,'Erik','Aldana','feb 22')"
      ],
      "execution_count": null,
      "outputs": []
    },
    {
      "cell_type": "markdown",
      "metadata": {
        "id": "VxmELNiHdPKS"
      },
      "source": [
        "Stock objects also have two other methods: update() and print_return(). We can access the attribues of a Stock object and call its methods:"
      ]
    },
    {
      "cell_type": "code",
      "metadata": {
        "colab": {
          "base_uri": "https://localhost:8080/"
        },
        "id": "SsiIkmekO2PU",
        "outputId": "dd845713-a65d-4722-dd97-2935cfc2ef8f"
      },
      "source": [
        "#usage of the methods of the class over one of the object\n",
        "apple.ticker\n",
        "google.print_return()\n",
        "google.update(912.8,913.4)\n",
        "google.print_return()"
      ],
      "execution_count": null,
      "outputs": [
        {
          "output_type": "stream",
          "name": "stdout",
          "text": [
            "0.014465338822744034\n",
            "0.0006573181419806673\n"
          ]
        }
      ]
    },
    {
      "cell_type": "code",
      "source": [
        "person1.salut()\n",
        "person1.update(24,'Zulima')\n",
        "person1.salut()"
      ],
      "metadata": {
        "colab": {
          "base_uri": "https://localhost:8080/"
        },
        "id": "mGTKR0ah540R",
        "outputId": "74223b8d-b22a-4f5d-bde7-c061fcc690f9"
      },
      "execution_count": null,
      "outputs": [
        {
          "output_type": "stream",
          "name": "stdout",
          "text": [
            "Hi! Sandra\n",
            "Hi! Zulima\n"
          ]
        }
      ]
    },
    {
      "cell_type": "markdown",
      "metadata": {
        "id": "Q8fl7keNdVKF"
      },
      "source": [
        "By calling the update() function, we updated the open and close prices of a stock. Please note that when we use the attributes or call the methods **inside a class**, we need to specify them as self.attribute or self.method(), otherwise Python will deem them as global variables and thus raise an error.\n",
        "\n",
        "We can add an attribute to an object anywhere:"
      ]
    },
    {
      "cell_type": "code",
      "metadata": {
        "colab": {
          "base_uri": "https://localhost:8080/",
          "height": 35
        },
        "id": "rO4OLnqOO2PU",
        "outputId": "befb0c15-f22d-41a1-8b1a-ee7e2809b618"
      },
      "source": [
        "apple.ceo = 'Tim Cook'#creates a new attribute in the object and gives it a value\n",
        "apple.ceo\n",
        "\n",
        "person2.nationality='Colombian'#creates a new attribute in the object and gives it a value\n",
        "person2.nationality"
      ],
      "execution_count": null,
      "outputs": [
        {
          "output_type": "execute_result",
          "data": {
            "text/plain": [
              "'Colombian'"
            ],
            "application/vnd.google.colaboratory.intrinsic+json": {
              "type": "string"
            }
          },
          "metadata": {},
          "execution_count": 42
        }
      ]
    },
    {
      "cell_type": "markdown",
      "metadata": {
        "id": "WyfnFgVidh4J"
      },
      "source": [
        "We can check what names (i.e. attributes and methods) are defined on an object using the dir() function:"
      ]
    },
    {
      "cell_type": "code",
      "metadata": {
        "colab": {
          "base_uri": "https://localhost:8080/"
        },
        "id": "pPoz0LA8O2PU",
        "outputId": "b7593b59-4494-42a7-a97a-ce1ad3600200"
      },
      "source": [
        "dir(apple)#shows all attributes and methodos of an object"
      ],
      "execution_count": null,
      "outputs": [
        {
          "output_type": "execute_result",
          "data": {
            "text/plain": [
              "['__class__',\n",
              " '__delattr__',\n",
              " '__dict__',\n",
              " '__dir__',\n",
              " '__doc__',\n",
              " '__eq__',\n",
              " '__format__',\n",
              " '__ge__',\n",
              " '__getattribute__',\n",
              " '__gt__',\n",
              " '__hash__',\n",
              " '__init__',\n",
              " '__init_subclass__',\n",
              " '__le__',\n",
              " '__lt__',\n",
              " '__module__',\n",
              " '__ne__',\n",
              " '__new__',\n",
              " '__reduce__',\n",
              " '__reduce_ex__',\n",
              " '__repr__',\n",
              " '__setattr__',\n",
              " '__sizeof__',\n",
              " '__str__',\n",
              " '__subclasshook__',\n",
              " '__weakref__',\n",
              " 'ceo',\n",
              " 'close',\n",
              " 'open',\n",
              " 'print_return',\n",
              " 'rate_return',\n",
              " 'ticker',\n",
              " 'update',\n",
              " 'volume']"
            ]
          },
          "metadata": {},
          "execution_count": 44
        }
      ]
    },
    {
      "cell_type": "code",
      "source": [
        "dir(person2)"
      ],
      "metadata": {
        "colab": {
          "base_uri": "https://localhost:8080/"
        },
        "id": "64D25n9t7UyW",
        "outputId": "9390e872-beb8-4929-800f-283320de4e50"
      },
      "execution_count": null,
      "outputs": [
        {
          "output_type": "execute_result",
          "data": {
            "text/plain": [
              "['__class__',\n",
              " '__delattr__',\n",
              " '__dict__',\n",
              " '__dir__',\n",
              " '__doc__',\n",
              " '__eq__',\n",
              " '__format__',\n",
              " '__ge__',\n",
              " '__getattribute__',\n",
              " '__gt__',\n",
              " '__hash__',\n",
              " '__init__',\n",
              " '__init_subclass__',\n",
              " '__le__',\n",
              " '__lt__',\n",
              " '__module__',\n",
              " '__ne__',\n",
              " '__new__',\n",
              " '__reduce__',\n",
              " '__reduce_ex__',\n",
              " '__repr__',\n",
              " '__setattr__',\n",
              " '__sizeof__',\n",
              " '__str__',\n",
              " '__subclasshook__',\n",
              " '__weakref__',\n",
              " 'age',\n",
              " 'birthday',\n",
              " 'lastname',\n",
              " 'name',\n",
              " 'nationality',\n",
              " 'salut',\n",
              " 'update']"
            ]
          },
          "metadata": {},
          "execution_count": 43
        }
      ]
    },
    {
      "cell_type": "markdown",
      "metadata": {
        "id": "Qpemj1UZd2aa"
      },
      "source": [
        "## Inheritance\n",
        "Inheritance is a way of arranging classes in a hierarchy from the most general to the most specific. A \"child\" class is a more specific type of a \"parent\" class because a child class will inherit all the attribues and methods of its parent. For example, we define a class named \"Child\" which inherits \"Stock\":"
      ]
    },
    {
      "cell_type": "code",
      "metadata": {
        "id": "UELXnxomO2PV"
      },
      "source": [
        "class child(stock):#child receives all the methods and attributes from stock (parent class)\n",
        "    def __init__(self,name):#constructor with new attribute 'name'\n",
        "        self.name = name\n",
        "class teacher(person):#teacher (child class) receives all the methods and attributes from person (parent class)\n",
        "  def __init__(self,subject):#constructor with new attribute 'subject'\n",
        "    self.subject=subject"
      ],
      "execution_count": null,
      "outputs": []
    },
    {
      "cell_type": "code",
      "metadata": {
        "colab": {
          "base_uri": "https://localhost:8080/"
        },
        "id": "ffS2THZyO2PV",
        "outputId": "1b517594-0c26-4571-a35f-4a33debcdf16"
      },
      "source": [
        "aa = child('aa')#instance of the new class\n",
        "print(aa.name)#the new object can use the attributes and methods of the parent class\n",
        "aa.update(100,102)\n",
        "print(aa.open)\n",
        "print(aa.close)\n",
        "print(aa.print_return())\n",
        "\n",
        "t1=teacher('Calculus')#instance of the new class\n",
        "print(t1.subject)#the new object can use the attributes and methods of the parent class\n",
        "t1.update(36,'Camilo')\n",
        "print(t1.age)\n",
        "t1.salut()"
      ],
      "execution_count": null,
      "outputs": [
        {
          "output_type": "stream",
          "name": "stdout",
          "text": [
            "aa\n",
            "100\n",
            "102\n",
            "0.020000000000000018\n",
            "None\n",
            "Calculus\n",
            "36\n",
            "Hi! Camilo\n"
          ]
        }
      ]
    },
    {
      "cell_type": "markdown",
      "metadata": {
        "id": "pdIEjUv2eJqL"
      },
      "source": [
        "As seen above, the new class Child has inherited the methods from Stock.\n",
        "\n",
        "#Summary\n",
        "\n",
        "In this chapter we have introduced functions and classes. When we write a QuantConnect algorithm, we would define our algorithm as a class (QCAlgorithm). This means our algorithm inherited the QC API methods from QCAlgorithm class.\n",
        "\n",
        "In the next chapter, we will introduce NumPy and Pandas, which enable us to conduct scientific calculations in Python."
      ]
    },
    {
      "cell_type": "markdown",
      "metadata": {
        "id": "dQbENH6mexTd"
      },
      "source": [
        "<div align=\"center\">\n",
        "<img style=\"display: block; margin: auto;\" alt=\"photo\" src=\"https://cdn.quantconnect.com/web/i/icon.png\">\n",
        "\n",
        "Quantconnect\n",
        "\n",
        "Introduction to Financial Python\n",
        "</div>\n",
        "\n",
        "# 04 NumPy and Basic Pandas\n",
        "\n",
        "# Introduction\n",
        "\n",
        "Now that we have introduced the fundamentals of Python, it's time to learn about NumPy and Pandas.\n",
        "\n",
        "# NumPy\n",
        "NumPy is the core library for scientific computing in Python. It provides a high-performance multidimensional array object, and tools for working with these arrays. It also has strong integration with Pandas, which is another powerful tool for manipulating financial data.\n",
        "\n",
        "Python packages like NumPy and Pandas contain classes and methods which we can use by importing the package:"
      ]
    },
    {
      "cell_type": "code",
      "metadata": {
        "id": "aIESp-rdO58h"
      },
      "source": [
        "import numpy as np #imports numpy library and gives it a name"
      ],
      "execution_count": null,
      "outputs": []
    },
    {
      "cell_type": "markdown",
      "metadata": {
        "id": "GScHHJ5ke7ea"
      },
      "source": [
        "## Basic NumPy Arrays\n",
        "A NumPy array is a grid of values, all of the same type, and is indexed by a tuple of nonnegative integers. Here we make an array by passing a list of Apple stock prices:"
      ]
    },
    {
      "cell_type": "code",
      "metadata": {
        "colab": {
          "base_uri": "https://localhost:8080/"
        },
        "id": "lZI1wkwDO58i",
        "outputId": "af630221-684b-47eb-e6c7-c3f3dadd20f7"
      },
      "source": [
        "price_list = [143.73, 145.83, 143.68, 144.02, 143.5, 142.62]\n",
        "price_array = np.array(price_list)#we can create the array by passing a variable\n",
        "print(price_array, type(price_array))\n",
        "\n",
        "int_array=np.array([1,2,3,4,5,6,7,8,9])#or we can reate it directly with the values\n",
        "print(int_array, type(int_array))\n"
      ],
      "execution_count": null,
      "outputs": [
        {
          "output_type": "stream",
          "name": "stdout",
          "text": [
            "[143.73 145.83 143.68 144.02 143.5  142.62] <class 'numpy.ndarray'>\n",
            "[1 2 3 4 5 6 7 8 9] <class 'numpy.ndarray'>\n"
          ]
        }
      ]
    },
    {
      "cell_type": "markdown",
      "metadata": {
        "id": "-5Yj6u9ifB-t"
      },
      "source": [
        "Notice that the type of array is \"ndarray\" which is a multi-dimensional array. If we pass np.array() a list of lists, it will create a 2-dimensional array."
      ]
    },
    {
      "cell_type": "code",
      "metadata": {
        "colab": {
          "base_uri": "https://localhost:8080/"
        },
        "id": "obvIZrK-O58j",
        "outputId": "5ef61a6f-e123-468d-d30a-f9869ea4dcf6"
      },
      "source": [
        "Ar = np.array([[1,3],[2,4]])#this is a 2x2 matrix\n",
        "print(Ar, type(Ar))\n",
        "\n",
        "Ar2 = np.array([[1,3],[2,4],[5,6]])#this is a 3x2 matrix\n",
        "print(Ar2, type(Ar2))"
      ],
      "execution_count": null,
      "outputs": [
        {
          "output_type": "stream",
          "name": "stdout",
          "text": [
            "[[1 3]\n",
            " [2 4]] <class 'numpy.ndarray'>\n",
            "[[1 3]\n",
            " [2 4]\n",
            " [5 6]] <class 'numpy.ndarray'>\n"
          ]
        }
      ]
    },
    {
      "cell_type": "markdown",
      "metadata": {
        "id": "uDdfLD9HfHkl"
      },
      "source": [
        "We get the dimensions of an ndarray using the .shape attribute:"
      ]
    },
    {
      "cell_type": "code",
      "metadata": {
        "colab": {
          "base_uri": "https://localhost:8080/"
        },
        "id": "G2txdn73O58j",
        "outputId": "7d855ff8-f13d-4f47-dd7a-86bea321a45f"
      },
      "source": [
        "print(Ar.shape)#prints the dimensions of the matrix/vector\n",
        "print(Ar2.shape)"
      ],
      "execution_count": null,
      "outputs": [
        {
          "output_type": "stream",
          "name": "stdout",
          "text": [
            "(2, 2)\n",
            "(3, 2)\n"
          ]
        }
      ]
    },
    {
      "cell_type": "markdown",
      "metadata": {
        "id": "87W5ueORfPEy"
      },
      "source": [
        "If we create an 2-dimensional array (i.e. matrix), each row can be accessed by index:"
      ]
    },
    {
      "cell_type": "code",
      "metadata": {
        "colab": {
          "base_uri": "https://localhost:8080/"
        },
        "id": "x_QV9aPbO58j",
        "outputId": "15b6cadf-5e1d-4941-993d-9c4b786f73f0"
      },
      "source": [
        "print(Ar[0])#returns the row 0\n",
        "print(Ar[1])#returns the row 1\n",
        "\n",
        "print(Ar2[0])#returns the row 0\n",
        "print(Ar2[1,:])#returns the row 1 (: means all the columns on that row)\n",
        "print(Ar2[2])#returns the row 2"
      ],
      "execution_count": null,
      "outputs": [
        {
          "output_type": "stream",
          "name": "stdout",
          "text": [
            "[1 3]\n",
            "[2 4]\n",
            "[1 3]\n",
            "[2 4]\n",
            "[5 6]\n"
          ]
        }
      ]
    },
    {
      "cell_type": "markdown",
      "metadata": {
        "id": "5Hke7Vt-fSGB"
      },
      "source": [
        "If we want to access the matrix by column instead:"
      ]
    },
    {
      "cell_type": "code",
      "metadata": {
        "colab": {
          "base_uri": "https://localhost:8080/"
        },
        "id": "gHVwbPfOO58j",
        "outputId": "eb2bfd25-9c28-4a6e-cc9f-94da3dff769f"
      },
      "source": [
        "print('the first column: ', Ar[:,0])#selects all the rows(\":\") but only column 0\n",
        "print('the second column: ', Ar[:,1])#selects all the rows(\":\") in column 0\n",
        "\n",
        "print(Ar2[:,0])#selects the first column\n",
        "print(Ar2[:,1])#selects the second column"
      ],
      "execution_count": null,
      "outputs": [
        {
          "output_type": "stream",
          "name": "stdout",
          "text": [
            "the first column:  [1 2]\n",
            "the second column:  [3 4]\n",
            "[1 2 5]\n",
            "[3 4 6]\n"
          ]
        }
      ]
    },
    {
      "cell_type": "markdown",
      "metadata": {
        "id": "T61cD0HMfStB"
      },
      "source": [
        "## Array Functions\n",
        "Some functions built in NumPy that allow us to perform calculations on arrays. For example, we can apply the natural logarithm to each element of an array:"
      ]
    },
    {
      "cell_type": "code",
      "metadata": {
        "colab": {
          "base_uri": "https://localhost:8080/"
        },
        "id": "PKhwtJ7XO58k",
        "outputId": "490fc45d-7882-461d-ef63-b6b54d871292"
      },
      "source": [
        "print(np.log(price_array))#takes each number in the array and applies the log\n",
        "\n",
        "print(np.log(Ar2))#it also works for multidimentional arrays"
      ],
      "execution_count": null,
      "outputs": [
        {
          "output_type": "stream",
          "name": "stdout",
          "text": [
            "[4.96793654 4.98244156 4.9675886  4.96995218 4.96633504 4.96018375]\n",
            "[[0.         1.09861229]\n",
            " [0.69314718 1.38629436]\n",
            " [1.60943791 1.79175947]]\n"
          ]
        }
      ]
    },
    {
      "cell_type": "markdown",
      "metadata": {
        "id": "uzjBRFBLfZ-D"
      },
      "source": [
        "Other functions return a single value:"
      ]
    },
    {
      "cell_type": "code",
      "metadata": {
        "colab": {
          "base_uri": "https://localhost:8080/"
        },
        "id": "nQuABZqUO58k",
        "outputId": "387a896e-9660-4842-d0ca-9d0e27fb0419"
      },
      "source": [
        "print(np.mean(price_array))#returns the mean of the array elements\n",
        "print(np.std(price_array))#returns the standard deviation of the array elements\n",
        "print(np.sum(price_array))#returns the addition of the array elements\n",
        "print(np.max(price_array))#returns largest value in the array\n",
        "\n",
        "#it also works for multidementional arrays\n",
        "print(np.mean(Ar2))#returns the mean of the array elements\n",
        "print(np.std(Ar2))#returns the standard deviation of the array elements\n",
        "print(np.sum(Ar2))#returns the addition of the array elements\n",
        "print(np.max(Ar2))#returns largest value in the array\n",
        "print(np.min(Ar2))#returns smallest value in the array"
      ],
      "execution_count": null,
      "outputs": [
        {
          "output_type": "stream",
          "name": "stdout",
          "text": [
            "143.89666666666668\n",
            "0.9673790478515796\n",
            "863.38\n",
            "145.83\n",
            "3.5\n",
            "1.707825127659933\n",
            "21\n",
            "6\n",
            "1\n"
          ]
        }
      ]
    },
    {
      "cell_type": "markdown",
      "metadata": {
        "id": "IRW95BsifgDB"
      },
      "source": [
        "The functions above return the mean, standard deviation, total and maximum value of an array.\n",
        "\n",
        "# Pandas\n",
        "Pandas is one of the most powerful tools for dealing with financial data. \n",
        "\n",
        "First we need to import Pandas:"
      ]
    },
    {
      "cell_type": "code",
      "metadata": {
        "id": "xIYH4oUfO58k"
      },
      "source": [
        "import pandas as pd#import Pandas and calles ir pd"
      ],
      "execution_count": null,
      "outputs": []
    },
    {
      "cell_type": "markdown",
      "metadata": {
        "id": "zOig5gORfnJU"
      },
      "source": [
        "## Series\n",
        "Series is a one-dimensional labeled array capable of holding any data type (integers, strings, float, Python object, etc.)\n",
        "\n",
        "We create a Series by calling pd.Series(data), where data can be a dictionary, an array or just a scalar value."
      ]
    },
    {
      "cell_type": "code",
      "metadata": {
        "colab": {
          "base_uri": "https://localhost:8080/"
        },
        "id": "JmzoNzrPO58k",
        "outputId": "51ed771e-be48-4ffc-ce10-fe53cda3b2bd"
      },
      "source": [
        "price = [143.73, 145.83, 143.68, 144.02, 143.5, 142.62]\n",
        "s = pd.Series(price)\n",
        "s\n",
        "\n",
        "newarr=['a',2,3.5,True]\n",
        "newser = pd.Series(newarr)#the Series can hold different data types and be of type object\n",
        "newser"
      ],
      "execution_count": null,
      "outputs": [
        {
          "output_type": "execute_result",
          "data": {
            "text/plain": [
              "0       a\n",
              "1       2\n",
              "2     3.5\n",
              "3    True\n",
              "dtype: object"
            ]
          },
          "metadata": {},
          "execution_count": 13
        }
      ]
    },
    {
      "cell_type": "markdown",
      "metadata": {
        "id": "tP5iDnunfq46"
      },
      "source": [
        "We can customize the indices of a new Series:"
      ]
    },
    {
      "cell_type": "code",
      "metadata": {
        "colab": {
          "base_uri": "https://localhost:8080/"
        },
        "id": "eswQC3ZPO58l",
        "outputId": "5698a7da-4bf4-4469-b4df-807e255c5320"
      },
      "source": [
        "s = pd.Series(price,index = ['a','b','c','d','e','f'])#changes the index of the elements with a list as we create it\n",
        "s\n",
        "\n",
        "newser=pd.Series(newarr, index=[\"#1\",\"#2\",\"#3\",\"#4\"])\n",
        "newser"
      ],
      "execution_count": null,
      "outputs": [
        {
          "output_type": "execute_result",
          "data": {
            "text/plain": [
              "#1       a\n",
              "#2       2\n",
              "#3     3.5\n",
              "#4    True\n",
              "dtype: object"
            ]
          },
          "metadata": {},
          "execution_count": 16
        }
      ]
    },
    {
      "cell_type": "markdown",
      "metadata": {
        "id": "wdZrb8pEfuua"
      },
      "source": [
        "Or we can change the indices of an existing Series:"
      ]
    },
    {
      "cell_type": "code",
      "metadata": {
        "colab": {
          "base_uri": "https://localhost:8080/"
        },
        "id": "MwlRnPF6O58l",
        "outputId": "c29af567-88a0-4034-ec9e-75ceb1a1309e"
      },
      "source": [
        "s.index = [6,5,4,3,2,1] #changes the index of an existing Series\n",
        "s\n",
        "\n",
        "newser.index=[\"#-1\",\"#-2\",\"#-3\",\"#-4\"]\n",
        "newser"
      ],
      "execution_count": null,
      "outputs": [
        {
          "output_type": "execute_result",
          "data": {
            "text/plain": [
              "#-1       a\n",
              "#-2       2\n",
              "#-3     3.5\n",
              "#-4    True\n",
              "dtype: object"
            ]
          },
          "metadata": {},
          "execution_count": 18
        }
      ]
    },
    {
      "cell_type": "markdown",
      "metadata": {
        "id": "6cGNQZwLfxIz"
      },
      "source": [
        "Series is like a list since it can be sliced by index:"
      ]
    },
    {
      "cell_type": "code",
      "metadata": {
        "colab": {
          "base_uri": "https://localhost:8080/"
        },
        "id": "N9bBSg6cO58l",
        "outputId": "6a818a01-e53e-4550-bb5f-d7916521081e"
      },
      "source": [
        "print(s[1:])#selects the elements from the position 1 to the end\n",
        "print(s[:-2])#selects the elements from the beggining to the position two steps before the last one (-2)\n",
        "\n",
        "print(newser[0:3])#2 ways to print the same slice\n",
        "print(newser[:-1])"
      ],
      "execution_count": null,
      "outputs": [
        {
          "output_type": "stream",
          "name": "stdout",
          "text": [
            "5    145.83\n",
            "4    143.68\n",
            "3    144.02\n",
            "2    143.50\n",
            "1    142.62\n",
            "dtype: float64\n",
            "6    143.73\n",
            "5    145.83\n",
            "4    143.68\n",
            "3    144.02\n",
            "dtype: float64\n",
            "#-1      a\n",
            "#-2      2\n",
            "#-3    3.5\n",
            "dtype: object\n",
            "#-1      a\n",
            "#-2      2\n",
            "#-3    3.5\n",
            "dtype: object\n"
          ]
        }
      ]
    },
    {
      "cell_type": "markdown",
      "metadata": {
        "id": "5V25nViZfz3Z"
      },
      "source": [
        "Series is also like a dictionary whose values can be set or fetched by index label:"
      ]
    },
    {
      "cell_type": "code",
      "metadata": {
        "colab": {
          "base_uri": "https://localhost:8080/"
        },
        "id": "b3Y0kKGYO58l",
        "outputId": "764da3f8-efd1-481f-829c-dde90255a72e"
      },
      "source": [
        "print(s[4])#searchs the element in the position called 4\n",
        "s[4] = 0#changes the element in the position called 4\n",
        "print(s)\n",
        "\n",
        "print(newser[\"#-2\"])\n",
        "newser[\"#-2\"]=69\n",
        "print(newser)"
      ],
      "execution_count": null,
      "outputs": [
        {
          "output_type": "stream",
          "name": "stdout",
          "text": [
            "143.68\n",
            "6    143.73\n",
            "5    145.83\n",
            "4      0.00\n",
            "3    144.02\n",
            "2    143.50\n",
            "1    142.62\n",
            "dtype: float64\n",
            "2\n",
            "#-1       a\n",
            "#-2      69\n",
            "#-3     3.5\n",
            "#-4    True\n",
            "dtype: object\n"
          ]
        }
      ]
    },
    {
      "cell_type": "markdown",
      "metadata": {
        "id": "RQ1P7Gkyf060"
      },
      "source": [
        "Series can also have a name attribute, which will be used when we make up a Pandas DataFrame using several series."
      ]
    },
    {
      "cell_type": "code",
      "metadata": {
        "colab": {
          "base_uri": "https://localhost:8080/"
        },
        "id": "ZeD4-p7KO58m",
        "outputId": "ccb6d5bc-8a08-40db-a897-b8a7b32ddfed"
      },
      "source": [
        "s = pd.Series(price, name = 'Apple Price List')#asignes a name to the series when created\n",
        "print(s)\n",
        "print(s.name)\n",
        "\n",
        "newser.name=\"Mi serie\" #you can give name to an existing series\n",
        "print(newser)\n",
        "print(newser.name)"
      ],
      "execution_count": null,
      "outputs": [
        {
          "output_type": "stream",
          "name": "stdout",
          "text": [
            "0    143.73\n",
            "1    145.83\n",
            "2    143.68\n",
            "3    144.02\n",
            "4    143.50\n",
            "5    142.62\n",
            "Name: Apple Price List, dtype: float64\n",
            "Apple Price List\n",
            "#-1       a\n",
            "#-2      69\n",
            "#-3     3.5\n",
            "#-4    True\n",
            "Name: Mi serie, dtype: object\n",
            "Mi serie\n"
          ]
        }
      ]
    },
    {
      "cell_type": "markdown",
      "metadata": {
        "id": "geJb1pGHf5Et"
      },
      "source": [
        "We can get the statistical summaries of a Series:"
      ]
    },
    {
      "cell_type": "code",
      "metadata": {
        "colab": {
          "base_uri": "https://localhost:8080/"
        },
        "id": "mGPtFcjegm4i",
        "outputId": "fd98eb9a-dba5-4dfe-dea6-0becf38398e6"
      },
      "source": [
        "print(s.describe())#prints the statistics of the series, includinf min, max, std, mean etc (when elements are all numbers)\n",
        "\n",
        "print(newser.describe())#whe different types, it gives info on count and frequency of elements"
      ],
      "execution_count": null,
      "outputs": [
        {
          "output_type": "stream",
          "name": "stdout",
          "text": [
            "count      6.000000\n",
            "mean     143.896667\n",
            "std        1.059711\n",
            "min      142.620000\n",
            "25%      143.545000\n",
            "50%      143.705000\n",
            "75%      143.947500\n",
            "max      145.830000\n",
            "Name: Apple Price List, dtype: float64\n",
            "count     4\n",
            "unique    4\n",
            "top       a\n",
            "freq      1\n",
            "Name: Mi serie, dtype: object\n"
          ]
        }
      ]
    },
    {
      "cell_type": "markdown",
      "metadata": {
        "id": "LkdZu-CDgvlR"
      },
      "source": [
        "## Time Index\n",
        "Pandas has a built-in function specifically for creating date indices: pd.date_range(). We use it to create a new index for our Series:"
      ]
    },
    {
      "cell_type": "code",
      "metadata": {
        "colab": {
          "base_uri": "https://localhost:8080/"
        },
        "id": "HJe5hU4zO58m",
        "outputId": "36daafb0-5e73-4bb4-eaaf-156677532f6c"
      },
      "source": [
        "time_index = pd.date_range('2017-01-01',periods = len(s),freq = 'D')#creates the date indexes starting from '2017-01-01', during a number of periods equal to the length of the series and changing in days\n",
        "print(time_index)\n",
        "s.index = time_index\n",
        "print(s)\n",
        "\n",
        "time_index2 = pd.date_range('2017-01-01',periods = len(s),freq = 'M')#the same but changes by month\n",
        "print(time_index2)\n",
        "s.index = time_index2\n",
        "print(s)"
      ],
      "execution_count": null,
      "outputs": [
        {
          "output_type": "stream",
          "name": "stdout",
          "text": [
            "DatetimeIndex(['2017-01-01', '2017-01-02', '2017-01-03', '2017-01-04',\n",
            "               '2017-01-05', '2017-01-06'],\n",
            "              dtype='datetime64[ns]', freq='D')\n",
            "2017-01-01    143.73\n",
            "2017-01-02    145.83\n",
            "2017-01-03    143.68\n",
            "2017-01-04    144.02\n",
            "2017-01-05    143.50\n",
            "2017-01-06    142.62\n",
            "Freq: D, Name: Apple Price List, dtype: float64\n",
            "DatetimeIndex(['2017-01-31', '2017-02-28', '2017-03-31', '2017-04-30',\n",
            "               '2017-05-31', '2017-06-30'],\n",
            "              dtype='datetime64[ns]', freq='M')\n",
            "2017-01-31    143.73\n",
            "2017-02-28    145.83\n",
            "2017-03-31    143.68\n",
            "2017-04-30    144.02\n",
            "2017-05-31    143.50\n",
            "2017-06-30    142.62\n",
            "Freq: M, Name: Apple Price List, dtype: float64\n"
          ]
        }
      ]
    },
    {
      "cell_type": "markdown",
      "metadata": {
        "id": "7WedejFZg19J"
      },
      "source": [
        "Series are usually accessed using the iloc[] and loc[] methods. iloc[] is used to access elements by integer index, and loc[] is used to access the index of the series.\n",
        "\n",
        "iloc[] is necessary when the index of a series are integers, take our previous defined series as example:"
      ]
    },
    {
      "cell_type": "code",
      "metadata": {
        "colab": {
          "base_uri": "https://localhost:8080/"
        },
        "id": "KrVSOyMvO58m",
        "outputId": "d575dbc9-4cb8-4358-d673-8517c0d2ef4a"
      },
      "source": [
        "s.index = [6,5,4,3,2,1]#uses the index defined by the user\n",
        "print(s)\n",
        "print(s[1])\n",
        "\n",
        "print(s[5])"
      ],
      "execution_count": null,
      "outputs": [
        {
          "output_type": "stream",
          "name": "stdout",
          "text": [
            "6    143.73\n",
            "5    145.83\n",
            "4    143.68\n",
            "3    144.02\n",
            "2    143.50\n",
            "1    142.62\n",
            "Name: Apple Price List, dtype: float64\n",
            "142.62\n",
            "145.83\n"
          ]
        }
      ]
    },
    {
      "cell_type": "markdown",
      "metadata": {
        "id": "r30VKPtpg61p"
      },
      "source": [
        "If we intended to take the second element of the series, we would make a mistake here, because the index are integers. In order to access to the element we want, we use iloc[] here:"
      ]
    },
    {
      "cell_type": "code",
      "metadata": {
        "colab": {
          "base_uri": "https://localhost:8080/"
        },
        "id": "bHukfaAmO58m",
        "outputId": "5a2a538d-f492-4ac9-aa56-e28c0e626077"
      },
      "source": [
        "print(s.iloc[1])#uses the position in the series as index\n",
        "print(s.iloc[5])"
      ],
      "execution_count": null,
      "outputs": [
        {
          "output_type": "stream",
          "name": "stdout",
          "text": [
            "145.83\n",
            "142.62\n"
          ]
        }
      ]
    },
    {
      "cell_type": "markdown",
      "metadata": {
        "id": "kHVBRL_Rg84j"
      },
      "source": [
        "While working with time series data, we often use time as the index. Pandas provides us with various methods to access the data by time index"
      ]
    },
    {
      "cell_type": "code",
      "metadata": {
        "colab": {
          "base_uri": "https://localhost:8080/"
        },
        "id": "FCf8Hg7jO58n",
        "outputId": "850557da-42fd-45d0-f6d4-988c6b7d1d74"
      },
      "source": [
        "s.index = time_index\n",
        "print(s['2017-01-03'])#search using an specific date index\n",
        "\n",
        "s.index = time_index2\n",
        "print(s['2017-06-30'])"
      ],
      "execution_count": null,
      "outputs": [
        {
          "output_type": "stream",
          "name": "stdout",
          "text": [
            "143.68\n",
            "142.62\n"
          ]
        }
      ]
    },
    {
      "cell_type": "markdown",
      "metadata": {
        "id": "XJXcrSFpg-To"
      },
      "source": [
        "We can even access to a range of dates:"
      ]
    },
    {
      "cell_type": "code",
      "metadata": {
        "colab": {
          "base_uri": "https://localhost:8080/"
        },
        "id": "NsE-Lr_9O58n",
        "outputId": "f75187a0-59c4-4c5e-a2d9-c3136f2f93cf"
      },
      "source": [
        "s.index = time_index\n",
        "print(s['2017-01-02':'2017-01-05'])#selects all the elements which index is inside the range given\n",
        "s.index = time_index2\n",
        "print(s['2017-02-24':'2017-06-10'])#borders don't have to be exact"
      ],
      "execution_count": null,
      "outputs": [
        {
          "output_type": "stream",
          "name": "stdout",
          "text": [
            "2017-01-02    145.83\n",
            "2017-01-03    143.68\n",
            "2017-01-04    144.02\n",
            "2017-01-05    143.50\n",
            "Freq: D, Name: Apple Price List, dtype: float64\n",
            "2017-02-28    145.83\n",
            "2017-03-31    143.68\n",
            "2017-04-30    144.02\n",
            "2017-05-31    143.50\n",
            "Freq: M, Name: Apple Price List, dtype: float64\n"
          ]
        }
      ]
    },
    {
      "cell_type": "markdown",
      "metadata": {
        "id": "cWA3NCXEhCLB"
      },
      "source": [
        "Series[] provides us a very flexible way to index data. We can add any condition in the square brackets:"
      ]
    },
    {
      "cell_type": "code",
      "metadata": {
        "colab": {
          "base_uri": "https://localhost:8080/"
        },
        "id": "aawbrg2EO58n",
        "outputId": "68ecb985-ae8e-4f0b-f3d6-5a25f9c5cb4b"
      },
      "source": [
        "print(s[s < np.mean(s)] )#prints the elements that meet the condition\n",
        "print([(s > np.mean(s)) & (s < np.mean(s) + 1.64*np.std(s))])#evaluates the conditions on each element and gives the results\n",
        "\n",
        "print(newser!=69)\n",
        "print((newser!=69) & (newser !=True))"
      ],
      "execution_count": null,
      "outputs": [
        {
          "output_type": "stream",
          "name": "stdout",
          "text": [
            "2017-01-31    143.73\n",
            "2017-03-31    143.68\n",
            "2017-05-31    143.50\n",
            "2017-06-30    142.62\n",
            "Name: Apple Price List, dtype: float64\n",
            "[2017-01-31    False\n",
            "2017-02-28    False\n",
            "2017-03-31    False\n",
            "2017-04-30     True\n",
            "2017-05-31    False\n",
            "2017-06-30    False\n",
            "Freq: M, Name: Apple Price List, dtype: bool]\n",
            "#-1     True\n",
            "#-2    False\n",
            "#-3     True\n",
            "#-4     True\n",
            "Name: Mi serie, dtype: bool\n",
            "#-1     True\n",
            "#-2    False\n",
            "#-3     True\n",
            "#-4    False\n",
            "Name: Mi serie, dtype: bool\n"
          ]
        }
      ]
    },
    {
      "cell_type": "markdown",
      "metadata": {
        "id": "jAByChIwhEuI"
      },
      "source": [
        "As demonstrated, we can use logical operators like & (and), | (or) and ~ (not) to group multiple conditions.\n",
        "\n",
        "# Summary\n",
        "Here we have introduced NumPy and Pandas for scientific computing in Python. In the next chapter, we will dive into Pandas to learn resampling and manipulating Pandas DataFrame, which are commonly used in financial data analysis."
      ]
    },
    {
      "cell_type": "markdown",
      "metadata": {
        "id": "OtjOpw6oJp6z"
      },
      "source": [
        "<div align=\"center\">\n",
        "<img style=\"display: block; margin: auto;\" alt=\"photo\" src=\"https://cdn.quantconnect.com/web/i/icon.png\"> <img style=\"display: block; margin: auto;\" alt=\"photo\" src=\"https://www.marketing-branding.com/wp-content/uploads/2020/07/google-colaboratory-colab-guia-completa.jpg \" width=\"50\" height=\"50\">\n",
        "<img style=\"display: block; margin: auto;\" alt=\"photo\" src=\"https://upload.wikimedia.org/wikipedia/commons/d/da/Yahoo_Finance_Logo_2019.svg\" width=\"50\" height=\"50\">  \n",
        "\n",
        "Quantconnect -> Google Colab with Yahoo Finance data\n",
        "\n",
        "Introduction to Financial Python\n",
        "</div>\n",
        "\n",
        "# 05 Pandas-Resampling and DataFrame\n",
        "\n",
        "# Introduction\n",
        "In the last chapter we had a glimpse of Pandas. In this chapter we will learn about resampling methods and the DataFrame object, which is a powerful tool for financial data analysis.\n",
        "\n",
        "# Fetching Data\n",
        "Here we use the Yahoo Finance to retrieve data.\n"
      ]
    },
    {
      "cell_type": "code",
      "metadata": {
        "colab": {
          "base_uri": "https://localhost:8080/"
        },
        "id": "luU8mZTsHW9x",
        "outputId": "55645498-cbe2-4bc7-b8a1-39ccf798fa7d"
      },
      "source": [
        "!pip install yfinance  #instalation of yfinance"
      ],
      "execution_count": null,
      "outputs": [
        {
          "output_type": "stream",
          "name": "stdout",
          "text": [
            "Requirement already satisfied: yfinance in /usr/local/lib/python3.7/dist-packages (0.1.70)\n",
            "Requirement already satisfied: pandas>=0.24.0 in /usr/local/lib/python3.7/dist-packages (from yfinance) (1.3.5)\n",
            "Requirement already satisfied: numpy>=1.15 in /usr/local/lib/python3.7/dist-packages (from yfinance) (1.21.5)\n",
            "Requirement already satisfied: requests>=2.26 in /usr/local/lib/python3.7/dist-packages (from yfinance) (2.27.1)\n",
            "Requirement already satisfied: multitasking>=0.0.7 in /usr/local/lib/python3.7/dist-packages (from yfinance) (0.0.10)\n",
            "Requirement already satisfied: lxml>=4.5.1 in /usr/local/lib/python3.7/dist-packages (from yfinance) (4.8.0)\n",
            "Requirement already satisfied: python-dateutil>=2.7.3 in /usr/local/lib/python3.7/dist-packages (from pandas>=0.24.0->yfinance) (2.8.2)\n",
            "Requirement already satisfied: pytz>=2017.3 in /usr/local/lib/python3.7/dist-packages (from pandas>=0.24.0->yfinance) (2018.9)\n",
            "Requirement already satisfied: six>=1.5 in /usr/local/lib/python3.7/dist-packages (from python-dateutil>=2.7.3->pandas>=0.24.0->yfinance) (1.15.0)\n",
            "Requirement already satisfied: charset-normalizer~=2.0.0 in /usr/local/lib/python3.7/dist-packages (from requests>=2.26->yfinance) (2.0.12)\n",
            "Requirement already satisfied: urllib3<1.27,>=1.21.1 in /usr/local/lib/python3.7/dist-packages (from requests>=2.26->yfinance) (1.24.3)\n",
            "Requirement already satisfied: idna<4,>=2.5 in /usr/local/lib/python3.7/dist-packages (from requests>=2.26->yfinance) (2.10)\n",
            "Requirement already satisfied: certifi>=2017.4.17 in /usr/local/lib/python3.7/dist-packages (from requests>=2.26->yfinance) (2021.10.8)\n"
          ]
        }
      ]
    },
    {
      "cell_type": "code",
      "metadata": {
        "colab": {
          "base_uri": "https://localhost:8080/",
          "height": 510
        },
        "id": "mWZ-nirTZHrE",
        "outputId": "87a6fe29-b16f-4f42-bfe7-916e0ee93a4c"
      },
      "source": [
        "import yfinance as yf\n",
        "\n",
        "aapl = yf.Ticker(\"AAPL\")#gets apple's data\n",
        "\n",
        "# get stock info\n",
        "print(aapl.info)\n",
        "\n",
        "# get historical market data\n",
        "aapl_table = aapl.history(start=\"2016-01-01\",  end=\"2017-12-31\")#prints selection in table\n",
        "aapl_table\n",
        "\n",
        "msft = yf.Ticker(\"MSFT\")#gets Microsoft data\n",
        "print(msft.info)\n",
        "\n",
        "msft_table = aapl.history(start=\"2019-01-01\",  end=\"2021-12-31\")\n",
        "msft_table"
      ],
      "execution_count": null,
      "outputs": [
        {
          "output_type": "stream",
          "name": "stdout",
          "text": [
            "{'zip': '95014', 'sector': 'Technology', 'fullTimeEmployees': 100000, 'longBusinessSummary': 'Apple Inc. designs, manufactures, and markets smartphones, personal computers, tablets, wearables, and accessories worldwide. It also sells various related services. In addition, the company offers iPhone, a line of smartphones; Mac, a line of personal computers; iPad, a line of multi-purpose tablets; AirPods Max, an over-ear wireless headphone; and wearables, home, and accessories comprising AirPods, Apple TV, Apple Watch, Beats products, HomePod, and iPod touch. Further, it provides AppleCare support services; cloud services store services; and operates various platforms, including the App Store that allow customers to discover and download applications and digital content, such as books, music, video, games, and podcasts. Additionally, the company offers various services, such as Apple Arcade, a game subscription service; Apple Music, which offers users a curated listening experience with on-demand radio stations; Apple News+, a subscription news and magazine service; Apple TV+, which offers exclusive original content; Apple Card, a co-branded credit card; and Apple Pay, a cashless payment service, as well as licenses its intellectual property. The company serves consumers, and small and mid-sized businesses; and the education, enterprise, and government markets. It distributes third-party applications for its products through the App Store. The company also sells its products through its retail and online stores, and direct sales force; and third-party cellular network carriers, wholesalers, retailers, and resellers. Apple Inc. was incorporated in 1977 and is headquartered in Cupertino, California.', 'city': 'Cupertino', 'phone': '408 996 1010', 'state': 'CA', 'country': 'United States', 'companyOfficers': [], 'website': 'https://www.apple.com', 'maxAge': 1, 'address1': 'One Apple Park Way', 'industry': 'Consumer Electronics', 'ebitdaMargins': 0.33890998, 'profitMargins': 0.26579002, 'grossMargins': 0.43019, 'operatingCashflow': 112241000448, 'revenueGrowth': 0.112, 'operatingMargins': 0.309, 'ebitda': 128217997312, 'targetLowPrice': 160, 'recommendationKey': 'buy', 'grossProfits': 152836000000, 'freeCashflow': 80153247744, 'targetMedianPrice': 199.5, 'currentPrice': 154.73, 'earningsGrowth': 0.25, 'currentRatio': 1.038, 'returnOnAssets': 0.19875, 'numberOfAnalystOpinions': 44, 'targetMeanPrice': 193.53, 'debtToEquity': 170.714, 'returnOnEquity': 1.45567, 'targetHighPrice': 215, 'totalCash': 63913000960, 'totalDebt': 122797998080, 'totalRevenue': 378323009536, 'totalCashPerShare': 3.916, 'financialCurrency': 'USD', 'revenuePerShare': 22.838, 'quickRatio': 0.875, 'recommendationMean': 1.8, 'exchange': 'NMS', 'shortName': 'Apple Inc.', 'longName': 'Apple Inc.', 'exchangeTimezoneName': 'America/New_York', 'exchangeTimezoneShortName': 'EDT', 'isEsgPopulated': False, 'gmtOffSetMilliseconds': '-14400000', 'quoteType': 'EQUITY', 'symbol': 'AAPL', 'messageBoardId': 'finmb_24937', 'market': 'us_market', 'annualHoldingsTurnover': None, 'enterpriseToRevenue': 6.83, 'beta3Year': None, 'enterpriseToEbitda': 20.153, '52WeekChange': 0.24792325, 'morningStarRiskRating': None, 'forwardEps': 6.56, 'revenueQuarterlyGrowth': None, 'sharesOutstanding': 16319399936, 'fundInceptionDate': None, 'annualReportExpenseRatio': None, 'totalAssets': None, 'bookValue': 4.402, 'sharesShort': 110322490, 'sharesPercentSharesOut': 0.0068, 'fundFamily': None, 'lastFiscalYearEnd': 1632528000, 'heldPercentInstitutions': 0.59426, 'netIncomeToCommon': 100554997760, 'trailingEps': 6.015, 'lastDividendValue': 0.22, 'SandP52WeekChange': 0.059303045, 'priceToBook': 35.149933, 'heldPercentInsiders': 0.0007, 'nextFiscalYearEnd': 1695600000, 'yield': None, 'mostRecentQuarter': 1640390400, 'shortRatio': 1.2, 'sharesShortPreviousMonthDate': 1643587200, 'floatShares': 16302795170, 'beta': 1.185531, 'enterpriseValue': 2583992205312, 'priceHint': 2, 'threeYearAverageReturn': None, 'lastSplitDate': 1598832000, 'lastSplitFactor': '4:1', 'legalType': None, 'lastDividendDate': 1643932800, 'morningStarOverallRating': None, 'earningsQuarterlyGrowth': 0.204, 'priceToSalesTrailing12Months': 6.674457, 'dateShortInterest': 1646006400, 'pegRatio': 1.73, 'ytdReturn': None, 'forwardPE': 23.58689, 'lastCapGain': None, 'shortPercentOfFloat': 0.0068, 'sharesShortPriorMonth': 91388112, 'impliedSharesOutstanding': 0, 'category': None, 'fiveYearAverageReturn': None, 'previousClose': 158.52, 'regularMarketOpen': 158.93, 'twoHundredDayAverage': 153.6086, 'trailingAnnualDividendYield': 0.0054567247, 'payoutRatio': 0.1434, 'volume24Hr': None, 'regularMarketDayHigh': 159.2799, 'navPrice': None, 'averageDailyVolume10Day': 93968420, 'regularMarketPreviousClose': 158.52, 'fiftyDayAverage': 168.6374, 'trailingAnnualDividendRate': 0.865, 'open': 158.93, 'toCurrency': None, 'averageVolume10days': 93968420, 'expireDate': None, 'algorithm': None, 'dividendRate': 0.88, 'exDividendDate': 1643932800, 'circulatingSupply': None, 'startDate': None, 'regularMarketDayLow': 154.5, 'currency': 'USD', 'trailingPE': 25.724024, 'regularMarketVolume': 96970102, 'lastMarket': None, 'maxSupply': None, 'openInterest': None, 'marketCap': 2525100769280, 'volumeAllCurrencies': None, 'strikePrice': None, 'averageVolume': 96650550, 'dayLow': 154.5, 'ask': 154.59, 'askSize': 2900, 'volume': 96970102, 'fiftyTwoWeekHigh': 182.94, 'fromCurrency': None, 'fiveYearAvgDividendYield': 1.13, 'fiftyTwoWeekLow': 118.86, 'bid': 154.44, 'tradeable': False, 'dividendYield': 0.0057, 'bidSize': 1000, 'dayHigh': 159.2799, 'regularMarketPrice': 154.73, 'preMarketPrice': None, 'logo_url': 'https://logo.clearbit.com/apple.com', 'trailingPegRatio': 3.2017}\n",
            "{'zip': '98052-6399', 'sector': 'Technology', 'fullTimeEmployees': 181000, 'longBusinessSummary': 'Microsoft Corporation develops, licenses, and supports software, services, devices, and solutions worldwide. Its Productivity and Business Processes segment offers Office, Exchange, SharePoint, Microsoft Teams, Office 365 Security and Compliance, and Skype for Business, as well as related Client Access Licenses (CAL); Skype, Outlook.com, OneDrive, and LinkedIn; and Dynamics 365, a set of cloud-based and on-premises business solutions for organizations and enterprise divisions. Its Intelligent Cloud segment licenses SQL, Windows Servers, Visual Studio, System Center, and related CALs; GitHub that provides a collaboration platform and code hosting service for developers; and Azure, a cloud platform. It also offers support services and Microsoft consulting services to assist customers in developing, deploying, and managing Microsoft server and desktop solutions; and training and certification on Microsoft products. Its More Personal Computing segment provides Windows original equipment manufacturer (OEM) licensing and other non-volume licensing of the Windows operating system; Windows Commercial, such as volume licensing of the Windows operating system, Windows cloud services, and other Windows commercial offerings; patent licensing; Windows Internet of Things; and MSN advertising. It also offers Surface, PC accessories, PCs, tablets, gaming and entertainment consoles, and other devices; Gaming, including Xbox hardware, and Xbox content and services; video games and third-party video game royalties; and Search, including Bing and Microsoft advertising. It sells its products through OEMs, distributors, and resellers; and directly through digital marketplaces, online stores, and retail stores. It has collaborations with Dynatrace, Inc., Morgan Stanley, Micro Focus, WPP plc, ACI Worldwide, Inc., and iCIMS, Inc., as well as strategic relationships with Avaya Holdings Corp. and wejo Limited. Microsoft Corporation was founded in 1975 and is based in Redmond, Washington.', 'city': 'Redmond', 'phone': '425 882 8080', 'state': 'WA', 'country': 'United States', 'companyOfficers': [], 'website': 'https://www.microsoft.com', 'maxAge': 1, 'address1': 'One Microsoft Way', 'industry': 'Software—Infrastructure', 'ebitdaMargins': 0.49123, 'profitMargins': 0.38498002, 'grossMargins': 0.68825996, 'operatingCashflow': 83909001216, 'revenueGrowth': 0.201, 'operatingMargins': 0.42523998, 'ebitda': 90829996032, 'targetLowPrice': 306.55, 'recommendationKey': 'buy', 'grossProfits': 115856000000, 'freeCashflow': 46479876096, 'targetMedianPrice': 370, 'currentPrice': 280.07, 'earningsGrowth': 0.222, 'currentRatio': 2.247, 'returnOnAssets': 0.15248999, 'numberOfAnalystOpinions': 46, 'targetMeanPrice': 370.89, 'debtToEquity': 50.217, 'returnOnEquity': 0.49051, 'targetHighPrice': 425, 'totalCash': 125348003840, 'totalDebt': 80353001472, 'totalRevenue': 184902991872, 'totalCashPerShare': 16.72, 'financialCurrency': 'USD', 'revenuePerShare': 24.585, 'quickRatio': 2.05, 'recommendationMean': 1.7, 'exchange': 'NMS', 'shortName': 'Microsoft Corporation', 'longName': 'Microsoft Corporation', 'exchangeTimezoneName': 'America/New_York', 'exchangeTimezoneShortName': 'EDT', 'isEsgPopulated': False, 'gmtOffSetMilliseconds': '-14400000', 'quoteType': 'EQUITY', 'symbol': 'MSFT', 'messageBoardId': 'finmb_21835', 'market': 'us_market', 'annualHoldingsTurnover': None, 'enterpriseToRevenue': 11.112, 'beta3Year': None, 'enterpriseToEbitda': 22.621, '52WeekChange': 0.19275153, 'morningStarRiskRating': None, 'forwardEps': 10.75, 'revenueQuarterlyGrowth': None, 'sharesOutstanding': 7496869888, 'fundInceptionDate': None, 'annualReportExpenseRatio': None, 'totalAssets': None, 'bookValue': 21.335, 'sharesShort': 41488998, 'sharesPercentSharesOut': 0.0055, 'fundFamily': None, 'lastFiscalYearEnd': 1625011200, 'heldPercentInstitutions': 0.71939003, 'netIncomeToCommon': 71184998400, 'trailingEps': 9.389, 'lastDividendValue': 0.62, 'SandP52WeekChange': 0.059303045, 'priceToBook': 13.127256, 'heldPercentInsiders': 0.00059, 'nextFiscalYearEnd': 1688083200, 'yield': None, 'mostRecentQuarter': 1640908800, 'shortRatio': 1.1, 'sharesShortPreviousMonthDate': 1643587200, 'floatShares': 7489894342, 'beta': 0.910925, 'enterpriseValue': 2054652428288, 'priceHint': 2, 'threeYearAverageReturn': None, 'lastSplitDate': 1045526400, 'lastSplitFactor': '2:1', 'legalType': None, 'lastDividendDate': 1644969600, 'morningStarOverallRating': None, 'earningsQuarterlyGrowth': 0.214, 'priceToSalesTrailing12Months': 11.355405, 'dateShortInterest': 1646006400, 'pegRatio': 1.76, 'ytdReturn': None, 'forwardPE': 26.053024, 'lastCapGain': None, 'shortPercentOfFloat': 0.0055, 'sharesShortPriorMonth': 40179258, 'impliedSharesOutstanding': 0, 'category': None, 'fiveYearAverageReturn': None, 'previousClose': 285.59, 'regularMarketOpen': 287.96, 'twoHundredDayAverage': 300.041, 'trailingAnnualDividendYield': 0.0082635945, 'payoutRatio': 0.2449, 'volume24Hr': None, 'regularMarketDayHigh': 288.9189, 'navPrice': None, 'averageDailyVolume10Day': 34168930, 'regularMarketPreviousClose': 285.59, 'fiftyDayAverage': 302.3236, 'trailingAnnualDividendRate': 2.36, 'open': 287.96, 'toCurrency': None, 'averageVolume10days': 34168930, 'expireDate': None, 'algorithm': None, 'dividendRate': 2.48, 'exDividendDate': 1644969600, 'circulatingSupply': None, 'startDate': None, 'regularMarketDayLow': 279.43, 'currency': 'USD', 'trailingPE': 29.829588, 'regularMarketVolume': 27209330, 'lastMarket': None, 'maxSupply': None, 'openInterest': None, 'marketCap': 2099648397312, 'volumeAllCurrencies': None, 'strikePrice': None, 'averageVolume': 37644001, 'dayLow': 279.43, 'ask': 279.8, 'askSize': 1800, 'volume': 27209330, 'fiftyTwoWeekHigh': 349.67, 'fromCurrency': None, 'fiveYearAvgDividendYield': 1.34, 'fiftyTwoWeekLow': 229.35, 'bid': 279.63, 'tradeable': False, 'dividendYield': 0.0089, 'bidSize': 1400, 'dayHigh': 288.9189, 'regularMarketPrice': 280.07, 'preMarketPrice': None, 'logo_url': 'https://logo.clearbit.com/microsoft.com', 'trailingPegRatio': 2.4159}\n"
          ]
        },
        {
          "output_type": "execute_result",
          "data": {
            "text/plain": [
              "                  Open        High         Low       Close     Volume  \\\n",
              "Date                                                                    \n",
              "2019-01-02   37.543099   38.502947   37.383124   38.277527  148158800   \n",
              "2019-01-03   34.898666   35.320419   34.418744   34.464798  365248800   \n",
              "2019-01-04   35.031988   36.006379   34.855047   35.936085  234428400   \n",
              "2019-01-07   36.042725   36.074236   35.364044   35.856087  219111200   \n",
              "2019-01-08   36.251184   36.798978   35.999104   36.539623  164101200   \n",
              "...                ...         ...         ...         ...        ...   \n",
              "2021-12-23  175.626249  176.624977  175.046985  176.055695   68356600   \n",
              "2021-12-27  176.864657  180.190422  176.844694  180.100540   74919600   \n",
              "2021-12-28  179.930762  181.099272  178.302832  179.061859   79144300   \n",
              "2021-12-29  179.101809  180.400158  177.913321  179.151749   62348900   \n",
              "2021-12-30  179.241640  180.340246  177.863391  177.973251   59773000   \n",
              "\n",
              "            Dividends  Stock Splits  \n",
              "Date                                 \n",
              "2019-01-02        0.0           0.0  \n",
              "2019-01-03        0.0           0.0  \n",
              "2019-01-04        0.0           0.0  \n",
              "2019-01-07        0.0           0.0  \n",
              "2019-01-08        0.0           0.0  \n",
              "...               ...           ...  \n",
              "2021-12-23        0.0           0.0  \n",
              "2021-12-27        0.0           0.0  \n",
              "2021-12-28        0.0           0.0  \n",
              "2021-12-29        0.0           0.0  \n",
              "2021-12-30        0.0           0.0  \n",
              "\n",
              "[756 rows x 7 columns]"
            ],
            "text/html": [
              "\n",
              "  <div id=\"df-12e48714-6bf5-41d1-9cf8-7dd369bc1f4e\">\n",
              "    <div class=\"colab-df-container\">\n",
              "      <div>\n",
              "<style scoped>\n",
              "    .dataframe tbody tr th:only-of-type {\n",
              "        vertical-align: middle;\n",
              "    }\n",
              "\n",
              "    .dataframe tbody tr th {\n",
              "        vertical-align: top;\n",
              "    }\n",
              "\n",
              "    .dataframe thead th {\n",
              "        text-align: right;\n",
              "    }\n",
              "</style>\n",
              "<table border=\"1\" class=\"dataframe\">\n",
              "  <thead>\n",
              "    <tr style=\"text-align: right;\">\n",
              "      <th></th>\n",
              "      <th>Open</th>\n",
              "      <th>High</th>\n",
              "      <th>Low</th>\n",
              "      <th>Close</th>\n",
              "      <th>Volume</th>\n",
              "      <th>Dividends</th>\n",
              "      <th>Stock Splits</th>\n",
              "    </tr>\n",
              "    <tr>\n",
              "      <th>Date</th>\n",
              "      <th></th>\n",
              "      <th></th>\n",
              "      <th></th>\n",
              "      <th></th>\n",
              "      <th></th>\n",
              "      <th></th>\n",
              "      <th></th>\n",
              "    </tr>\n",
              "  </thead>\n",
              "  <tbody>\n",
              "    <tr>\n",
              "      <th>2019-01-02</th>\n",
              "      <td>37.543099</td>\n",
              "      <td>38.502947</td>\n",
              "      <td>37.383124</td>\n",
              "      <td>38.277527</td>\n",
              "      <td>148158800</td>\n",
              "      <td>0.0</td>\n",
              "      <td>0.0</td>\n",
              "    </tr>\n",
              "    <tr>\n",
              "      <th>2019-01-03</th>\n",
              "      <td>34.898666</td>\n",
              "      <td>35.320419</td>\n",
              "      <td>34.418744</td>\n",
              "      <td>34.464798</td>\n",
              "      <td>365248800</td>\n",
              "      <td>0.0</td>\n",
              "      <td>0.0</td>\n",
              "    </tr>\n",
              "    <tr>\n",
              "      <th>2019-01-04</th>\n",
              "      <td>35.031988</td>\n",
              "      <td>36.006379</td>\n",
              "      <td>34.855047</td>\n",
              "      <td>35.936085</td>\n",
              "      <td>234428400</td>\n",
              "      <td>0.0</td>\n",
              "      <td>0.0</td>\n",
              "    </tr>\n",
              "    <tr>\n",
              "      <th>2019-01-07</th>\n",
              "      <td>36.042725</td>\n",
              "      <td>36.074236</td>\n",
              "      <td>35.364044</td>\n",
              "      <td>35.856087</td>\n",
              "      <td>219111200</td>\n",
              "      <td>0.0</td>\n",
              "      <td>0.0</td>\n",
              "    </tr>\n",
              "    <tr>\n",
              "      <th>2019-01-08</th>\n",
              "      <td>36.251184</td>\n",
              "      <td>36.798978</td>\n",
              "      <td>35.999104</td>\n",
              "      <td>36.539623</td>\n",
              "      <td>164101200</td>\n",
              "      <td>0.0</td>\n",
              "      <td>0.0</td>\n",
              "    </tr>\n",
              "    <tr>\n",
              "      <th>...</th>\n",
              "      <td>...</td>\n",
              "      <td>...</td>\n",
              "      <td>...</td>\n",
              "      <td>...</td>\n",
              "      <td>...</td>\n",
              "      <td>...</td>\n",
              "      <td>...</td>\n",
              "    </tr>\n",
              "    <tr>\n",
              "      <th>2021-12-23</th>\n",
              "      <td>175.626249</td>\n",
              "      <td>176.624977</td>\n",
              "      <td>175.046985</td>\n",
              "      <td>176.055695</td>\n",
              "      <td>68356600</td>\n",
              "      <td>0.0</td>\n",
              "      <td>0.0</td>\n",
              "    </tr>\n",
              "    <tr>\n",
              "      <th>2021-12-27</th>\n",
              "      <td>176.864657</td>\n",
              "      <td>180.190422</td>\n",
              "      <td>176.844694</td>\n",
              "      <td>180.100540</td>\n",
              "      <td>74919600</td>\n",
              "      <td>0.0</td>\n",
              "      <td>0.0</td>\n",
              "    </tr>\n",
              "    <tr>\n",
              "      <th>2021-12-28</th>\n",
              "      <td>179.930762</td>\n",
              "      <td>181.099272</td>\n",
              "      <td>178.302832</td>\n",
              "      <td>179.061859</td>\n",
              "      <td>79144300</td>\n",
              "      <td>0.0</td>\n",
              "      <td>0.0</td>\n",
              "    </tr>\n",
              "    <tr>\n",
              "      <th>2021-12-29</th>\n",
              "      <td>179.101809</td>\n",
              "      <td>180.400158</td>\n",
              "      <td>177.913321</td>\n",
              "      <td>179.151749</td>\n",
              "      <td>62348900</td>\n",
              "      <td>0.0</td>\n",
              "      <td>0.0</td>\n",
              "    </tr>\n",
              "    <tr>\n",
              "      <th>2021-12-30</th>\n",
              "      <td>179.241640</td>\n",
              "      <td>180.340246</td>\n",
              "      <td>177.863391</td>\n",
              "      <td>177.973251</td>\n",
              "      <td>59773000</td>\n",
              "      <td>0.0</td>\n",
              "      <td>0.0</td>\n",
              "    </tr>\n",
              "  </tbody>\n",
              "</table>\n",
              "<p>756 rows × 7 columns</p>\n",
              "</div>\n",
              "      <button class=\"colab-df-convert\" onclick=\"convertToInteractive('df-12e48714-6bf5-41d1-9cf8-7dd369bc1f4e')\"\n",
              "              title=\"Convert this dataframe to an interactive table.\"\n",
              "              style=\"display:none;\">\n",
              "        \n",
              "  <svg xmlns=\"http://www.w3.org/2000/svg\" height=\"24px\"viewBox=\"0 0 24 24\"\n",
              "       width=\"24px\">\n",
              "    <path d=\"M0 0h24v24H0V0z\" fill=\"none\"/>\n",
              "    <path d=\"M18.56 5.44l.94 2.06.94-2.06 2.06-.94-2.06-.94-.94-2.06-.94 2.06-2.06.94zm-11 1L8.5 8.5l.94-2.06 2.06-.94-2.06-.94L8.5 2.5l-.94 2.06-2.06.94zm10 10l.94 2.06.94-2.06 2.06-.94-2.06-.94-.94-2.06-.94 2.06-2.06.94z\"/><path d=\"M17.41 7.96l-1.37-1.37c-.4-.4-.92-.59-1.43-.59-.52 0-1.04.2-1.43.59L10.3 9.45l-7.72 7.72c-.78.78-.78 2.05 0 2.83L4 21.41c.39.39.9.59 1.41.59.51 0 1.02-.2 1.41-.59l7.78-7.78 2.81-2.81c.8-.78.8-2.07 0-2.86zM5.41 20L4 18.59l7.72-7.72 1.47 1.35L5.41 20z\"/>\n",
              "  </svg>\n",
              "      </button>\n",
              "      \n",
              "  <style>\n",
              "    .colab-df-container {\n",
              "      display:flex;\n",
              "      flex-wrap:wrap;\n",
              "      gap: 12px;\n",
              "    }\n",
              "\n",
              "    .colab-df-convert {\n",
              "      background-color: #E8F0FE;\n",
              "      border: none;\n",
              "      border-radius: 50%;\n",
              "      cursor: pointer;\n",
              "      display: none;\n",
              "      fill: #1967D2;\n",
              "      height: 32px;\n",
              "      padding: 0 0 0 0;\n",
              "      width: 32px;\n",
              "    }\n",
              "\n",
              "    .colab-df-convert:hover {\n",
              "      background-color: #E2EBFA;\n",
              "      box-shadow: 0px 1px 2px rgba(60, 64, 67, 0.3), 0px 1px 3px 1px rgba(60, 64, 67, 0.15);\n",
              "      fill: #174EA6;\n",
              "    }\n",
              "\n",
              "    [theme=dark] .colab-df-convert {\n",
              "      background-color: #3B4455;\n",
              "      fill: #D2E3FC;\n",
              "    }\n",
              "\n",
              "    [theme=dark] .colab-df-convert:hover {\n",
              "      background-color: #434B5C;\n",
              "      box-shadow: 0px 1px 3px 1px rgba(0, 0, 0, 0.15);\n",
              "      filter: drop-shadow(0px 1px 2px rgba(0, 0, 0, 0.3));\n",
              "      fill: #FFFFFF;\n",
              "    }\n",
              "  </style>\n",
              "\n",
              "      <script>\n",
              "        const buttonEl =\n",
              "          document.querySelector('#df-12e48714-6bf5-41d1-9cf8-7dd369bc1f4e button.colab-df-convert');\n",
              "        buttonEl.style.display =\n",
              "          google.colab.kernel.accessAllowed ? 'block' : 'none';\n",
              "\n",
              "        async function convertToInteractive(key) {\n",
              "          const element = document.querySelector('#df-12e48714-6bf5-41d1-9cf8-7dd369bc1f4e');\n",
              "          const dataTable =\n",
              "            await google.colab.kernel.invokeFunction('convertToInteractive',\n",
              "                                                     [key], {});\n",
              "          if (!dataTable) return;\n",
              "\n",
              "          const docLinkHtml = 'Like what you see? Visit the ' +\n",
              "            '<a target=\"_blank\" href=https://colab.research.google.com/notebooks/data_table.ipynb>data table notebook</a>'\n",
              "            + ' to learn more about interactive tables.';\n",
              "          element.innerHTML = '';\n",
              "          dataTable['output_type'] = 'display_data';\n",
              "          await google.colab.output.renderOutput(dataTable, element);\n",
              "          const docLink = document.createElement('div');\n",
              "          docLink.innerHTML = docLinkHtml;\n",
              "          element.appendChild(docLink);\n",
              "        }\n",
              "      </script>\n",
              "    </div>\n",
              "  </div>\n",
              "  "
            ]
          },
          "metadata": {},
          "execution_count": 68
        }
      ]
    },
    {
      "cell_type": "markdown",
      "metadata": {
        "id": "NkFztSYhJyVA"
      },
      "source": [
        "We will create a Series named \"aapl\" whose values are Apple's daily closing prices, which are of course indexed by dates:"
      ]
    },
    {
      "cell_type": "code",
      "metadata": {
        "id": "QDJbOpCeHW91"
      },
      "source": [
        "aapl = aapl_table['Close']['2017']#from the table selects the columns and rows we need\n",
        "miifst=msft_table['Volume']['2021']"
      ],
      "execution_count": null,
      "outputs": []
    },
    {
      "cell_type": "code",
      "metadata": {
        "colab": {
          "base_uri": "https://localhost:8080/"
        },
        "id": "SXfgCQJOHW91",
        "outputId": "6cee1757-4881-473b-ad2d-a753bfb58153"
      },
      "source": [
        "print(aapl)\n",
        "print(miifst)"
      ],
      "execution_count": null,
      "outputs": [
        {
          "output_type": "stream",
          "name": "stdout",
          "text": [
            "Date\n",
            "2017-01-03    27.297691\n",
            "2017-01-04    27.267138\n",
            "2017-01-05    27.405806\n",
            "2017-01-06    27.711329\n",
            "2017-01-09    27.965151\n",
            "                ...    \n",
            "2017-12-22    41.792458\n",
            "2017-12-26    40.732178\n",
            "2017-12-27    40.739346\n",
            "2017-12-28    40.853970\n",
            "2017-12-29    40.412186\n",
            "Name: Close, Length: 251, dtype: float64\n",
            "Date\n",
            "2021-01-04    143301900\n",
            "2021-01-05     97664900\n",
            "2021-01-06    155088000\n",
            "2021-01-07    109578200\n",
            "2021-01-08    105158200\n",
            "                ...    \n",
            "2021-12-23     68356600\n",
            "2021-12-27     74919600\n",
            "2021-12-28     79144300\n",
            "2021-12-29     62348900\n",
            "2021-12-30     59773000\n",
            "Name: Volume, Length: 251, dtype: int64\n"
          ]
        }
      ]
    },
    {
      "cell_type": "markdown",
      "metadata": {
        "id": "waUEgBhzKEcA"
      },
      "source": [
        "Recall that we can fetch a specific data point using series['yyyy-mm-dd']. We can also fetch the data in a specific month using series['yyyy-mm']."
      ]
    },
    {
      "cell_type": "code",
      "metadata": {
        "colab": {
          "base_uri": "https://localhost:8080/"
        },
        "id": "2gS50G0zHW92",
        "outputId": "e883f301-acd2-48a3-c850-14c3bbd931ca"
      },
      "source": [
        "print(aapl['2017-3'])#selects info only from year and month specified\n",
        "print(\"\\n\")\n",
        "print(miifst['2021-6-8'])#selects info only from year, month and day specified"
      ],
      "execution_count": null,
      "outputs": [
        {
          "output_type": "stream",
          "name": "stdout",
          "text": [
            "Date\n",
            "2017-03-01    32.996033\n",
            "2017-03-02    32.800114\n",
            "2017-03-03    32.993671\n",
            "2017-03-06    32.889801\n",
            "2017-03-07    32.932301\n",
            "2017-03-08    32.809551\n",
            "2017-03-09    32.734020\n",
            "2017-03-10    32.842609\n",
            "2017-03-13    32.856762\n",
            "2017-03-14    32.807198\n",
            "2017-03-15    33.154167\n",
            "2017-03-16    33.208469\n",
            "2017-03-17    33.043236\n",
            "2017-03-20    33.390221\n",
            "2017-03-21    33.007828\n",
            "2017-03-22    33.380772\n",
            "2017-03-23    33.262756\n",
            "2017-03-24    33.196667\n",
            "2017-03-27    33.253315\n",
            "2017-03-28    33.942554\n",
            "2017-03-29    34.018074\n",
            "2017-03-30    33.973228\n",
            "2017-03-31    33.909500\n",
            "Name: Close, dtype: float64\n",
            "\n",
            "\n",
            "74403800\n"
          ]
        }
      ]
    },
    {
      "cell_type": "code",
      "metadata": {
        "colab": {
          "base_uri": "https://localhost:8080/"
        },
        "id": "vpvxGwXtHW92",
        "outputId": "5154a497-ba68-4e6b-e360-d502f87692c7"
      },
      "source": [
        "aapl['2017-2':'2017-4']#selects info from the period specified\n",
        "\n",
        "print(\"\\n\")\n",
        "print(miifst['2021-06-08':'2021-6-18'])"
      ],
      "execution_count": null,
      "outputs": [
        {
          "output_type": "stream",
          "name": "stdout",
          "text": [
            "\n",
            "\n",
            "Date\n",
            "2021-06-08     74403800\n",
            "2021-06-09     56877900\n",
            "2021-06-10     71186400\n",
            "2021-06-11     53522400\n",
            "2021-06-14     96906500\n",
            "2021-06-15     62746300\n",
            "2021-06-16     91815000\n",
            "2021-06-17     96721700\n",
            "2021-06-18    108953300\n",
            "Name: Volume, dtype: int64\n"
          ]
        }
      ]
    },
    {
      "cell_type": "markdown",
      "metadata": {
        "id": "lWwoD39pKNKb"
      },
      "source": [
        ".head(N) and .tail(N) are methods for quickly accessing the first or last N elements."
      ]
    },
    {
      "cell_type": "code",
      "metadata": {
        "colab": {
          "base_uri": "https://localhost:8080/"
        },
        "id": "1eU218ALHW93",
        "outputId": "10eaae96-723c-47e1-826a-202cbc13300c"
      },
      "source": [
        "print(aapl.head(5))#shows the first 5 registers in the data\n",
        "print(aapl.tail(10))#shows the last 10 registers in the data\n",
        "\n",
        "print(miifst.head(3))#shows the first 3 registers in the data\n",
        "print(miifst.tail(3))#shows the last 3 registers in the data"
      ],
      "execution_count": null,
      "outputs": [
        {
          "output_type": "stream",
          "name": "stdout",
          "text": [
            "Date\n",
            "2017-01-03    27.297691\n",
            "2017-01-04    27.267138\n",
            "2017-01-05    27.405806\n",
            "2017-01-06    27.711329\n",
            "2017-01-09    27.965151\n",
            "Name: Close, dtype: float64\n",
            "Date\n",
            "2017-12-15    41.544098\n",
            "2017-12-18    42.129162\n",
            "2017-12-19    41.680225\n",
            "2017-12-20    41.634850\n",
            "2017-12-21    41.792458\n",
            "2017-12-22    41.792458\n",
            "2017-12-26    40.732178\n",
            "2017-12-27    40.739346\n",
            "2017-12-28    40.853970\n",
            "2017-12-29    40.412186\n",
            "Name: Close, dtype: float64\n",
            "Date\n",
            "2021-01-04    143301900\n",
            "2021-01-05     97664900\n",
            "2021-01-06    155088000\n",
            "Name: Volume, dtype: int64\n",
            "Date\n",
            "2021-12-28    79144300\n",
            "2021-12-29    62348900\n",
            "2021-12-30    59773000\n",
            "Name: Volume, dtype: int64\n"
          ]
        }
      ]
    },
    {
      "cell_type": "markdown",
      "metadata": {
        "id": "IxhKxtj-KQ66"
      },
      "source": [
        "# Resampling\n",
        "**_series.resample(freq)_** is a class called \"DatetimeIndexResampler\" which groups data in a Series object into regular time intervals. The argument \"freq\" determines the length of each interval.\n",
        "\n",
        "**_series.resample.mean()_** is a complete statement that groups data into intervals, and then compute the mean of each interval. For example, if we want to aggregate the daily data into monthly data by mean:"
      ]
    },
    {
      "cell_type": "code",
      "metadata": {
        "colab": {
          "base_uri": "https://localhost:8080/"
        },
        "id": "rAV8NkHkHW93",
        "outputId": "f505f7fd-2517-4226-e1db-7cea188a8f7d"
      },
      "source": [
        "#groups the data by month and prints the mean of each month\n",
        "by_month = aapl.resample('M').mean()\n",
        "print(by_month)\n",
        "\n",
        "by_month = miifst.resample('M').mean()\n",
        "print(by_month)"
      ],
      "execution_count": null,
      "outputs": [
        {
          "output_type": "stream",
          "name": "stdout",
          "text": [
            "Date\n",
            "2017-01-31    28.101464\n",
            "2017-02-28    31.520056\n",
            "2017-03-31    33.191428\n",
            "2017-04-30    33.727007\n",
            "2017-05-31    36.027136\n",
            "2017-06-30    35.038140\n",
            "2017-07-31    35.149096\n",
            "2017-08-31    37.793850\n",
            "2017-09-30    37.502155\n",
            "2017-10-31    37.551831\n",
            "2017-11-30    41.121431\n",
            "2017-12-31    41.047757\n",
            "Freq: M, Name: Close, dtype: float64\n",
            "Date\n",
            "2021-01-31    1.179085e+08\n",
            "2021-02-28    9.651872e+07\n",
            "2021-03-31    1.152356e+08\n",
            "2021-04-30    8.999321e+07\n",
            "2021-05-31    8.559674e+07\n",
            "2021-06-30    7.302682e+07\n",
            "2021-07-31    9.137983e+07\n",
            "2021-08-31    6.639746e+07\n",
            "2021-09-30    8.559361e+07\n",
            "2021-10-31    7.451747e+07\n",
            "2021-11-30    8.051468e+07\n",
            "2021-12-31    1.133545e+08\n",
            "Freq: M, Name: Volume, dtype: float64\n"
          ]
        }
      ]
    },
    {
      "cell_type": "markdown",
      "metadata": {
        "id": "QDPfVzBEKV6Q"
      },
      "source": [
        "We can also aggregate the data by week:"
      ]
    },
    {
      "cell_type": "code",
      "metadata": {
        "colab": {
          "base_uri": "https://localhost:8080/"
        },
        "id": "aAP3tKkBHW94",
        "outputId": "464c2d77-a115-49e1-90e8-25066d595d2e"
      },
      "source": [
        "#groups the data by week and prints the mean of each week\n",
        "by_week = aapl.resample('W').mean()\n",
        "print(by_week.head())#prints only the first 5 rows\n",
        "\n",
        "by_week = miifst.resample('W').mean()\n",
        "print(by_week.head())"
      ],
      "execution_count": null,
      "outputs": [
        {
          "output_type": "stream",
          "name": "stdout",
          "text": [
            "Date\n",
            "2017-01-08    27.420491\n",
            "2017-01-15    28.021087\n",
            "2017-01-22    28.189007\n",
            "2017-01-29    28.476088\n",
            "2017-02-05    29.581625\n",
            "Freq: W-SUN, Name: Close, dtype: float64\n",
            "Date\n",
            "2021-01-10    122158240.0\n",
            "2021-01-17     96558540.0\n",
            "2021-01-24    107421775.0\n",
            "2021-01-31    143398200.0\n",
            "2021-02-07     87860600.0\n",
            "Freq: W-SUN, Name: Volume, dtype: float64\n"
          ]
        }
      ]
    },
    {
      "cell_type": "markdown",
      "metadata": {
        "id": "o_MXSVsILoBS"
      },
      "source": [
        "We can also aggregate the data by month with max:"
      ]
    },
    {
      "cell_type": "code",
      "metadata": {
        "colab": {
          "base_uri": "https://localhost:8080/"
        },
        "id": "gn0wqXBTHW95",
        "outputId": "bb8c5557-455f-4c3d-de7e-2f9d76ed98af"
      },
      "source": [
        "#groups the data by month and prints the max value of each month\n",
        "aapl.resample('M').max()\n",
        "\n",
        "miifst.resample('M').max()"
      ],
      "execution_count": null,
      "outputs": [
        {
          "output_type": "execute_result",
          "data": {
            "text/plain": [
              "Date\n",
              "2021-01-31    177523800\n",
              "2021-02-28    164560400\n",
              "2021-03-31    185549500\n",
              "2021-04-30    151101000\n",
              "2021-05-31    137564700\n",
              "2021-06-30    108953300\n",
              "2021-07-31    127050800\n",
              "2021-08-31    103296000\n",
              "2021-09-30    140646400\n",
              "2021-10-31    124850400\n",
              "2021-11-30    174048100\n",
              "2021-12-31    195432700\n",
              "Freq: M, Name: Volume, dtype: int64"
            ]
          },
          "metadata": {},
          "execution_count": 84
        }
      ]
    },
    {
      "cell_type": "markdown",
      "metadata": {
        "id": "Z8r46UFlLdAh"
      },
      "source": [
        "We can choose almost any frequency by using the format 'nf', where 'n' is an integer and 'f' is M for month, W for week and D for day."
      ]
    },
    {
      "cell_type": "code",
      "metadata": {
        "colab": {
          "base_uri": "https://localhost:8080/"
        },
        "id": "kdVB_-JFHW96",
        "outputId": "15ec6844-877b-4370-ec23-cbf153dd5796"
      },
      "source": [
        "three_day = aapl.resample('3D').mean()#groups the data by 3 day periods and prints the mean of each period\n",
        "two_week = aapl.resample('2W').mean()#groups the data by 2 week periods and prints the mean of each period\n",
        "two_month = aapl.resample('2M').mean()#groups the data by 2 month periods and prints the mean of each period\n",
        "\n",
        "eight_day = miifst.resample('8D').min()#groups the data by 8 day periods and prints the min value of each period\n",
        "three_week = miifst.resample('3W').min()#groups the data by 3 week periods and prints the min value of each period\n",
        "six_month = miifst.resample('6M').min()#groups the data by 6 month periods and prints the min value of each period\n",
        "\n",
        "print(three_day)\n",
        "print(two_week)\n",
        "print(two_month)\n",
        "print(eight_day)\n",
        "print(three_week)\n",
        "print(six_month)"
      ],
      "execution_count": null,
      "outputs": [
        {
          "output_type": "stream",
          "name": "stdout",
          "text": [
            "Date\n",
            "2017-01-03    27.323545\n",
            "2017-01-06    27.711329\n",
            "2017-01-09    28.034091\n",
            "2017-01-12    28.001580\n",
            "2017-01-15    28.202520\n",
            "                ...    \n",
            "2017-12-17    41.904694\n",
            "2017-12-20    41.739922\n",
            "2017-12-23          NaN\n",
            "2017-12-26    40.775164\n",
            "2017-12-29    40.412186\n",
            "Freq: 3D, Name: Close, Length: 121, dtype: float64\n",
            "Date\n",
            "2017-01-08    27.420491\n",
            "2017-01-22    28.095718\n",
            "2017-02-05    29.028856\n",
            "2017-02-19    31.430841\n",
            "2017-03-05    32.506639\n",
            "2017-03-19    32.927811\n",
            "2017-04-02    33.533492\n",
            "2017-04-16    33.757389\n",
            "2017-04-30    33.699664\n",
            "2017-05-14    35.600252\n",
            "2017-05-28    36.396620\n",
            "2017-06-11    36.415393\n",
            "2017-06-25    34.434853\n",
            "2017-07-09    34.171663\n",
            "2017-07-23    35.182635\n",
            "2017-08-06    36.173828\n",
            "2017-08-20    37.800720\n",
            "2017-09-03    38.353883\n",
            "2017-09-17    38.178276\n",
            "2017-10-01    36.740374\n",
            "2017-10-15    36.970465\n",
            "2017-10-29    37.654323\n",
            "2017-11-12    40.920305\n",
            "2017-11-26    41.091972\n",
            "2017-12-10    40.755585\n",
            "2017-12-24    41.507329\n",
            "2018-01-07    40.684420\n",
            "Freq: 2W-SUN, Name: Close, dtype: float64\n",
            "Date\n",
            "2017-01-31    28.101464\n",
            "2017-03-31    32.435331\n",
            "2017-05-31    34.961222\n",
            "2017-07-31    35.090976\n",
            "2017-09-30    37.658178\n",
            "2017-11-30    39.295124\n",
            "2018-01-31    41.047757\n",
            "Freq: 2M, Name: Close, dtype: float64\n",
            "Date\n",
            "2021-01-04     97664900\n",
            "2021-01-12     88636800\n",
            "2021-01-20     98390600\n",
            "2021-01-28     83305400\n",
            "2021-02-05     60145100\n",
            "2021-02-13     80576300\n",
            "2021-02-21    103916400\n",
            "2021-03-01    102260900\n",
            "2021-03-09     88105100\n",
            "2021-03-17     88530500\n",
            "2021-03-25     75089100\n",
            "2021-04-02     80171300\n",
            "2021-04-10     84922400\n",
            "2021-04-18     68847100\n",
            "2021-04-26     66015800\n",
            "2021-05-04     78128300\n",
            "2021-05-12     63342900\n",
            "2021-05-20     56575900\n",
            "2021-05-28     59278900\n",
            "2021-06-05     53522400\n",
            "2021-06-13     62746300\n",
            "2021-06-21     60214200\n",
            "2021-06-29     52485800\n",
            "2021-07-07     76299700\n",
            "2021-07-15     74993500\n",
            "2021-07-23     56699500\n",
            "2021-07-31     46397700\n",
            "2021-08-08     48493500\n",
            "2021-08-16     59947400\n",
            "2021-08-24     48597200\n",
            "2021-09-01     57808700\n",
            "2021-09-09     57305700\n",
            "2021-09-17     53477900\n",
            "2021-09-25     74150700\n",
            "2021-10-03     58718700\n",
            "2021-10-11     64452200\n",
            "2021-10-19     50720600\n",
            "2021-10-27     54511500\n",
            "2021-11-04     41000000\n",
            "2021-11-12     59222800\n",
            "2021-11-20     69463600\n",
            "2021-11-28     88748200\n",
            "2021-12-06    107497000\n",
            "2021-12-14     91185900\n",
            "2021-12-22     62348900\n",
            "2021-12-30     59773000\n",
            "Freq: 8D, Name: Volume, dtype: int64\n",
            "Date\n",
            "2021-01-10    97664900\n",
            "2021-01-31    88636800\n",
            "2021-02-21    60145100\n",
            "2021-03-14    88105100\n",
            "2021-04-04    75089100\n",
            "2021-04-25    68847100\n",
            "2021-05-16    66015800\n",
            "2021-06-06    56575900\n",
            "2021-06-27    53522400\n",
            "2021-07-18    52485800\n",
            "2021-08-08    46397700\n",
            "2021-08-29    48493500\n",
            "2021-09-19    57305700\n",
            "2021-10-10    53477900\n",
            "2021-10-31    50720600\n",
            "2021-11-21    41000000\n",
            "2021-12-12    69463600\n",
            "2022-01-02    59773000\n",
            "Freq: 3W-SUN, Name: Volume, dtype: int64\n",
            "Date\n",
            "2021-01-31    88636800\n",
            "2021-07-31    52485800\n",
            "2022-01-31    41000000\n",
            "Freq: 6M, Name: Volume, dtype: int64\n"
          ]
        }
      ]
    },
    {
      "cell_type": "markdown",
      "metadata": {
        "id": "iy4RqsnwL-Bw"
      },
      "source": [
        "Besides the mean() method, other methods can also be used with the resampler:\n",
        "\n"
      ]
    },
    {
      "cell_type": "code",
      "metadata": {
        "colab": {
          "base_uri": "https://localhost:8080/"
        },
        "id": "DNT8Fx9dHW96",
        "outputId": "2409107d-590c-4eb7-ef03-b270e8524802"
      },
      "source": [
        "std = aapl.resample('W').std()#groups the data by week and prints the standar deviation of each\n",
        "max = aapl.resample('W').max()#groups the data by week and prints the max value of each\n",
        "min = aapl.resample('W').min()#groups the data by week and prints the min value of each\n",
        "\n",
        "std2 = miifst.resample('3M').std()#groups the data by 3 month periods and prints the standar deviation of each\n",
        "max2 = miifst.resample('3M').max()#groups the data by 3 month periods and prints the max value of each\n",
        "min2 = miifst.resample('3M').min()#groups the data by 3 month periods and prints the min value of each\n",
        "\n",
        "\n",
        "print(std)\n",
        "print(max)\n",
        "print(min)\n",
        "\n",
        "print(std2)\n",
        "print(max2)\n",
        "print(min2)"
      ],
      "execution_count": null,
      "outputs": [
        {
          "output_type": "stream",
          "name": "stdout",
          "text": [
            "Date\n",
            "2017-01-08    0.202813\n",
            "2017-01-15    0.072332\n",
            "2017-01-22    0.025486\n",
            "2017-01-29    0.244618\n",
            "2017-02-05    0.940686\n",
            "2017-02-12    0.251313\n",
            "2017-02-19    0.230760\n",
            "2017-02-26    0.059183\n",
            "2017-03-05    0.339166\n",
            "2017-03-12    0.076078\n",
            "2017-03-19    0.177349\n",
            "2017-03-26    0.156836\n",
            "2017-04-02    0.318933\n",
            "2017-04-09    0.128338\n",
            "2017-04-16    0.211896\n",
            "2017-04-23    0.174200\n",
            "2017-04-30    0.089781\n",
            "2017-05-07    0.234993\n",
            "2017-05-14    0.352011\n",
            "2017-05-21    0.534632\n",
            "2017-05-28    0.060229\n",
            "2017-06-04    0.280456\n",
            "2017-06-11    0.618342\n",
            "2017-06-18    0.381524\n",
            "2017-06-25    0.128542\n",
            "2017-07-02    0.263390\n",
            "2017-07-09    0.158458\n",
            "2017-07-16    0.403181\n",
            "2017-07-23    0.124645\n",
            "2017-07-30    0.383392\n",
            "2017-08-06    0.921871\n",
            "2017-08-13    0.466196\n",
            "2017-08-20    0.434068\n",
            "2017-08-27    0.275017\n",
            "2017-09-03    0.251037\n",
            "2017-09-10    0.380601\n",
            "2017-09-17    0.293340\n",
            "2017-09-24    0.733185\n",
            "2017-10-01    0.353876\n",
            "2017-10-08    0.204296\n",
            "2017-10-15    0.118404\n",
            "2017-10-22    0.515587\n",
            "2017-10-29    0.678597\n",
            "2017-11-05    0.559154\n",
            "2017-11-12    0.190449\n",
            "2017-11-19    0.435006\n",
            "2017-11-26    0.561505\n",
            "2017-12-03    0.426279\n",
            "2017-12-10    0.072931\n",
            "2017-12-17    0.204701\n",
            "2017-12-24    0.193592\n",
            "2017-12-31    0.189874\n",
            "Freq: W-SUN, Name: Close, dtype: float64\n",
            "Date\n",
            "2017-01-08    27.711329\n",
            "2017-01-15    28.143768\n",
            "2017-01-22    28.202520\n",
            "2017-01-29    28.660814\n",
            "2017-02-05    30.336514\n",
            "2017-02-12    31.256411\n",
            "2017-02-19    32.035343\n",
            "2017-02-26    32.363441\n",
            "2017-03-05    32.996033\n",
            "2017-03-12    32.932301\n",
            "2017-03-19    33.208469\n",
            "2017-03-26    33.390221\n",
            "2017-04-02    34.018074\n",
            "2017-04-09    34.171509\n",
            "2017-04-16    33.793842\n",
            "2017-04-23    33.621540\n",
            "2017-04-30    34.114861\n",
            "2017-05-07    35.160511\n",
            "2017-05-14    36.997913\n",
            "2017-05-21    36.903122\n",
            "2017-05-28    36.497826\n",
            "2017-06-04    36.843861\n",
            "2017-06-11    36.824902\n",
            "2017-06-18    34.743923\n",
            "2017-06-25    34.684662\n",
            "2017-07-02    34.563789\n",
            "2017-07-09    34.172714\n",
            "2017-07-16    35.324608\n",
            "2017-07-23    35.793888\n",
            "2017-07-30    36.372208\n",
            "2017-08-06    37.244423\n",
            "2017-08-13    38.173519\n",
            "2017-08-20    38.451923\n",
            "2017-08-27    38.066444\n",
            "2017-09-03    39.034878\n",
            "2017-09-10    38.566132\n",
            "2017-09-17    38.428120\n",
            "2017-09-24    37.769009\n",
            "2017-10-01    36.698254\n",
            "2017-10-08    36.974270\n",
            "2017-10-15    37.354977\n",
            "2017-10-22    38.183033\n",
            "2017-10-29    38.796932\n",
            "2017-11-05    41.045513\n",
            "2017-11-12    41.935425\n",
            "2017-11-19    41.544098\n",
            "2017-11-26    41.782902\n",
            "2017-12-03    41.572758\n",
            "2017-12-10    40.548309\n",
            "2017-12-17    41.544098\n",
            "2017-12-24    42.129162\n",
            "2017-12-31    40.853970\n",
            "Freq: W-SUN, Name: Close, dtype: float64\n",
            "Date\n",
            "2017-01-08    27.267138\n",
            "2017-01-15    27.965151\n",
            "2017-01-22    28.150814\n",
            "2017-01-29    28.195475\n",
            "2017-02-05    28.519800\n",
            "2017-02-12    30.620888\n",
            "2017-02-19    31.461769\n",
            "2017-02-26    32.226536\n",
            "2017-03-05    32.320953\n",
            "2017-03-12    32.734020\n",
            "2017-03-19    32.807198\n",
            "2017-03-26    33.007828\n",
            "2017-04-02    33.253315\n",
            "2017-04-09    33.833973\n",
            "2017-04-16    33.293438\n",
            "2017-04-23    33.206097\n",
            "2017-04-30    33.904785\n",
            "2017-05-07    34.586941\n",
            "2017-05-14    36.116474\n",
            "2017-05-21    35.611389\n",
            "2017-05-28    36.343761\n",
            "2017-06-04    36.206291\n",
            "2017-06-11    35.310383\n",
            "2017-06-18    33.720013\n",
            "2017-06-25    34.369438\n",
            "2017-07-02    34.054199\n",
            "2017-07-09    33.829041\n",
            "2017-07-16    34.381287\n",
            "2017-07-23    35.447853\n",
            "2017-07-30    35.433636\n",
            "2017-08-06    35.251125\n",
            "2017-08-13    36.957619\n",
            "2017-08-20    37.476337\n",
            "2017-08-27    37.407333\n",
            "2017-09-03    38.420986\n",
            "2017-09-10    37.745213\n",
            "2017-09-17    37.661930\n",
            "2017-09-24    36.141468\n",
            "2017-10-01    35.822620\n",
            "2017-10-08    36.519794\n",
            "2017-10-15    37.081341\n",
            "2017-10-22    37.114658\n",
            "2017-10-29    37.159874\n",
            "2017-11-05    39.670189\n",
            "2017-11-12    41.461914\n",
            "2017-11-19    40.376373\n",
            "2017-11-26    40.591293\n",
            "2017-12-03    40.471886\n",
            "2017-12-10    40.359650\n",
            "2017-12-17    41.002029\n",
            "2017-12-24    41.634850\n",
            "2017-12-31    40.412186\n",
            "Freq: W-SUN, Name: Close, dtype: float64\n",
            "Date\n",
            "2021-01-31    2.677040e+07\n",
            "2021-04-30    2.802019e+07\n",
            "2021-07-31    2.022316e+07\n",
            "2021-10-31    2.140026e+07\n",
            "2022-01-31    3.703779e+07\n",
            "Freq: 3M, Name: Volume, dtype: float64\n",
            "Date\n",
            "2021-01-31    177523800\n",
            "2021-04-30    185549500\n",
            "2021-07-31    137564700\n",
            "2021-10-31    140646400\n",
            "2022-01-31    195432700\n",
            "Freq: 3M, Name: Volume, dtype: int64\n",
            "Date\n",
            "2021-01-31    88636800\n",
            "2021-04-30    60145100\n",
            "2021-07-31    52485800\n",
            "2021-10-31    46397700\n",
            "2022-01-31    41000000\n",
            "Freq: 3M, Name: Volume, dtype: int64\n"
          ]
        }
      ]
    },
    {
      "cell_type": "markdown",
      "metadata": {
        "id": "uqln0s5DMI3I"
      },
      "source": [
        "Often we want to calculate monthly returns of a stock, based on prices on the last day of each month. To fetch those prices, we use the series.resample.agg() method:"
      ]
    },
    {
      "cell_type": "code",
      "metadata": {
        "colab": {
          "base_uri": "https://localhost:8080/"
        },
        "id": "A6FSYvqbHW97",
        "outputId": "b39fb4a4-1208-426b-81ca-c9816934a699"
      },
      "source": [
        "last_day = aapl.resample('M').agg(lambda x: x[-1]) #groups the data by month and returns the value of the last day of each month\n",
        "print(last_day)\n",
        "\n",
        "second_last_day = miifst.resample('6W').agg(lambda x: x[-2]) #groups the data by 6 week periods and returns the value of the second to last day of each period\n",
        "print(second_last_day)"
      ],
      "execution_count": null,
      "outputs": [
        {
          "output_type": "stream",
          "name": "stdout",
          "text": [
            "Date\n",
            "2017-01-31    28.519800\n",
            "2017-02-28    32.335114\n",
            "2017-03-31    33.909500\n",
            "2017-04-30    33.907139\n",
            "2017-05-31    36.206291\n",
            "2017-06-30    34.134796\n",
            "2017-07-31    35.251125\n",
            "2017-08-31    39.022984\n",
            "2017-09-30    36.672081\n",
            "2017-10-31    40.222221\n",
            "2017-11-30    41.037846\n",
            "2017-12-31    40.412186\n",
            "Freq: M, Name: Close, dtype: float64\n",
            "Date\n",
            "2021-01-10    109578200\n",
            "2021-02-21     96856700\n",
            "2021-04-04    118323800\n",
            "2021-05-16    105861300\n",
            "2021-06-27     68711000\n",
            "2021-08-08     46397700\n",
            "2021-09-19     68034100\n",
            "2021-10-31    100077900\n",
            "2021-12-12    108923700\n",
            "2022-01-23     62348900\n",
            "Freq: 6W-SUN, Name: Volume, dtype: int64\n"
          ]
        }
      ]
    },
    {
      "cell_type": "markdown",
      "metadata": {
        "id": "uwomY3aXMR46"
      },
      "source": [
        "Or directly calculate the monthly rates of return using the data for the first day and the last day:"
      ]
    },
    {
      "cell_type": "code",
      "metadata": {
        "colab": {
          "base_uri": "https://localhost:8080/"
        },
        "id": "qK2NMJrNHW96",
        "outputId": "b09015e3-68d0-4f26-8bbd-3cbf0e44fdc8"
      },
      "source": [
        "monthly_return = aapl.resample('M').agg(lambda x: x[-1]/x[0] - 1)#groups the data by month and returns the a value calculated by comparing the first and last day\n",
        "print(monthly_return)\n",
        "\n",
        "six_week_return = miifst.resample('6W').agg(lambda x: x[-2]/x[1] - 1)#groups the data by 6 weeks and returns the a value calculated by comparing the second and second to last day\n",
        "print(six_week_return)"
      ],
      "execution_count": null,
      "outputs": [
        {
          "output_type": "stream",
          "name": "stdout",
          "text": [
            "Date\n",
            "2017-01-31    0.044770\n",
            "2017-02-28    0.068613\n",
            "2017-03-31    0.027684\n",
            "2017-04-30   -0.000348\n",
            "2017-05-31    0.046463\n",
            "2017-06-30   -0.059799\n",
            "2017-07-31    0.036446\n",
            "2017-08-31    0.097261\n",
            "2017-09-30   -0.060530\n",
            "2017-10-31    0.099018\n",
            "2017-11-30    0.033422\n",
            "2017-12-31   -0.010640\n",
            "Freq: M, Name: Close, dtype: float64\n",
            "Date\n",
            "2021-01-10    0.121981\n",
            "2021-02-21    0.053350\n",
            "2021-04-04   -0.252407\n",
            "2021-05-16    0.320439\n",
            "2021-06-27    0.084747\n",
            "2021-08-08   -0.281281\n",
            "2021-09-19   -0.014329\n",
            "2021-10-31    0.319697\n",
            "2021-12-12    0.575818\n",
            "2022-01-23   -0.552671\n",
            "Freq: 6W-SUN, Name: Volume, dtype: float64\n"
          ]
        }
      ]
    },
    {
      "cell_type": "markdown",
      "metadata": {
        "id": "_DYbMTFWMj8J"
      },
      "source": [
        "Series object also provides us some convenient methods to do some quick calculation."
      ]
    },
    {
      "cell_type": "code",
      "metadata": {
        "colab": {
          "base_uri": "https://localhost:8080/"
        },
        "id": "1Mxc0HwvHW98",
        "outputId": "f934a357-8aff-4dfc-efbd-9362aaff5a7f"
      },
      "source": [
        "print(monthly_return.mean())#returns the mean of the selected data\n",
        "print(monthly_return.std())#returns the standar deviation of the selected data\n",
        "print(monthly_return.max())#returns the max value of the selected data\n",
        "\n",
        "print(six_week_return.mean())#returns the mean of the selected data\n",
        "print(six_week_return.std())#returns the standar of the selected data\n",
        "print(six_week_return.min())#returns the min value of the selected data"
      ],
      "execution_count": null,
      "outputs": [
        {
          "output_type": "stream",
          "name": "stdout",
          "text": [
            "0.02686324930491261\n",
            "0.052258469973495286\n",
            "0.09901824363692846\n",
            "0.03753447546664947\n",
            "0.33262453957639954\n",
            "-0.5526709637796994\n"
          ]
        }
      ]
    },
    {
      "cell_type": "markdown",
      "metadata": {
        "id": "mn59J5dqMpqX"
      },
      "source": [
        "Another two methods frequently used on Series are .diff() and .pct_change(). The former calculates the difference between consecutive elements, and the latter calculates the percentage change."
      ]
    },
    {
      "cell_type": "code",
      "metadata": {
        "colab": {
          "base_uri": "https://localhost:8080/"
        },
        "id": "DupZTSqqHW99",
        "outputId": "0649d1a6-9d9d-45a8-cf44-d4bdeb334232"
      },
      "source": [
        "print(last_day.diff())#calculates the difference between consecutive data \n",
        "print(last_day.pct_change()) #calculates the percentage change between consecutive data \n",
        "\n",
        "print(six_week_return.diff())#calculates the difference between consecutive data \n",
        "print(six_week_return.pct_change()) #calculates the percentage change between consecutive data "
      ],
      "execution_count": null,
      "outputs": [
        {
          "output_type": "stream",
          "name": "stdout",
          "text": [
            "Date\n",
            "2021-01-10           NaN\n",
            "2021-02-21   -12721500.0\n",
            "2021-04-04    21467100.0\n",
            "2021-05-16   -12462500.0\n",
            "2021-06-27   -37150300.0\n",
            "2021-08-08   -22313300.0\n",
            "2021-09-19    21636400.0\n",
            "2021-10-31    32043800.0\n",
            "2021-12-12     8845800.0\n",
            "2022-01-23   -46574800.0\n",
            "Freq: 6W-SUN, Name: Volume, dtype: float64\n",
            "Date\n",
            "2021-01-10         NaN\n",
            "2021-02-21   -0.116095\n",
            "2021-04-04    0.221638\n",
            "2021-05-16   -0.105325\n",
            "2021-06-27   -0.350934\n",
            "2021-08-08   -0.324741\n",
            "2021-09-19    0.466325\n",
            "2021-10-31    0.470996\n",
            "2021-12-12    0.088389\n",
            "2022-01-23   -0.427591\n",
            "Freq: 6W-SUN, Name: Volume, dtype: float64\n",
            "Date\n",
            "2021-01-10         NaN\n",
            "2021-02-21   -0.068631\n",
            "2021-04-04   -0.305757\n",
            "2021-05-16    0.572846\n",
            "2021-06-27   -0.235692\n",
            "2021-08-08   -0.366028\n",
            "2021-09-19    0.266952\n",
            "2021-10-31    0.334026\n",
            "2021-12-12    0.256121\n",
            "2022-01-23   -1.128489\n",
            "Freq: 6W-SUN, Name: Volume, dtype: float64\n",
            "Date\n",
            "2021-01-10          NaN\n",
            "2021-02-21    -0.562637\n",
            "2021-04-04    -5.731143\n",
            "2021-05-16    -2.269533\n",
            "2021-06-27    -0.735529\n",
            "2021-08-08    -4.319079\n",
            "2021-09-19    -0.949060\n",
            "2021-10-31   -23.311907\n",
            "2021-12-12     0.801137\n",
            "2022-01-23    -1.959801\n",
            "Freq: 6W-SUN, Name: Volume, dtype: float64\n"
          ]
        }
      ]
    },
    {
      "cell_type": "markdown",
      "metadata": {
        "id": "RaMAOFepM6Io"
      },
      "source": [
        "Notice that we induced a NaN value while calculating percentage changes i.e. returns.\n",
        "\n",
        "When dealing with NaN values, we usually either removing the data point or fill it with a specific value. Here we fill it with 0:"
      ]
    },
    {
      "cell_type": "code",
      "metadata": {
        "colab": {
          "base_uri": "https://localhost:8080/"
        },
        "id": "-xyLb3A3HW99",
        "outputId": "31a84fe5-927c-475d-9910-1bb3c6d9a04c"
      },
      "source": [
        "daily_return = last_day.pct_change()#calculates the percentage change between consecutive data \n",
        "print(daily_return.fillna(0))#Replaces the NaN value with the given (0)\n",
        "\n",
        "week_return = six_week_return.diff()#calculates the percentage change between consecutive data \n",
        "print(week_return.fillna('zero'))#Replaces the NaN value with the given ('zero')"
      ],
      "execution_count": null,
      "outputs": [
        {
          "output_type": "stream",
          "name": "stdout",
          "text": [
            "Date\n",
            "2021-01-10    0.000000\n",
            "2021-02-21   -0.116095\n",
            "2021-04-04    0.221638\n",
            "2021-05-16   -0.105325\n",
            "2021-06-27   -0.350934\n",
            "2021-08-08   -0.324741\n",
            "2021-09-19    0.466325\n",
            "2021-10-31    0.470996\n",
            "2021-12-12    0.088389\n",
            "2022-01-23   -0.427591\n",
            "Freq: 6W-SUN, Name: Volume, dtype: float64\n",
            "Date\n",
            "2021-01-10        zero\n",
            "2021-02-21   -0.068631\n",
            "2021-04-04   -0.305757\n",
            "2021-05-16    0.572846\n",
            "2021-06-27   -0.235692\n",
            "2021-08-08   -0.366028\n",
            "2021-09-19    0.266952\n",
            "2021-10-31    0.334026\n",
            "2021-12-12    0.256121\n",
            "2022-01-23   -1.128489\n",
            "Freq: 6W-SUN, Name: Volume, dtype: object\n"
          ]
        }
      ]
    },
    {
      "cell_type": "markdown",
      "metadata": {
        "id": "BYS10Om1NQVC"
      },
      "source": [
        "Alternatively, we can fill a NaN with the next fitted value. This is called 'backward fill', or 'bfill' in short:"
      ]
    },
    {
      "cell_type": "code",
      "metadata": {
        "colab": {
          "base_uri": "https://localhost:8080/"
        },
        "id": "J513kHeKHW9-",
        "outputId": "737a8063-9db8-451c-c4be-8623cf39e8e0"
      },
      "source": [
        "daily_return = last_day.pct_change()\n",
        "print(daily_return.fillna(method = 'bfill'))#Replaces the NaN value with the next value\n",
        "\n",
        "week_return = six_week_return.diff()\n",
        "print(week_return.fillna(method = 'bfill'))#Replaces the NaN value with the next value"
      ],
      "execution_count": null,
      "outputs": [
        {
          "output_type": "stream",
          "name": "stdout",
          "text": [
            "Date\n",
            "2021-01-10   -0.116095\n",
            "2021-02-21   -0.116095\n",
            "2021-04-04    0.221638\n",
            "2021-05-16   -0.105325\n",
            "2021-06-27   -0.350934\n",
            "2021-08-08   -0.324741\n",
            "2021-09-19    0.466325\n",
            "2021-10-31    0.470996\n",
            "2021-12-12    0.088389\n",
            "2022-01-23   -0.427591\n",
            "Freq: 6W-SUN, Name: Volume, dtype: float64\n",
            "Date\n",
            "2021-01-10   -0.068631\n",
            "2021-02-21   -0.068631\n",
            "2021-04-04   -0.305757\n",
            "2021-05-16    0.572846\n",
            "2021-06-27   -0.235692\n",
            "2021-08-08   -0.366028\n",
            "2021-09-19    0.266952\n",
            "2021-10-31    0.334026\n",
            "2021-12-12    0.256121\n",
            "2022-01-23   -1.128489\n",
            "Freq: 6W-SUN, Name: Volume, dtype: float64\n"
          ]
        }
      ]
    },
    {
      "cell_type": "markdown",
      "metadata": {
        "id": "bj8QUSgdNepf"
      },
      "source": [
        "As expected, since there is a 'backward fill' method, there must be a 'forward fill' method, or 'ffill' in short. However we can't use it here because the NaN is the first value.\n",
        "\n",
        "We can also simply remove NaN values by **_.dropna()_**"
      ]
    },
    {
      "cell_type": "code",
      "metadata": {
        "colab": {
          "base_uri": "https://localhost:8080/"
        },
        "id": "WG5ux1lqHW9-",
        "outputId": "4c0f23f6-b624-4bc5-b60c-a6471d98b9ba"
      },
      "source": [
        "daily_return = last_day.pct_change()\n",
        "daily_return.dropna()#deletes the NaN value\n",
        "\n",
        "print(week_return.dropna())"
      ],
      "execution_count": null,
      "outputs": [
        {
          "output_type": "stream",
          "name": "stdout",
          "text": [
            "Date\n",
            "2021-02-21   -0.068631\n",
            "2021-04-04   -0.305757\n",
            "2021-05-16    0.572846\n",
            "2021-06-27   -0.235692\n",
            "2021-08-08   -0.366028\n",
            "2021-09-19    0.266952\n",
            "2021-10-31    0.334026\n",
            "2021-12-12    0.256121\n",
            "2022-01-23   -1.128489\n",
            "Freq: 6W-SUN, Name: Volume, dtype: float64\n"
          ]
        }
      ]
    },
    {
      "cell_type": "markdown",
      "metadata": {
        "id": "nQH2eBWkNjdC"
      },
      "source": [
        "# DataFrame\n",
        "The **DataFrame** is the most commonly used data structure in Pandas. It is essentially a table, just like an Excel spreadsheet.\n",
        "\n",
        "More precisely, a DataFrame is a collection of Series objects, each of which may contain different data types. A DataFrame can be created from various data types: dictionary, 2-D numpy.ndarray, a Series or another DataFrame.\n",
        "\n",
        "## Create DataFrames\n",
        "The most common method of creating a DataFrame is passing a dictionary:"
      ]
    },
    {
      "cell_type": "code",
      "metadata": {
        "colab": {
          "base_uri": "https://localhost:8080/"
        },
        "id": "vd5Wf1ohHW9-",
        "outputId": "09ffb7c0-2a44-4a74-f7df-9d07b0a1fdaa"
      },
      "source": [
        "import pandas as pd\n",
        "\n",
        "dict = {'AAPL': [143.5, 144.09, 142.73, 144.18, 143.77],'GOOG':[898.7, 911.71, 906.69, 918.59, 926.99],\n",
        "        'IBM':[155.58, 153.67, 152.36, 152.94, 153.49]} #creates a dictionary with list as values\n",
        "data_index = pd.date_range('2017-07-03',periods = 5, freq = 'D') #determines the index (range of dates in this case)\n",
        "df = pd.DataFrame(dict, index = data_index)#creates dataframe using dictionary an index\n",
        "print(df)\n",
        "\n",
        "ndict={'Name':['Ana','Juan','María'],'Age':[3,15,34], 'Hight':[0.80,1.56,1.63]}#creates a dictionary with list as values\n",
        "nindex=[1,2,3]#determines the index\n",
        "ndf = pd.DataFrame(ndict, index = nindex)#creates dataframe using dictionary an index\n",
        "print(ndf)"
      ],
      "execution_count": null,
      "outputs": [
        {
          "output_type": "stream",
          "name": "stdout",
          "text": [
            "              AAPL    GOOG     IBM\n",
            "2017-07-03  143.50  898.70  155.58\n",
            "2017-07-04  144.09  911.71  153.67\n",
            "2017-07-05  142.73  906.69  152.36\n",
            "2017-07-06  144.18  918.59  152.94\n",
            "2017-07-07  143.77  926.99  153.49\n",
            "    Name  Age  Hight\n",
            "1    Ana    3   0.80\n",
            "2   Juan   15   1.56\n",
            "3  María   34   1.63\n"
          ]
        }
      ]
    },
    {
      "cell_type": "markdown",
      "metadata": {
        "id": "0uYmLQTgOPnX"
      },
      "source": [
        "## Manipulating DataFrames\n",
        "We can fetch values in a DataFrame by columns and index. Each column in a DataFrame is essentially a Pandas Series. We can fetch a column by square brackets: **df['column_name']**\n",
        "\n",
        "If a column name contains no spaces, then we can also use df.column_name to fetch a column:"
      ]
    },
    {
      "cell_type": "code",
      "metadata": {
        "colab": {
          "base_uri": "https://localhost:8080/"
        },
        "id": "2pB2f7lBHW9_",
        "outputId": "6cf7b97d-430f-446d-d5bf-3af441c0218d"
      },
      "source": [
        "df = aapl_table\n",
        "print(df.Close.tail(5))#selects the last 5 values of the given column\n",
        "print(df['Volume'].tail(5))\n",
        "\n",
        "\n",
        "print(ndf.Age.tail(2))#selects the last 2 values of the given column\n",
        "print(ndf['Name'].tail(2))"
      ],
      "execution_count": null,
      "outputs": [
        {
          "output_type": "stream",
          "name": "stdout",
          "text": [
            "Date\n",
            "2017-12-22    41.792458\n",
            "2017-12-26    40.732178\n",
            "2017-12-27    40.739346\n",
            "2017-12-28    40.853970\n",
            "2017-12-29    40.412186\n",
            "Name: Close, dtype: float64\n",
            "Date\n",
            "2017-12-22     65397600\n",
            "2017-12-26    132742000\n",
            "2017-12-27     85992800\n",
            "2017-12-28     65920800\n",
            "2017-12-29    103999600\n",
            "Name: Volume, dtype: int64\n",
            "2    15\n",
            "3    34\n",
            "Name: Age, dtype: int64\n",
            "2     Juan\n",
            "3    María\n",
            "Name: Name, dtype: object\n"
          ]
        }
      ]
    },
    {
      "cell_type": "markdown",
      "metadata": {
        "id": "z0ugOel9O4-P"
      },
      "source": [
        "All the methods we applied to a Series index such as iloc[], loc[] and resampling methods, can also be applied to a DataFrame:"
      ]
    },
    {
      "cell_type": "code",
      "metadata": {
        "colab": {
          "base_uri": "https://localhost:8080/"
        },
        "id": "_8dfjkedHW9_",
        "outputId": "fd9c5370-5547-4685-9b86-248ecd43b2af"
      },
      "source": [
        "aapl_2016 = df['2016']#selects the values from the period given\n",
        "aapl_month = aapl_2016.resample('M').agg(lambda x: x[-1])#groups them by month and prints the value of the last day\n",
        "print(aapl_month)\n",
        "\n",
        "aapl_2019= df['2016']\n",
        "aapl_day = aapl_2019.resample('2M').agg(lambda x: x[-2])\n",
        "print(aapl_day)"
      ],
      "execution_count": null,
      "outputs": [
        {
          "output_type": "stream",
          "name": "stdout",
          "text": [
            "                 Open       High        Low      Close     Volume  Dividends  \\\n",
            "Date                                                                           \n",
            "2016-01-31  21.792771  22.379030  21.691612  22.379030  257666000        0.0   \n",
            "2016-02-29  22.389512  22.706192  22.340970  22.350216  140865200        0.0   \n",
            "2016-03-31  25.362144  25.403752  25.167974  25.193401  103553600        0.0   \n",
            "2016-04-30  21.726098  21.894841  21.383993  21.668310  274126000        0.0   \n",
            "2016-05-31  23.163044  23.349094  22.981647  23.223511  169228800        0.0   \n",
            "2016-06-30  21.963034  22.272338  21.930475  22.232803  143345600        0.0   \n",
            "2016-07-31  24.230499  24.314221  24.111893  24.235149  110934800        0.0   \n",
            "2016-08-31  24.705476  24.918251  24.700798  24.808355  118649600        0.0   \n",
            "2016-09-30  26.295459  26.508237  26.141139  26.433414  145516400        0.0   \n",
            "2016-10-31  26.573707  26.709324  26.468487  26.547987  105677600        0.0   \n",
            "2016-11-30  26.228347  26.369359  25.915768  25.974524  144649200        0.0   \n",
            "2016-12-31  27.415201  27.544461  27.128475  27.220133  122345200        0.0   \n",
            "\n",
            "            Stock Splits  \n",
            "Date                      \n",
            "2016-01-31             0  \n",
            "2016-02-29             0  \n",
            "2016-03-31             0  \n",
            "2016-04-30             0  \n",
            "2016-05-31             0  \n",
            "2016-06-30             0  \n",
            "2016-07-31             0  \n",
            "2016-08-31             0  \n",
            "2016-09-30             0  \n",
            "2016-10-31             0  \n",
            "2016-11-30             0  \n",
            "2016-12-31             0  \n",
            "                 Open       High        Low      Close     Volume  Dividends  \\\n",
            "Date                                                                           \n",
            "2016-01-31  21.562867  21.730697  21.240999  21.631838  222715200        0.0   \n",
            "2016-03-31  25.114812  25.523953  25.103254  25.325161  182404400        0.0   \n",
            "2016-05-31  23.125834  23.365371  23.081647  23.337463  145364800        0.0   \n",
            "2016-07-31  23.914217  24.290965  23.911891  24.265383  159479200        0.0   \n",
            "2016-09-30  26.459133  26.608778  26.141137  26.229988  143548000        0.0   \n",
            "2016-11-30  26.035632  26.329408  25.868767  26.195446  114115200        0.0   \n",
            "2017-01-31  27.368195  27.523309  27.356445  27.434002   60158000        0.0   \n",
            "\n",
            "            Stock Splits  \n",
            "Date                      \n",
            "2016-01-31             0  \n",
            "2016-03-31             0  \n",
            "2016-05-31             0  \n",
            "2016-07-31             0  \n",
            "2016-09-30             0  \n",
            "2016-11-30             0  \n",
            "2017-01-31             0  \n"
          ]
        },
        {
          "output_type": "stream",
          "name": "stderr",
          "text": [
            "/usr/local/lib/python3.7/dist-packages/ipykernel_launcher.py:1: FutureWarning: Indexing a DataFrame with a datetimelike index using a single string to slice the rows, like `frame[string]`, is deprecated and will be removed in a future version. Use `frame.loc[string]` instead.\n",
            "  \"\"\"Entry point for launching an IPython kernel.\n",
            "/usr/local/lib/python3.7/dist-packages/ipykernel_launcher.py:5: FutureWarning: Indexing a DataFrame with a datetimelike index using a single string to slice the rows, like `frame[string]`, is deprecated and will be removed in a future version. Use `frame.loc[string]` instead.\n",
            "  \"\"\"\n"
          ]
        }
      ]
    },
    {
      "cell_type": "markdown",
      "metadata": {
        "id": "CqrbrbFZPTJe"
      },
      "source": [
        "We may select certain columns of a DataFrame using their names:"
      ]
    },
    {
      "cell_type": "code",
      "metadata": {
        "colab": {
          "base_uri": "https://localhost:8080/"
        },
        "id": "7bQGeyCAHW9_",
        "outputId": "db59a953-28e4-4703-db9a-f83671c9bde0"
      },
      "source": [
        "aapl_bar = aapl_month[['Open', 'High', 'Low', 'Close']]#selection of columns of Dataframe\n",
        "print(aapl_bar)\n",
        "\n",
        "nndf=ndf[['Name','Age']]\n",
        "print(nndf)"
      ],
      "execution_count": null,
      "outputs": [
        {
          "output_type": "stream",
          "name": "stdout",
          "text": [
            "                 Open       High        Low      Close\n",
            "Date                                                  \n",
            "2016-01-31  21.792771  22.379030  21.691612  22.379030\n",
            "2016-02-29  22.389512  22.706192  22.340970  22.350216\n",
            "2016-03-31  25.362144  25.403752  25.167974  25.193401\n",
            "2016-04-30  21.726098  21.894841  21.383993  21.668310\n",
            "2016-05-31  23.163044  23.349094  22.981647  23.223511\n",
            "2016-06-30  21.963034  22.272338  21.930475  22.232803\n",
            "2016-07-31  24.230499  24.314221  24.111893  24.235149\n",
            "2016-08-31  24.705476  24.918251  24.700798  24.808355\n",
            "2016-09-30  26.295459  26.508237  26.141139  26.433414\n",
            "2016-10-31  26.573707  26.709324  26.468487  26.547987\n",
            "2016-11-30  26.228347  26.369359  25.915768  25.974524\n",
            "2016-12-31  27.415201  27.544461  27.128475  27.220133\n",
            "    Name  Age\n",
            "1    Ana    3\n",
            "2   Juan   15\n",
            "3  María   34\n"
          ]
        }
      ]
    },
    {
      "cell_type": "markdown",
      "metadata": {
        "id": "8CQaZCAQP68O"
      },
      "source": [
        "We can even specify both rows and columns using loc[]. The row indices and column names are separated by a comma:"
      ]
    },
    {
      "cell_type": "code",
      "metadata": {
        "colab": {
          "base_uri": "https://localhost:8080/"
        },
        "id": "YjWWiHVpHW-A",
        "outputId": "73857959-2a09-458e-d6b2-495940393169"
      },
      "source": [
        "print(aapl_month.loc['2016-03':'2016-06',['Open', 'High', 'Low', 'Close']])#selection of columns and rows of Dataframe\n",
        "\n",
        "nndf=ndf.loc[2:3,['Name','Age']]\n",
        "print(nndf)"
      ],
      "execution_count": null,
      "outputs": [
        {
          "output_type": "stream",
          "name": "stdout",
          "text": [
            "                 Open       High        Low      Close\n",
            "Date                                                  \n",
            "2016-03-31  25.362144  25.403752  25.167974  25.193401\n",
            "2016-04-30  21.726098  21.894841  21.383993  21.668310\n",
            "2016-05-31  23.163044  23.349094  22.981647  23.223511\n",
            "2016-06-30  21.963034  22.272338  21.930475  22.232803\n",
            "    Name  Age\n",
            "2   Juan   15\n",
            "3  María   34\n"
          ]
        }
      ]
    },
    {
      "cell_type": "markdown",
      "metadata": {
        "id": "Xcn_pHNLQBEH"
      },
      "source": [
        "The subset methods in DataFrame is quite useful. By writing logical statements in square brackets, we can make customized subsets:"
      ]
    },
    {
      "cell_type": "code",
      "metadata": {
        "colab": {
          "base_uri": "https://localhost:8080/"
        },
        "id": "RxKg4dObHW-A",
        "outputId": "6267def4-d73d-4f8c-9a3c-e7fe7e549868"
      },
      "source": [
        "import numpy as np\n",
        "\n",
        "above = aapl_bar[aapl_bar.Close > np.mean(aapl_bar.Close)]#selects the values where the statement is true\n",
        "print(above)\n",
        "\n",
        "below = aapl_bar[aapl_bar.Low <= np.mean(aapl_bar.Low)]\n",
        "print(below)"
      ],
      "execution_count": null,
      "outputs": [
        {
          "output_type": "stream",
          "name": "stdout",
          "text": [
            "                 Open       High        Low      Close\n",
            "Date                                                  \n",
            "2016-03-31  25.362144  25.403752  25.167974  25.193401\n",
            "2016-08-31  24.705476  24.918251  24.700798  24.808355\n",
            "2016-09-30  26.295459  26.508237  26.141139  26.433414\n",
            "2016-10-31  26.573707  26.709324  26.468487  26.547987\n",
            "2016-11-30  26.228347  26.369359  25.915768  25.974524\n",
            "2016-12-31  27.415201  27.544461  27.128475  27.220133\n",
            "                 Open       High        Low      Close\n",
            "Date                                                  \n",
            "2016-01-31  21.792771  22.379030  21.691612  22.379030\n",
            "2016-02-29  22.389512  22.706192  22.340970  22.350216\n",
            "2016-04-30  21.726098  21.894841  21.383993  21.668310\n",
            "2016-05-31  23.163044  23.349094  22.981647  23.223511\n",
            "2016-06-30  21.963034  22.272338  21.930475  22.232803\n",
            "2016-07-31  24.230499  24.314221  24.111893  24.235149\n"
          ]
        }
      ]
    },
    {
      "cell_type": "markdown",
      "metadata": {
        "id": "wcm_UadkQLL5"
      },
      "source": [
        "## Data Validation\n",
        "As mentioned, all methods that apply to a Series can also be applied to a DataFrame. Here we add a new column to an existing DataFrame:"
      ]
    },
    {
      "cell_type": "code",
      "metadata": {
        "colab": {
          "base_uri": "https://localhost:8080/"
        },
        "id": "jZXFdOVFHW-A",
        "outputId": "5bcd1ca9-c258-4998-ebfb-0e1bd19af479"
      },
      "source": [
        "aapl_bar['rate_return'] = aapl_bar.Close.pct_change()#adds column with specified value\n",
        "print(aapl_bar)\n",
        "aapl_bar['diff'] = aapl_bar.Low.diff()\n",
        "print(aapl_bar)"
      ],
      "execution_count": null,
      "outputs": [
        {
          "output_type": "stream",
          "name": "stdout",
          "text": [
            "                 Open       High        Low      Close  rate_return\n",
            "Date                                                               \n",
            "2016-01-31  21.792771  22.379030  21.691612  22.379030          NaN\n",
            "2016-02-29  22.389512  22.706192  22.340970  22.350216    -0.001288\n",
            "2016-03-31  25.362144  25.403752  25.167974  25.193401     0.127211\n",
            "2016-04-30  21.726098  21.894841  21.383993  21.668310    -0.139921\n",
            "2016-05-31  23.163044  23.349094  22.981647  23.223511     0.071773\n",
            "2016-06-30  21.963034  22.272338  21.930475  22.232803    -0.042660\n",
            "2016-07-31  24.230499  24.314221  24.111893  24.235149     0.090063\n",
            "2016-08-31  24.705476  24.918251  24.700798  24.808355     0.023652\n",
            "2016-09-30  26.295459  26.508237  26.141139  26.433414     0.065505\n",
            "2016-10-31  26.573707  26.709324  26.468487  26.547987     0.004334\n",
            "2016-11-30  26.228347  26.369359  25.915768  25.974524    -0.021601\n",
            "2016-12-31  27.415201  27.544461  27.128475  27.220133     0.047955\n",
            "                 Open       High        Low      Close  rate_return      diff\n",
            "Date                                                                         \n",
            "2016-01-31  21.792771  22.379030  21.691612  22.379030          NaN       NaN\n",
            "2016-02-29  22.389512  22.706192  22.340970  22.350216    -0.001288  0.649357\n",
            "2016-03-31  25.362144  25.403752  25.167974  25.193401     0.127211  2.827005\n",
            "2016-04-30  21.726098  21.894841  21.383993  21.668310    -0.139921 -3.783982\n",
            "2016-05-31  23.163044  23.349094  22.981647  23.223511     0.071773  1.597655\n",
            "2016-06-30  21.963034  22.272338  21.930475  22.232803    -0.042660 -1.051172\n",
            "2016-07-31  24.230499  24.314221  24.111893  24.235149     0.090063  2.181417\n",
            "2016-08-31  24.705476  24.918251  24.700798  24.808355     0.023652  0.588906\n",
            "2016-09-30  26.295459  26.508237  26.141139  26.433414     0.065505  1.440341\n",
            "2016-10-31  26.573707  26.709324  26.468487  26.547987     0.004334  0.327348\n",
            "2016-11-30  26.228347  26.369359  25.915768  25.974524    -0.021601 -0.552719\n",
            "2016-12-31  27.415201  27.544461  27.128475  27.220133     0.047955  1.212706\n"
          ]
        },
        {
          "output_type": "stream",
          "name": "stderr",
          "text": [
            "/usr/local/lib/python3.7/dist-packages/ipykernel_launcher.py:1: SettingWithCopyWarning: \n",
            "A value is trying to be set on a copy of a slice from a DataFrame.\n",
            "Try using .loc[row_indexer,col_indexer] = value instead\n",
            "\n",
            "See the caveats in the documentation: https://pandas.pydata.org/pandas-docs/stable/user_guide/indexing.html#returning-a-view-versus-a-copy\n",
            "  \"\"\"Entry point for launching an IPython kernel.\n",
            "/usr/local/lib/python3.7/dist-packages/ipykernel_launcher.py:3: SettingWithCopyWarning: \n",
            "A value is trying to be set on a copy of a slice from a DataFrame.\n",
            "Try using .loc[row_indexer,col_indexer] = value instead\n",
            "\n",
            "See the caveats in the documentation: https://pandas.pydata.org/pandas-docs/stable/user_guide/indexing.html#returning-a-view-versus-a-copy\n",
            "  This is separate from the ipykernel package so we can avoid doing imports until\n"
          ]
        }
      ]
    },
    {
      "cell_type": "markdown",
      "metadata": {
        "id": "_or6n5-LQUa-"
      },
      "source": [
        "Here the calculation introduced a NaN value. If the DataFrame is large, we would not be able to observe it. **isnull()** provides a convenient way to check abnormal values."
      ]
    },
    {
      "cell_type": "code",
      "metadata": {
        "colab": {
          "base_uri": "https://localhost:8080/"
        },
        "id": "V5wgmhIPHW-B",
        "outputId": "826b2038-f760-4f58-dd41-d7d6b286eed8"
      },
      "source": [
        "missing = aapl_bar.isnull()#checks which values are null \n",
        "print(missing)\n",
        "print('---------------------------------------------')\n",
        "print(missing.describe())#prints info about the table (in this case the missing table), like counts, and frequency"
      ],
      "execution_count": null,
      "outputs": [
        {
          "output_type": "stream",
          "name": "stdout",
          "text": [
            "             Open   High    Low  Close  rate_return   diff\n",
            "Date                                                      \n",
            "2016-01-31  False  False  False  False         True   True\n",
            "2016-02-29  False  False  False  False        False  False\n",
            "2016-03-31  False  False  False  False        False  False\n",
            "2016-04-30  False  False  False  False        False  False\n",
            "2016-05-31  False  False  False  False        False  False\n",
            "2016-06-30  False  False  False  False        False  False\n",
            "2016-07-31  False  False  False  False        False  False\n",
            "2016-08-31  False  False  False  False        False  False\n",
            "2016-09-30  False  False  False  False        False  False\n",
            "2016-10-31  False  False  False  False        False  False\n",
            "2016-11-30  False  False  False  False        False  False\n",
            "2016-12-31  False  False  False  False        False  False\n",
            "---------------------------------------------\n",
            "         Open   High    Low  Close rate_return   diff\n",
            "count      12     12     12     12          12     12\n",
            "unique      1      1      1      1           2      2\n",
            "top     False  False  False  False       False  False\n",
            "freq       12     12     12     12          11     11\n"
          ]
        }
      ]
    },
    {
      "cell_type": "markdown",
      "metadata": {
        "id": "d6KFV4i0QfLW"
      },
      "source": [
        "The row labelled \"unique\" indicates the number of unique values in each column. Since the \"rate_return\" column has 2 unique values, it has at least one missing value.\n",
        "\n",
        "We can deduce the number of missing values by comparing \"count\" with \"freq\". There are 12 counts and 11 False values, so there is one True value which corresponds to the missing value.\n",
        "\n",
        "We can also find the rows with missing values easily:"
      ]
    },
    {
      "cell_type": "code",
      "metadata": {
        "colab": {
          "base_uri": "https://localhost:8080/"
        },
        "id": "Eo0ZAhCsHW-B",
        "outputId": "b41b0aa8-706c-46fc-a62d-84d8bd7e10c1"
      },
      "source": [
        "print(missing[missing.rate_return == True])#returns the rows where there is a null value in the specific column\n",
        "\n",
        "print(missing[missing.Low == True])"
      ],
      "execution_count": null,
      "outputs": [
        {
          "output_type": "stream",
          "name": "stdout",
          "text": [
            "             Open   High    Low  Close  rate_return  diff\n",
            "Date                                                     \n",
            "2016-01-31  False  False  False  False         True  True\n",
            "Empty DataFrame\n",
            "Columns: [Open, High, Low, Close, rate_return, diff]\n",
            "Index: []\n"
          ]
        }
      ]
    },
    {
      "cell_type": "markdown",
      "metadata": {
        "id": "qgggpD8OQkZX"
      },
      "source": [
        "Usually when dealing with missing data, we either delete the whole row or fill it with some value. As we introduced in the Series chapter, the same method **dropna()** and **fillna()** can be applied to a DataFrame."
      ]
    },
    {
      "cell_type": "code",
      "metadata": {
        "colab": {
          "base_uri": "https://localhost:8080/"
        },
        "id": "j8PaIokjHW-B",
        "outputId": "50464f3c-d741-4c4d-9af7-15917f777c08"
      },
      "source": [
        "drop = aapl_bar.dropna()\n",
        "print(drop)#deletes the rows with NaN\n",
        "print('\\n--------------------------------------------------\\n')\n",
        "fill = aapl_bar.fillna(0)#Changes the  NaN values for o\n",
        "print(fill)\n",
        "\n",
        "print('\\n--------------------------------------------------\\n')\n",
        "fill = aapl_bar.fillna('zero')#Changes the  NaN values for zero\n",
        "print(fill)"
      ],
      "execution_count": null,
      "outputs": [
        {
          "output_type": "stream",
          "name": "stdout",
          "text": [
            "                 Open       High        Low      Close  rate_return      diff\n",
            "Date                                                                         \n",
            "2016-02-29  22.389512  22.706192  22.340970  22.350216    -0.001288  0.649357\n",
            "2016-03-31  25.362144  25.403752  25.167974  25.193401     0.127211  2.827005\n",
            "2016-04-30  21.726098  21.894841  21.383993  21.668310    -0.139921 -3.783982\n",
            "2016-05-31  23.163044  23.349094  22.981647  23.223511     0.071773  1.597655\n",
            "2016-06-30  21.963034  22.272338  21.930475  22.232803    -0.042660 -1.051172\n",
            "2016-07-31  24.230499  24.314221  24.111893  24.235149     0.090063  2.181417\n",
            "2016-08-31  24.705476  24.918251  24.700798  24.808355     0.023652  0.588906\n",
            "2016-09-30  26.295459  26.508237  26.141139  26.433414     0.065505  1.440341\n",
            "2016-10-31  26.573707  26.709324  26.468487  26.547987     0.004334  0.327348\n",
            "2016-11-30  26.228347  26.369359  25.915768  25.974524    -0.021601 -0.552719\n",
            "2016-12-31  27.415201  27.544461  27.128475  27.220133     0.047955  1.212706\n",
            "\n",
            "--------------------------------------------------\n",
            "\n",
            "                 Open       High        Low      Close  rate_return      diff\n",
            "Date                                                                         \n",
            "2016-01-31  21.792771  22.379030  21.691612  22.379030     0.000000  0.000000\n",
            "2016-02-29  22.389512  22.706192  22.340970  22.350216    -0.001288  0.649357\n",
            "2016-03-31  25.362144  25.403752  25.167974  25.193401     0.127211  2.827005\n",
            "2016-04-30  21.726098  21.894841  21.383993  21.668310    -0.139921 -3.783982\n",
            "2016-05-31  23.163044  23.349094  22.981647  23.223511     0.071773  1.597655\n",
            "2016-06-30  21.963034  22.272338  21.930475  22.232803    -0.042660 -1.051172\n",
            "2016-07-31  24.230499  24.314221  24.111893  24.235149     0.090063  2.181417\n",
            "2016-08-31  24.705476  24.918251  24.700798  24.808355     0.023652  0.588906\n",
            "2016-09-30  26.295459  26.508237  26.141139  26.433414     0.065505  1.440341\n",
            "2016-10-31  26.573707  26.709324  26.468487  26.547987     0.004334  0.327348\n",
            "2016-11-30  26.228347  26.369359  25.915768  25.974524    -0.021601 -0.552719\n",
            "2016-12-31  27.415201  27.544461  27.128475  27.220133     0.047955  1.212706\n",
            "\n",
            "--------------------------------------------------\n",
            "\n",
            "                 Open       High        Low      Close rate_return      diff\n",
            "Date                                                                        \n",
            "2016-01-31  21.792771  22.379030  21.691612  22.379030        zero      zero\n",
            "2016-02-29  22.389512  22.706192  22.340970  22.350216   -0.001288  0.649357\n",
            "2016-03-31  25.362144  25.403752  25.167974  25.193401    0.127211  2.827005\n",
            "2016-04-30  21.726098  21.894841  21.383993  21.668310   -0.139921 -3.783982\n",
            "2016-05-31  23.163044  23.349094  22.981647  23.223511    0.071773  1.597655\n",
            "2016-06-30  21.963034  22.272338  21.930475  22.232803    -0.04266 -1.051172\n",
            "2016-07-31  24.230499  24.314221  24.111893  24.235149    0.090063  2.181417\n",
            "2016-08-31  24.705476  24.918251  24.700798  24.808355    0.023652  0.588906\n",
            "2016-09-30  26.295459  26.508237  26.141139  26.433414    0.065505  1.440341\n",
            "2016-10-31  26.573707  26.709324  26.468487  26.547987    0.004334  0.327348\n",
            "2016-11-30  26.228347  26.369359  25.915768  25.974524   -0.021601 -0.552719\n",
            "2016-12-31  27.415201  27.544461  27.128475  27.220133    0.047955  1.212706\n"
          ]
        }
      ]
    },
    {
      "cell_type": "markdown",
      "metadata": {
        "id": "0tvoFlKWQxYG"
      },
      "source": [
        "## DataFrame Concat\n",
        "We have seen how to extract a Series from a dataFrame. Now we need to consider how to merge a Series or a DataFrame into another one.\n",
        "\n",
        "In Pandas, the function **concat()** allows us to merge multiple Series into a DataFrame:"
      ]
    },
    {
      "cell_type": "code",
      "metadata": {
        "colab": {
          "base_uri": "https://localhost:8080/"
        },
        "id": "uQrmLIWKHW-C",
        "outputId": "778b1656-fb33-4c93-ac06-ad49f4784cfa"
      },
      "source": [
        "s1 = pd.Series([143.5, 144.09, 142.73, 144.18, 143.77], name = 'AAPL')\n",
        "s2 = pd.Series([898.7, 911.71, 906.69, 918.59, 926.99], name = 'GOOG')\n",
        "data_frame = pd.concat([s1,s2], axis = 1)#concats the 2 individual data frames y 1 data frame\n",
        "print(data_frame)\n",
        "\n",
        "s3=pd.Series([1,2,3,4,5], name='ejemplo')\n",
        "data_frame = pd.concat([data_frame,s3], axis = 1)\n",
        "print(data_frame)"
      ],
      "execution_count": null,
      "outputs": [
        {
          "output_type": "stream",
          "name": "stdout",
          "text": [
            "     AAPL    GOOG\n",
            "0  143.50  898.70\n",
            "1  144.09  911.71\n",
            "2  142.73  906.69\n",
            "3  144.18  918.59\n",
            "4  143.77  926.99\n",
            "     AAPL    GOOG  ejemplo\n",
            "0  143.50  898.70        1\n",
            "1  144.09  911.71        2\n",
            "2  142.73  906.69        3\n",
            "3  144.18  918.59        4\n",
            "4  143.77  926.99        5\n"
          ]
        }
      ]
    },
    {
      "cell_type": "markdown",
      "metadata": {
        "id": "3ojbNYJLR2vv"
      },
      "source": [
        "The \"axis = 1\" parameter will join two DataFrames by columns:"
      ]
    },
    {
      "cell_type": "code",
      "metadata": {
        "colab": {
          "base_uri": "https://localhost:8080/"
        },
        "id": "DJsaLd-cRoIm",
        "outputId": "d274bbe1-1107-43c0-ecdb-a066540100e1"
      },
      "source": [
        "log_price = np.log(aapl_bar.Close)#includes the log of the values in Close\n",
        "log_price.name = 'log_price'\n",
        "print(log_price)\n",
        "print('\\n---------------------- separate line--------------------\\n')\n",
        "concat = pd.concat([aapl_bar, log_price], axis = 1)\n",
        "print(concat)\n",
        "\n",
        "\n",
        "dif_price = aapl_bar.Close-aapl_bar.Open#includes the difference between Close and Open\n",
        "dif_price.name = 'dif_price'\n",
        "print(dif_price)\n",
        "print('\\n---------------------- separate line--------------------\\n')\n",
        "concat = pd.concat([concat, dif_price], axis = 1)\n",
        "print(concat)"
      ],
      "execution_count": null,
      "outputs": [
        {
          "output_type": "stream",
          "name": "stdout",
          "text": [
            "Date\n",
            "2016-01-31    3.108124\n",
            "2016-02-29    3.106836\n",
            "2016-03-31    3.226582\n",
            "2016-04-30    3.075851\n",
            "2016-05-31    3.145165\n",
            "2016-06-30    3.101569\n",
            "2016-07-31    3.187804\n",
            "2016-08-31    3.211181\n",
            "2016-09-30    3.274629\n",
            "2016-10-31    3.278954\n",
            "2016-11-30    3.257116\n",
            "2016-12-31    3.303957\n",
            "Freq: M, Name: log_price, dtype: float64\n",
            "\n",
            "---------------------- separate line--------------------\n",
            "\n",
            "                 Open       High        Low      Close  rate_return      diff  \\\n",
            "Date                                                                            \n",
            "2016-01-31  21.792771  22.379030  21.691612  22.379030          NaN       NaN   \n",
            "2016-02-29  22.389512  22.706192  22.340970  22.350216    -0.001288  0.649357   \n",
            "2016-03-31  25.362144  25.403752  25.167974  25.193401     0.127211  2.827005   \n",
            "2016-04-30  21.726098  21.894841  21.383993  21.668310    -0.139921 -3.783982   \n",
            "2016-05-31  23.163044  23.349094  22.981647  23.223511     0.071773  1.597655   \n",
            "2016-06-30  21.963034  22.272338  21.930475  22.232803    -0.042660 -1.051172   \n",
            "2016-07-31  24.230499  24.314221  24.111893  24.235149     0.090063  2.181417   \n",
            "2016-08-31  24.705476  24.918251  24.700798  24.808355     0.023652  0.588906   \n",
            "2016-09-30  26.295459  26.508237  26.141139  26.433414     0.065505  1.440341   \n",
            "2016-10-31  26.573707  26.709324  26.468487  26.547987     0.004334  0.327348   \n",
            "2016-11-30  26.228347  26.369359  25.915768  25.974524    -0.021601 -0.552719   \n",
            "2016-12-31  27.415201  27.544461  27.128475  27.220133     0.047955  1.212706   \n",
            "\n",
            "            log_price  \n",
            "Date                   \n",
            "2016-01-31   3.108124  \n",
            "2016-02-29   3.106836  \n",
            "2016-03-31   3.226582  \n",
            "2016-04-30   3.075851  \n",
            "2016-05-31   3.145165  \n",
            "2016-06-30   3.101569  \n",
            "2016-07-31   3.187804  \n",
            "2016-08-31   3.211181  \n",
            "2016-09-30   3.274629  \n",
            "2016-10-31   3.278954  \n",
            "2016-11-30   3.257116  \n",
            "2016-12-31   3.303957  \n",
            "Date\n",
            "2016-01-31    0.586259\n",
            "2016-02-29   -0.039296\n",
            "2016-03-31   -0.168743\n",
            "2016-04-30   -0.057788\n",
            "2016-05-31    0.060466\n",
            "2016-06-30    0.269769\n",
            "2016-07-31    0.004650\n",
            "2016-08-31    0.102880\n",
            "2016-09-30    0.137955\n",
            "2016-10-31   -0.025720\n",
            "2016-11-30   -0.253823\n",
            "2016-12-31   -0.195068\n",
            "Freq: M, Name: dif_price, dtype: float64\n",
            "\n",
            "---------------------- separate line--------------------\n",
            "\n",
            "                 Open       High        Low      Close  rate_return      diff  \\\n",
            "Date                                                                            \n",
            "2016-01-31  21.792771  22.379030  21.691612  22.379030          NaN       NaN   \n",
            "2016-02-29  22.389512  22.706192  22.340970  22.350216    -0.001288  0.649357   \n",
            "2016-03-31  25.362144  25.403752  25.167974  25.193401     0.127211  2.827005   \n",
            "2016-04-30  21.726098  21.894841  21.383993  21.668310    -0.139921 -3.783982   \n",
            "2016-05-31  23.163044  23.349094  22.981647  23.223511     0.071773  1.597655   \n",
            "2016-06-30  21.963034  22.272338  21.930475  22.232803    -0.042660 -1.051172   \n",
            "2016-07-31  24.230499  24.314221  24.111893  24.235149     0.090063  2.181417   \n",
            "2016-08-31  24.705476  24.918251  24.700798  24.808355     0.023652  0.588906   \n",
            "2016-09-30  26.295459  26.508237  26.141139  26.433414     0.065505  1.440341   \n",
            "2016-10-31  26.573707  26.709324  26.468487  26.547987     0.004334  0.327348   \n",
            "2016-11-30  26.228347  26.369359  25.915768  25.974524    -0.021601 -0.552719   \n",
            "2016-12-31  27.415201  27.544461  27.128475  27.220133     0.047955  1.212706   \n",
            "\n",
            "            log_price  dif_price  \n",
            "Date                              \n",
            "2016-01-31   3.108124   0.586259  \n",
            "2016-02-29   3.106836  -0.039296  \n",
            "2016-03-31   3.226582  -0.168743  \n",
            "2016-04-30   3.075851  -0.057788  \n",
            "2016-05-31   3.145165   0.060466  \n",
            "2016-06-30   3.101569   0.269769  \n",
            "2016-07-31   3.187804   0.004650  \n",
            "2016-08-31   3.211181   0.102880  \n",
            "2016-09-30   3.274629   0.137955  \n",
            "2016-10-31   3.278954  -0.025720  \n",
            "2016-11-30   3.257116  -0.253823  \n",
            "2016-12-31   3.303957  -0.195068  \n"
          ]
        }
      ]
    },
    {
      "cell_type": "markdown",
      "metadata": {
        "id": "mIZz-FUyR_62"
      },
      "source": [
        "We can also join two DataFrames by rows. Consider these two DataFrames:"
      ]
    },
    {
      "cell_type": "code",
      "metadata": {
        "colab": {
          "base_uri": "https://localhost:8080/"
        },
        "id": "W7uXZptLHW-C",
        "outputId": "e0472e63-6523-4411-d90b-0e54d7ec09d2"
      },
      "source": [
        "df_volume = aapl_table.loc['2016-10':'2017-04',['Volume', 'Stock Splits']].resample('M').agg(lambda x: x[-1])#creation of df\n",
        "print(df_volume)\n",
        "print('\\n---------------------- separate line--------------------\\n')\n",
        "df_2017 = aapl_table.loc['2016-10':'2017-04',['Open', 'High', 'Low', 'Close']].resample('M').agg(lambda x: x[-1])\n",
        "print(df_2017)"
      ],
      "execution_count": null,
      "outputs": [
        {
          "output_type": "stream",
          "name": "stdout",
          "text": [
            "               Volume  Stock Splits\n",
            "Date                               \n",
            "2016-10-31  105677600             0\n",
            "2016-11-30  144649200             0\n",
            "2016-12-31  122345200             0\n",
            "2017-01-31  196804000             0\n",
            "2017-02-28   93931600             0\n",
            "2017-03-31   78646800             0\n",
            "2017-04-30   83441600             0\n",
            "\n",
            "---------------------- separate line--------------------\n",
            "\n",
            "                 Open       High        Low      Close\n",
            "Date                                                  \n",
            "2016-10-31  26.573707  26.709324  26.468487  26.547987\n",
            "2016-11-30  26.228347  26.369359  25.915768  25.974524\n",
            "2016-12-31  27.415201  27.544461  27.128475  27.220133\n",
            "2017-01-31  28.472797  28.529201  28.348236  28.519800\n",
            "2017-02-28  32.356356  32.441331  32.266660  32.335114\n",
            "2017-03-31  33.923662  34.053485  33.756072  33.909500\n",
            "2017-04-30  34.010997  34.060567  33.817446  33.907139\n"
          ]
        }
      ]
    },
    {
      "cell_type": "markdown",
      "metadata": {
        "id": "iZk_C9aSSLeP"
      },
      "source": [
        "Now we merge the DataFrames with our DataFrame 'aapl_bar'"
      ]
    },
    {
      "cell_type": "code",
      "metadata": {
        "colab": {
          "base_uri": "https://localhost:8080/"
        },
        "id": "aFqmjokOHW-C",
        "outputId": "7d582369-7892-44fb-a1a6-c485fa135b76"
      },
      "source": [
        "concat = pd.concat([aapl_bar, df_volume], axis = 1)#concat of more columns\n",
        "print(concat)\n",
        "\n",
        "concat2 = pd.concat([aapl_bar, df_2017], axis = 1)\n",
        "print(concat2)"
      ],
      "execution_count": null,
      "outputs": [
        {
          "output_type": "stream",
          "name": "stdout",
          "text": [
            "                 Open       High        Low      Close  rate_return      diff  \\\n",
            "Date                                                                            \n",
            "2016-01-31  21.792771  22.379030  21.691612  22.379030          NaN       NaN   \n",
            "2016-02-29  22.389512  22.706192  22.340970  22.350216    -0.001288  0.649357   \n",
            "2016-03-31  25.362144  25.403752  25.167974  25.193401     0.127211  2.827005   \n",
            "2016-04-30  21.726098  21.894841  21.383993  21.668310    -0.139921 -3.783982   \n",
            "2016-05-31  23.163044  23.349094  22.981647  23.223511     0.071773  1.597655   \n",
            "2016-06-30  21.963034  22.272338  21.930475  22.232803    -0.042660 -1.051172   \n",
            "2016-07-31  24.230499  24.314221  24.111893  24.235149     0.090063  2.181417   \n",
            "2016-08-31  24.705476  24.918251  24.700798  24.808355     0.023652  0.588906   \n",
            "2016-09-30  26.295459  26.508237  26.141139  26.433414     0.065505  1.440341   \n",
            "2016-10-31  26.573707  26.709324  26.468487  26.547987     0.004334  0.327348   \n",
            "2016-11-30  26.228347  26.369359  25.915768  25.974524    -0.021601 -0.552719   \n",
            "2016-12-31  27.415201  27.544461  27.128475  27.220133     0.047955  1.212706   \n",
            "2017-01-31        NaN        NaN        NaN        NaN          NaN       NaN   \n",
            "2017-02-28        NaN        NaN        NaN        NaN          NaN       NaN   \n",
            "2017-03-31        NaN        NaN        NaN        NaN          NaN       NaN   \n",
            "2017-04-30        NaN        NaN        NaN        NaN          NaN       NaN   \n",
            "\n",
            "                 Volume  Stock Splits  \n",
            "Date                                   \n",
            "2016-01-31          NaN           NaN  \n",
            "2016-02-29          NaN           NaN  \n",
            "2016-03-31          NaN           NaN  \n",
            "2016-04-30          NaN           NaN  \n",
            "2016-05-31          NaN           NaN  \n",
            "2016-06-30          NaN           NaN  \n",
            "2016-07-31          NaN           NaN  \n",
            "2016-08-31          NaN           NaN  \n",
            "2016-09-30          NaN           NaN  \n",
            "2016-10-31  105677600.0           0.0  \n",
            "2016-11-30  144649200.0           0.0  \n",
            "2016-12-31  122345200.0           0.0  \n",
            "2017-01-31  196804000.0           0.0  \n",
            "2017-02-28   93931600.0           0.0  \n",
            "2017-03-31   78646800.0           0.0  \n",
            "2017-04-30   83441600.0           0.0  \n",
            "                 Open       High        Low      Close  rate_return      diff  \\\n",
            "Date                                                                            \n",
            "2016-01-31  21.792771  22.379030  21.691612  22.379030          NaN       NaN   \n",
            "2016-02-29  22.389512  22.706192  22.340970  22.350216    -0.001288  0.649357   \n",
            "2016-03-31  25.362144  25.403752  25.167974  25.193401     0.127211  2.827005   \n",
            "2016-04-30  21.726098  21.894841  21.383993  21.668310    -0.139921 -3.783982   \n",
            "2016-05-31  23.163044  23.349094  22.981647  23.223511     0.071773  1.597655   \n",
            "2016-06-30  21.963034  22.272338  21.930475  22.232803    -0.042660 -1.051172   \n",
            "2016-07-31  24.230499  24.314221  24.111893  24.235149     0.090063  2.181417   \n",
            "2016-08-31  24.705476  24.918251  24.700798  24.808355     0.023652  0.588906   \n",
            "2016-09-30  26.295459  26.508237  26.141139  26.433414     0.065505  1.440341   \n",
            "2016-10-31  26.573707  26.709324  26.468487  26.547987     0.004334  0.327348   \n",
            "2016-11-30  26.228347  26.369359  25.915768  25.974524    -0.021601 -0.552719   \n",
            "2016-12-31  27.415201  27.544461  27.128475  27.220133     0.047955  1.212706   \n",
            "2017-01-31        NaN        NaN        NaN        NaN          NaN       NaN   \n",
            "2017-02-28        NaN        NaN        NaN        NaN          NaN       NaN   \n",
            "2017-03-31        NaN        NaN        NaN        NaN          NaN       NaN   \n",
            "2017-04-30        NaN        NaN        NaN        NaN          NaN       NaN   \n",
            "\n",
            "                 Open       High        Low      Close  \n",
            "Date                                                    \n",
            "2016-01-31        NaN        NaN        NaN        NaN  \n",
            "2016-02-29        NaN        NaN        NaN        NaN  \n",
            "2016-03-31        NaN        NaN        NaN        NaN  \n",
            "2016-04-30        NaN        NaN        NaN        NaN  \n",
            "2016-05-31        NaN        NaN        NaN        NaN  \n",
            "2016-06-30        NaN        NaN        NaN        NaN  \n",
            "2016-07-31        NaN        NaN        NaN        NaN  \n",
            "2016-08-31        NaN        NaN        NaN        NaN  \n",
            "2016-09-30        NaN        NaN        NaN        NaN  \n",
            "2016-10-31  26.573707  26.709324  26.468487  26.547987  \n",
            "2016-11-30  26.228347  26.369359  25.915768  25.974524  \n",
            "2016-12-31  27.415201  27.544461  27.128475  27.220133  \n",
            "2017-01-31  28.472797  28.529201  28.348236  28.519800  \n",
            "2017-02-28  32.356356  32.441331  32.266660  32.335114  \n",
            "2017-03-31  33.923662  34.053485  33.756072  33.909500  \n",
            "2017-04-30  34.010997  34.060567  33.817446  33.907139  \n"
          ]
        }
      ]
    },
    {
      "cell_type": "markdown",
      "metadata": {
        "id": "7yI3tgB4SR4O"
      },
      "source": [
        "By default the DataFrame are joined with all of the data. This default options results in zero information loss. We can also merge them by intersection, this is called 'inner join"
      ]
    },
    {
      "cell_type": "code",
      "metadata": {
        "colab": {
          "base_uri": "https://localhost:8080/"
        },
        "id": "31QGLyijHW-C",
        "outputId": "20239f37-09a8-4341-e783-10c89443c7fb"
      },
      "source": [
        "concat = pd.concat([aapl_bar,df_volume],axis = 1, join = 'inner')#only joins the rows that intersect\n",
        "print(concat)\n",
        "concat2 = pd.concat([aapl_bar, df_2017], axis = 1, join = 'inner')\n",
        "print(concat2)"
      ],
      "execution_count": null,
      "outputs": [
        {
          "output_type": "stream",
          "name": "stdout",
          "text": [
            "                 Open       High        Low      Close  rate_return      diff  \\\n",
            "Date                                                                            \n",
            "2016-10-31  26.573707  26.709324  26.468487  26.547987     0.004334  0.327348   \n",
            "2016-11-30  26.228347  26.369359  25.915768  25.974524    -0.021601 -0.552719   \n",
            "2016-12-31  27.415201  27.544461  27.128475  27.220133     0.047955  1.212706   \n",
            "\n",
            "               Volume  Stock Splits  \n",
            "Date                                 \n",
            "2016-10-31  105677600             0  \n",
            "2016-11-30  144649200             0  \n",
            "2016-12-31  122345200             0  \n",
            "                 Open       High        Low      Close  rate_return      diff  \\\n",
            "Date                                                                            \n",
            "2016-10-31  26.573707  26.709324  26.468487  26.547987     0.004334  0.327348   \n",
            "2016-11-30  26.228347  26.369359  25.915768  25.974524    -0.021601 -0.552719   \n",
            "2016-12-31  27.415201  27.544461  27.128475  27.220133     0.047955  1.212706   \n",
            "\n",
            "                 Open       High        Low      Close  \n",
            "Date                                                    \n",
            "2016-10-31  26.573707  26.709324  26.468487  26.547987  \n",
            "2016-11-30  26.228347  26.369359  25.915768  25.974524  \n",
            "2016-12-31  27.415201  27.544461  27.128475  27.220133  \n"
          ]
        }
      ]
    },
    {
      "cell_type": "markdown",
      "metadata": {
        "id": "oudcWMm5Sd0u"
      },
      "source": [
        "Only the intersection part was left if use 'inner join' method. Now let's try to append a DataFrame to another one:"
      ]
    },
    {
      "cell_type": "code",
      "metadata": {
        "colab": {
          "base_uri": "https://localhost:8080/"
        },
        "id": "lgw0qaOsHW-D",
        "outputId": "aff5fd56-845a-447b-8019-ed457390c151"
      },
      "source": [
        "append = aapl_bar.append(df_2017)#adds the data as rows\n",
        "print(append)\n",
        "\n",
        "append2 = aapl_bar.append(df_volume)#adds the data as rows\n",
        "print(append2)"
      ],
      "execution_count": null,
      "outputs": [
        {
          "output_type": "stream",
          "name": "stdout",
          "text": [
            "                 Open       High        Low      Close  rate_return      diff\n",
            "Date                                                                         \n",
            "2016-01-31  21.792771  22.379030  21.691612  22.379030          NaN       NaN\n",
            "2016-02-29  22.389512  22.706192  22.340970  22.350216    -0.001288  0.649357\n",
            "2016-03-31  25.362144  25.403752  25.167974  25.193401     0.127211  2.827005\n",
            "2016-04-30  21.726098  21.894841  21.383993  21.668310    -0.139921 -3.783982\n",
            "2016-05-31  23.163044  23.349094  22.981647  23.223511     0.071773  1.597655\n",
            "2016-06-30  21.963034  22.272338  21.930475  22.232803    -0.042660 -1.051172\n",
            "2016-07-31  24.230499  24.314221  24.111893  24.235149     0.090063  2.181417\n",
            "2016-08-31  24.705476  24.918251  24.700798  24.808355     0.023652  0.588906\n",
            "2016-09-30  26.295459  26.508237  26.141139  26.433414     0.065505  1.440341\n",
            "2016-10-31  26.573707  26.709324  26.468487  26.547987     0.004334  0.327348\n",
            "2016-11-30  26.228347  26.369359  25.915768  25.974524    -0.021601 -0.552719\n",
            "2016-12-31  27.415201  27.544461  27.128475  27.220133     0.047955  1.212706\n",
            "2016-10-31  26.573707  26.709324  26.468487  26.547987          NaN       NaN\n",
            "2016-11-30  26.228347  26.369359  25.915768  25.974524          NaN       NaN\n",
            "2016-12-31  27.415201  27.544461  27.128475  27.220133          NaN       NaN\n",
            "2017-01-31  28.472797  28.529201  28.348236  28.519800          NaN       NaN\n",
            "2017-02-28  32.356356  32.441331  32.266660  32.335114          NaN       NaN\n",
            "2017-03-31  33.923662  34.053485  33.756072  33.909500          NaN       NaN\n",
            "2017-04-30  34.010997  34.060567  33.817446  33.907139          NaN       NaN\n",
            "                 Open       High        Low      Close  rate_return      diff  \\\n",
            "Date                                                                            \n",
            "2016-01-31  21.792771  22.379030  21.691612  22.379030          NaN       NaN   \n",
            "2016-02-29  22.389512  22.706192  22.340970  22.350216    -0.001288  0.649357   \n",
            "2016-03-31  25.362144  25.403752  25.167974  25.193401     0.127211  2.827005   \n",
            "2016-04-30  21.726098  21.894841  21.383993  21.668310    -0.139921 -3.783982   \n",
            "2016-05-31  23.163044  23.349094  22.981647  23.223511     0.071773  1.597655   \n",
            "2016-06-30  21.963034  22.272338  21.930475  22.232803    -0.042660 -1.051172   \n",
            "2016-07-31  24.230499  24.314221  24.111893  24.235149     0.090063  2.181417   \n",
            "2016-08-31  24.705476  24.918251  24.700798  24.808355     0.023652  0.588906   \n",
            "2016-09-30  26.295459  26.508237  26.141139  26.433414     0.065505  1.440341   \n",
            "2016-10-31  26.573707  26.709324  26.468487  26.547987     0.004334  0.327348   \n",
            "2016-11-30  26.228347  26.369359  25.915768  25.974524    -0.021601 -0.552719   \n",
            "2016-12-31  27.415201  27.544461  27.128475  27.220133     0.047955  1.212706   \n",
            "2016-10-31        NaN        NaN        NaN        NaN          NaN       NaN   \n",
            "2016-11-30        NaN        NaN        NaN        NaN          NaN       NaN   \n",
            "2016-12-31        NaN        NaN        NaN        NaN          NaN       NaN   \n",
            "2017-01-31        NaN        NaN        NaN        NaN          NaN       NaN   \n",
            "2017-02-28        NaN        NaN        NaN        NaN          NaN       NaN   \n",
            "2017-03-31        NaN        NaN        NaN        NaN          NaN       NaN   \n",
            "2017-04-30        NaN        NaN        NaN        NaN          NaN       NaN   \n",
            "\n",
            "                 Volume  Stock Splits  \n",
            "Date                                   \n",
            "2016-01-31          NaN           NaN  \n",
            "2016-02-29          NaN           NaN  \n",
            "2016-03-31          NaN           NaN  \n",
            "2016-04-30          NaN           NaN  \n",
            "2016-05-31          NaN           NaN  \n",
            "2016-06-30          NaN           NaN  \n",
            "2016-07-31          NaN           NaN  \n",
            "2016-08-31          NaN           NaN  \n",
            "2016-09-30          NaN           NaN  \n",
            "2016-10-31          NaN           NaN  \n",
            "2016-11-30          NaN           NaN  \n",
            "2016-12-31          NaN           NaN  \n",
            "2016-10-31  105677600.0           0.0  \n",
            "2016-11-30  144649200.0           0.0  \n",
            "2016-12-31  122345200.0           0.0  \n",
            "2017-01-31  196804000.0           0.0  \n",
            "2017-02-28   93931600.0           0.0  \n",
            "2017-03-31   78646800.0           0.0  \n",
            "2017-04-30   83441600.0           0.0  \n"
          ]
        }
      ]
    },
    {
      "cell_type": "markdown",
      "metadata": {
        "id": "zXT6cMquSq_P"
      },
      "source": [
        "'Append' is essentially to concat two DataFrames by axis = 0, thus here is an alternative way to append:"
      ]
    },
    {
      "cell_type": "code",
      "metadata": {
        "colab": {
          "base_uri": "https://localhost:8080/"
        },
        "id": "2EuSaFO9HW-D",
        "outputId": "44156a8c-dcea-47c1-9a74-efdf43b2042b"
      },
      "source": [
        "concat = pd.concat([aapl_bar, df_2017], axis = 0)#concats the data as rows\n",
        "print(concat)\n",
        "\n",
        "concat2 = pd.concat([aapl_bar, df_volume], axis = 0)#concats the data as rows\n",
        "print(concat2)"
      ],
      "execution_count": null,
      "outputs": [
        {
          "output_type": "stream",
          "name": "stdout",
          "text": [
            "                 Open       High        Low      Close  rate_return      diff\n",
            "Date                                                                         \n",
            "2016-01-31  21.792771  22.379030  21.691612  22.379030          NaN       NaN\n",
            "2016-02-29  22.389512  22.706192  22.340970  22.350216    -0.001288  0.649357\n",
            "2016-03-31  25.362144  25.403752  25.167974  25.193401     0.127211  2.827005\n",
            "2016-04-30  21.726098  21.894841  21.383993  21.668310    -0.139921 -3.783982\n",
            "2016-05-31  23.163044  23.349094  22.981647  23.223511     0.071773  1.597655\n",
            "2016-06-30  21.963034  22.272338  21.930475  22.232803    -0.042660 -1.051172\n",
            "2016-07-31  24.230499  24.314221  24.111893  24.235149     0.090063  2.181417\n",
            "2016-08-31  24.705476  24.918251  24.700798  24.808355     0.023652  0.588906\n",
            "2016-09-30  26.295459  26.508237  26.141139  26.433414     0.065505  1.440341\n",
            "2016-10-31  26.573707  26.709324  26.468487  26.547987     0.004334  0.327348\n",
            "2016-11-30  26.228347  26.369359  25.915768  25.974524    -0.021601 -0.552719\n",
            "2016-12-31  27.415201  27.544461  27.128475  27.220133     0.047955  1.212706\n",
            "2016-10-31  26.573707  26.709324  26.468487  26.547987          NaN       NaN\n",
            "2016-11-30  26.228347  26.369359  25.915768  25.974524          NaN       NaN\n",
            "2016-12-31  27.415201  27.544461  27.128475  27.220133          NaN       NaN\n",
            "2017-01-31  28.472797  28.529201  28.348236  28.519800          NaN       NaN\n",
            "2017-02-28  32.356356  32.441331  32.266660  32.335114          NaN       NaN\n",
            "2017-03-31  33.923662  34.053485  33.756072  33.909500          NaN       NaN\n",
            "2017-04-30  34.010997  34.060567  33.817446  33.907139          NaN       NaN\n",
            "                 Open       High        Low      Close  rate_return      diff  \\\n",
            "Date                                                                            \n",
            "2016-01-31  21.792771  22.379030  21.691612  22.379030          NaN       NaN   \n",
            "2016-02-29  22.389512  22.706192  22.340970  22.350216    -0.001288  0.649357   \n",
            "2016-03-31  25.362144  25.403752  25.167974  25.193401     0.127211  2.827005   \n",
            "2016-04-30  21.726098  21.894841  21.383993  21.668310    -0.139921 -3.783982   \n",
            "2016-05-31  23.163044  23.349094  22.981647  23.223511     0.071773  1.597655   \n",
            "2016-06-30  21.963034  22.272338  21.930475  22.232803    -0.042660 -1.051172   \n",
            "2016-07-31  24.230499  24.314221  24.111893  24.235149     0.090063  2.181417   \n",
            "2016-08-31  24.705476  24.918251  24.700798  24.808355     0.023652  0.588906   \n",
            "2016-09-30  26.295459  26.508237  26.141139  26.433414     0.065505  1.440341   \n",
            "2016-10-31  26.573707  26.709324  26.468487  26.547987     0.004334  0.327348   \n",
            "2016-11-30  26.228347  26.369359  25.915768  25.974524    -0.021601 -0.552719   \n",
            "2016-12-31  27.415201  27.544461  27.128475  27.220133     0.047955  1.212706   \n",
            "2016-10-31        NaN        NaN        NaN        NaN          NaN       NaN   \n",
            "2016-11-30        NaN        NaN        NaN        NaN          NaN       NaN   \n",
            "2016-12-31        NaN        NaN        NaN        NaN          NaN       NaN   \n",
            "2017-01-31        NaN        NaN        NaN        NaN          NaN       NaN   \n",
            "2017-02-28        NaN        NaN        NaN        NaN          NaN       NaN   \n",
            "2017-03-31        NaN        NaN        NaN        NaN          NaN       NaN   \n",
            "2017-04-30        NaN        NaN        NaN        NaN          NaN       NaN   \n",
            "\n",
            "                 Volume  Stock Splits  \n",
            "Date                                   \n",
            "2016-01-31          NaN           NaN  \n",
            "2016-02-29          NaN           NaN  \n",
            "2016-03-31          NaN           NaN  \n",
            "2016-04-30          NaN           NaN  \n",
            "2016-05-31          NaN           NaN  \n",
            "2016-06-30          NaN           NaN  \n",
            "2016-07-31          NaN           NaN  \n",
            "2016-08-31          NaN           NaN  \n",
            "2016-09-30          NaN           NaN  \n",
            "2016-10-31          NaN           NaN  \n",
            "2016-11-30          NaN           NaN  \n",
            "2016-12-31          NaN           NaN  \n",
            "2016-10-31  105677600.0           0.0  \n",
            "2016-11-30  144649200.0           0.0  \n",
            "2016-12-31  122345200.0           0.0  \n",
            "2017-01-31  196804000.0           0.0  \n",
            "2017-02-28   93931600.0           0.0  \n",
            "2017-03-31   78646800.0           0.0  \n",
            "2017-04-30   83441600.0           0.0  \n"
          ]
        }
      ]
    },
    {
      "cell_type": "markdown",
      "metadata": {
        "id": "-YXL7V9ASst9"
      },
      "source": [
        "Please note that if the two DataFrame have some columns with the same column names, these columns are considered to be the same and will be merged. It's very important to have the right column names. If we change a column names here:"
      ]
    },
    {
      "cell_type": "code",
      "metadata": {
        "colab": {
          "base_uri": "https://localhost:8080/"
        },
        "id": "aT1eoa8mHW-D",
        "outputId": "971eba2e-0cee-4c93-ce63-59fc8ad58550"
      },
      "source": [
        "df_2017.columns = ['Change', 'High','Low','Close']#the columns with the same name merge, and the different ones are added\n",
        "concat = pd.concat([aapl_bar, df_2017], axis = 0)\n",
        "print(concat)\n",
        "\n",
        "df_2017.columns = ['Changes', 'High','Low','Closes']#the columns with the same name merge, and the different ones are added\n",
        "concat = pd.concat([aapl_bar, df_2017], axis = 0)\n",
        "print(concat)"
      ],
      "execution_count": null,
      "outputs": [
        {
          "output_type": "stream",
          "name": "stdout",
          "text": [
            "                 Open       High        Low      Close  rate_return      diff  \\\n",
            "Date                                                                            \n",
            "2016-01-31  21.792771  22.379030  21.691612  22.379030          NaN       NaN   \n",
            "2016-02-29  22.389512  22.706192  22.340970  22.350216    -0.001288  0.649357   \n",
            "2016-03-31  25.362144  25.403752  25.167974  25.193401     0.127211  2.827005   \n",
            "2016-04-30  21.726098  21.894841  21.383993  21.668310    -0.139921 -3.783982   \n",
            "2016-05-31  23.163044  23.349094  22.981647  23.223511     0.071773  1.597655   \n",
            "2016-06-30  21.963034  22.272338  21.930475  22.232803    -0.042660 -1.051172   \n",
            "2016-07-31  24.230499  24.314221  24.111893  24.235149     0.090063  2.181417   \n",
            "2016-08-31  24.705476  24.918251  24.700798  24.808355     0.023652  0.588906   \n",
            "2016-09-30  26.295459  26.508237  26.141139  26.433414     0.065505  1.440341   \n",
            "2016-10-31  26.573707  26.709324  26.468487  26.547987     0.004334  0.327348   \n",
            "2016-11-30  26.228347  26.369359  25.915768  25.974524    -0.021601 -0.552719   \n",
            "2016-12-31  27.415201  27.544461  27.128475  27.220133     0.047955  1.212706   \n",
            "2016-10-31        NaN  26.709324  26.468487  26.547987          NaN       NaN   \n",
            "2016-11-30        NaN  26.369359  25.915768  25.974524          NaN       NaN   \n",
            "2016-12-31        NaN  27.544461  27.128475  27.220133          NaN       NaN   \n",
            "2017-01-31        NaN  28.529201  28.348236  28.519800          NaN       NaN   \n",
            "2017-02-28        NaN  32.441331  32.266660  32.335114          NaN       NaN   \n",
            "2017-03-31        NaN  34.053485  33.756072  33.909500          NaN       NaN   \n",
            "2017-04-30        NaN  34.060567  33.817446  33.907139          NaN       NaN   \n",
            "\n",
            "               Change  \n",
            "Date                   \n",
            "2016-01-31        NaN  \n",
            "2016-02-29        NaN  \n",
            "2016-03-31        NaN  \n",
            "2016-04-30        NaN  \n",
            "2016-05-31        NaN  \n",
            "2016-06-30        NaN  \n",
            "2016-07-31        NaN  \n",
            "2016-08-31        NaN  \n",
            "2016-09-30        NaN  \n",
            "2016-10-31        NaN  \n",
            "2016-11-30        NaN  \n",
            "2016-12-31        NaN  \n",
            "2016-10-31  26.573707  \n",
            "2016-11-30  26.228347  \n",
            "2016-12-31  27.415201  \n",
            "2017-01-31  28.472797  \n",
            "2017-02-28  32.356356  \n",
            "2017-03-31  33.923662  \n",
            "2017-04-30  34.010997  \n",
            "                 Open       High        Low      Close  rate_return      diff  \\\n",
            "Date                                                                            \n",
            "2016-01-31  21.792771  22.379030  21.691612  22.379030          NaN       NaN   \n",
            "2016-02-29  22.389512  22.706192  22.340970  22.350216    -0.001288  0.649357   \n",
            "2016-03-31  25.362144  25.403752  25.167974  25.193401     0.127211  2.827005   \n",
            "2016-04-30  21.726098  21.894841  21.383993  21.668310    -0.139921 -3.783982   \n",
            "2016-05-31  23.163044  23.349094  22.981647  23.223511     0.071773  1.597655   \n",
            "2016-06-30  21.963034  22.272338  21.930475  22.232803    -0.042660 -1.051172   \n",
            "2016-07-31  24.230499  24.314221  24.111893  24.235149     0.090063  2.181417   \n",
            "2016-08-31  24.705476  24.918251  24.700798  24.808355     0.023652  0.588906   \n",
            "2016-09-30  26.295459  26.508237  26.141139  26.433414     0.065505  1.440341   \n",
            "2016-10-31  26.573707  26.709324  26.468487  26.547987     0.004334  0.327348   \n",
            "2016-11-30  26.228347  26.369359  25.915768  25.974524    -0.021601 -0.552719   \n",
            "2016-12-31  27.415201  27.544461  27.128475  27.220133     0.047955  1.212706   \n",
            "2016-10-31        NaN  26.709324  26.468487        NaN          NaN       NaN   \n",
            "2016-11-30        NaN  26.369359  25.915768        NaN          NaN       NaN   \n",
            "2016-12-31        NaN  27.544461  27.128475        NaN          NaN       NaN   \n",
            "2017-01-31        NaN  28.529201  28.348236        NaN          NaN       NaN   \n",
            "2017-02-28        NaN  32.441331  32.266660        NaN          NaN       NaN   \n",
            "2017-03-31        NaN  34.053485  33.756072        NaN          NaN       NaN   \n",
            "2017-04-30        NaN  34.060567  33.817446        NaN          NaN       NaN   \n",
            "\n",
            "              Changes     Closes  \n",
            "Date                              \n",
            "2016-01-31        NaN        NaN  \n",
            "2016-02-29        NaN        NaN  \n",
            "2016-03-31        NaN        NaN  \n",
            "2016-04-30        NaN        NaN  \n",
            "2016-05-31        NaN        NaN  \n",
            "2016-06-30        NaN        NaN  \n",
            "2016-07-31        NaN        NaN  \n",
            "2016-08-31        NaN        NaN  \n",
            "2016-09-30        NaN        NaN  \n",
            "2016-10-31        NaN        NaN  \n",
            "2016-11-30        NaN        NaN  \n",
            "2016-12-31        NaN        NaN  \n",
            "2016-10-31  26.573707  26.547987  \n",
            "2016-11-30  26.228347  25.974524  \n",
            "2016-12-31  27.415201  27.220133  \n",
            "2017-01-31  28.472797  28.519800  \n",
            "2017-02-28  32.356356  32.335114  \n",
            "2017-03-31  33.923662  33.909500  \n",
            "2017-04-30  34.010997  33.907139  \n"
          ]
        }
      ]
    },
    {
      "cell_type": "markdown",
      "metadata": {
        "id": "shbpOFyyS6uV"
      },
      "source": [
        "Since the column name of 'Open' has been changed, the new DataFrame has an new column named 'Change'.\n",
        "\n",
        "# Summary\n",
        "\n",
        "Hereby we introduced the most import part of python: resampling and DataFrame manipulation. We only introduced the most commonly used method in Financial data analysis. There are also many methods used in data mining, which are also beneficial. You can always check the [Pandas](https://pandas.pydata.org/pandas-docs/stable/index.html) official documentations for help."
      ]
    }
  ]
}